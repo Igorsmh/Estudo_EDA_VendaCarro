{
 "cells": [
  {
   "cell_type": "markdown",
   "metadata": {},
   "source": [
    "# O que vende um carro?\n",
    "\n",
    "VOu tentar determinar quais fatores influenciaram o preço de um veículo."
   ]
  },
  {
   "cell_type": "markdown",
   "metadata": {},
   "source": [
    "## Importação de bibliotecas"
   ]
  },
  {
   "cell_type": "code",
   "execution_count": 1,
   "metadata": {},
   "outputs": [],
   "source": [
    "# Carregando todas as bibliotecas\n",
    "import pandas as pd\n",
    "import numpy as np\n",
    "import matplotlib.pyplot as plt"
   ]
  },
  {
   "cell_type": "markdown",
   "metadata": {},
   "source": [
    "### Carregue dados"
   ]
  },
  {
   "cell_type": "code",
   "execution_count": 2,
   "metadata": {},
   "outputs": [],
   "source": [
    "# Carregue o arquivo com os dados em um DataFrame\n",
    "data_set = pd.read_csv('/datasets/vehicles_us.csv')\n"
   ]
  },
  {
   "cell_type": "markdown",
   "metadata": {},
   "source": [
    "### Explore os dados iniciais"
   ]
  },
  {
   "cell_type": "markdown",
   "metadata": {},
   "source": [
    "O conjunto de dados contém os seguintes campos:\n",
    "- `price`\n",
    "- `model_year`\n",
    "- `model`\n",
    "- `condition`\n",
    "- `cylinders`\n",
    "- `fuel` — gasolina, diesel etc.\n",
    "- `odometer` — a quilometragem do veículo quando a propaganda foi publicada \n",
    "- `transmission`\n",
    "- `paint_color`\n",
    "- `is_4wd` — Se o veículo é 4 por 4 (tipo Booleano)\n",
    "- `date_posted` — a data que a propaganda foi publicada\n",
    "- `days_listed` — dias desde a publicação até a retirada\n",
    "\n",
    "[Entendendo os campos, explore-os para se familiarizar com os dados.]"
   ]
  },
  {
   "cell_type": "code",
   "execution_count": 3,
   "metadata": {},
   "outputs": [
    {
     "name": "stdout",
     "output_type": "stream",
     "text": [
      "<class 'pandas.core.frame.DataFrame'>\n",
      "RangeIndex: 51525 entries, 0 to 51524\n",
      "Data columns (total 13 columns):\n",
      " #   Column        Non-Null Count  Dtype  \n",
      "---  ------        --------------  -----  \n",
      " 0   price         51525 non-null  int64  \n",
      " 1   model_year    47906 non-null  float64\n",
      " 2   model         51525 non-null  object \n",
      " 3   condition     51525 non-null  object \n",
      " 4   cylinders     46265 non-null  float64\n",
      " 5   fuel          51525 non-null  object \n",
      " 6   odometer      43633 non-null  float64\n",
      " 7   transmission  51525 non-null  object \n",
      " 8   type          51525 non-null  object \n",
      " 9   paint_color   42258 non-null  object \n",
      " 10  is_4wd        25572 non-null  float64\n",
      " 11  date_posted   51525 non-null  object \n",
      " 12  days_listed   51525 non-null  int64  \n",
      "dtypes: float64(4), int64(2), object(7)\n",
      "memory usage: 5.1+ MB\n"
     ]
    }
   ],
   "source": [
    "# imprima as informações gerais/resumidas sobre o DataFrame\n",
    "data_set.info()\n"
   ]
  },
  {
   "cell_type": "code",
   "execution_count": 4,
   "metadata": {},
   "outputs": [
    {
     "data": {
      "text/html": [
       "<div>\n",
       "<style scoped>\n",
       "    .dataframe tbody tr th:only-of-type {\n",
       "        vertical-align: middle;\n",
       "    }\n",
       "\n",
       "    .dataframe tbody tr th {\n",
       "        vertical-align: top;\n",
       "    }\n",
       "\n",
       "    .dataframe thead th {\n",
       "        text-align: right;\n",
       "    }\n",
       "</style>\n",
       "<table border=\"1\" class=\"dataframe\">\n",
       "  <thead>\n",
       "    <tr style=\"text-align: right;\">\n",
       "      <th></th>\n",
       "      <th>price</th>\n",
       "      <th>model_year</th>\n",
       "      <th>model</th>\n",
       "      <th>condition</th>\n",
       "      <th>cylinders</th>\n",
       "      <th>fuel</th>\n",
       "      <th>odometer</th>\n",
       "      <th>transmission</th>\n",
       "      <th>type</th>\n",
       "      <th>paint_color</th>\n",
       "      <th>is_4wd</th>\n",
       "      <th>date_posted</th>\n",
       "      <th>days_listed</th>\n",
       "    </tr>\n",
       "  </thead>\n",
       "  <tbody>\n",
       "    <tr>\n",
       "      <th>0</th>\n",
       "      <td>9400</td>\n",
       "      <td>2011.0</td>\n",
       "      <td>bmw x5</td>\n",
       "      <td>good</td>\n",
       "      <td>6.0</td>\n",
       "      <td>gas</td>\n",
       "      <td>145000.0</td>\n",
       "      <td>automatic</td>\n",
       "      <td>SUV</td>\n",
       "      <td>NaN</td>\n",
       "      <td>1.0</td>\n",
       "      <td>2018-06-23</td>\n",
       "      <td>19</td>\n",
       "    </tr>\n",
       "    <tr>\n",
       "      <th>1</th>\n",
       "      <td>25500</td>\n",
       "      <td>NaN</td>\n",
       "      <td>ford f-150</td>\n",
       "      <td>good</td>\n",
       "      <td>6.0</td>\n",
       "      <td>gas</td>\n",
       "      <td>88705.0</td>\n",
       "      <td>automatic</td>\n",
       "      <td>pickup</td>\n",
       "      <td>white</td>\n",
       "      <td>1.0</td>\n",
       "      <td>2018-10-19</td>\n",
       "      <td>50</td>\n",
       "    </tr>\n",
       "    <tr>\n",
       "      <th>2</th>\n",
       "      <td>5500</td>\n",
       "      <td>2013.0</td>\n",
       "      <td>hyundai sonata</td>\n",
       "      <td>like new</td>\n",
       "      <td>4.0</td>\n",
       "      <td>gas</td>\n",
       "      <td>110000.0</td>\n",
       "      <td>automatic</td>\n",
       "      <td>sedan</td>\n",
       "      <td>red</td>\n",
       "      <td>NaN</td>\n",
       "      <td>2019-02-07</td>\n",
       "      <td>79</td>\n",
       "    </tr>\n",
       "    <tr>\n",
       "      <th>3</th>\n",
       "      <td>1500</td>\n",
       "      <td>2003.0</td>\n",
       "      <td>ford f-150</td>\n",
       "      <td>fair</td>\n",
       "      <td>8.0</td>\n",
       "      <td>gas</td>\n",
       "      <td>NaN</td>\n",
       "      <td>automatic</td>\n",
       "      <td>pickup</td>\n",
       "      <td>NaN</td>\n",
       "      <td>NaN</td>\n",
       "      <td>2019-03-22</td>\n",
       "      <td>9</td>\n",
       "    </tr>\n",
       "    <tr>\n",
       "      <th>4</th>\n",
       "      <td>14900</td>\n",
       "      <td>2017.0</td>\n",
       "      <td>chrysler 200</td>\n",
       "      <td>excellent</td>\n",
       "      <td>4.0</td>\n",
       "      <td>gas</td>\n",
       "      <td>80903.0</td>\n",
       "      <td>automatic</td>\n",
       "      <td>sedan</td>\n",
       "      <td>black</td>\n",
       "      <td>NaN</td>\n",
       "      <td>2019-04-02</td>\n",
       "      <td>28</td>\n",
       "    </tr>\n",
       "  </tbody>\n",
       "</table>\n",
       "</div>"
      ],
      "text/plain": [
       "   price  model_year           model  condition  cylinders fuel  odometer  \\\n",
       "0   9400      2011.0          bmw x5       good        6.0  gas  145000.0   \n",
       "1  25500         NaN      ford f-150       good        6.0  gas   88705.0   \n",
       "2   5500      2013.0  hyundai sonata   like new        4.0  gas  110000.0   \n",
       "3   1500      2003.0      ford f-150       fair        8.0  gas       NaN   \n",
       "4  14900      2017.0    chrysler 200  excellent        4.0  gas   80903.0   \n",
       "\n",
       "  transmission    type paint_color  is_4wd date_posted  days_listed  \n",
       "0    automatic     SUV         NaN     1.0  2018-06-23           19  \n",
       "1    automatic  pickup       white     1.0  2018-10-19           50  \n",
       "2    automatic   sedan         red     NaN  2019-02-07           79  \n",
       "3    automatic  pickup         NaN     NaN  2019-03-22            9  \n",
       "4    automatic   sedan       black     NaN  2019-04-02           28  "
      ]
     },
     "execution_count": 4,
     "metadata": {},
     "output_type": "execute_result"
    }
   ],
   "source": [
    "# imprima uma amostragem dos dados\n",
    "\n",
    "data_set.head(5)"
   ]
  },
  {
   "cell_type": "markdown",
   "metadata": {},
   "source": [
    "Temos algumas colunas com informações nulas como : model_year , cylinders, odometer, paint_color, is_4wd. além disso a coluna model_year apresenta dados float, deveria ser substituido por tipo int."
   ]
  },
  {
   "cell_type": "markdown",
   "metadata": {},
   "source": [
    "Na coluna is_4wd, temos os valores 1 e 0 , tvlz seja melhor trocar por true e false "
   ]
  },
  {
   "cell_type": "markdown",
   "metadata": {},
   "source": [
    "Em algumas, model_year , cylinders, odometer, paint_color, is_4wd possuem valores ausentes. is_4wd é o que apresenta o maior número de dados nulos. "
   ]
  },
  {
   "cell_type": "markdown",
   "metadata": {},
   "source": [
    "### Conclusões e próximos passos"
   ]
  },
  {
   "cell_type": "markdown",
   "metadata": {},
   "source": [
    "Existem muitos dados faltates, me chama a atenção principalmente a coluna is_4wd, além disso a coluna date_posted esta com\n",
    "valores object ao inves de data. A coluna modelo_year precisa modificar o tipo dos dados. "
   ]
  },
  {
   "cell_type": "markdown",
   "metadata": {},
   "source": [
    "## Verificando os valores ausentes"
   ]
  },
  {
   "cell_type": "code",
   "execution_count": 5,
   "metadata": {},
   "outputs": [
    {
     "data": {
      "text/plain": [
       "price               0\n",
       "model_year       3619\n",
       "model               0\n",
       "condition           0\n",
       "cylinders        5260\n",
       "fuel                0\n",
       "odometer         7892\n",
       "transmission        0\n",
       "type                0\n",
       "paint_color      9267\n",
       "is_4wd          25953\n",
       "date_posted         0\n",
       "days_listed         0\n",
       "dtype: int64"
      ]
     },
     "execution_count": 5,
     "metadata": {},
     "output_type": "execute_result"
    }
   ],
   "source": [
    "data_set.isnull().sum()"
   ]
  },
  {
   "cell_type": "code",
   "execution_count": 6,
   "metadata": {},
   "outputs": [
    {
     "name": "stdout",
     "output_type": "stream",
     "text": [
      "7.023774866569626%\n"
     ]
    }
   ],
   "source": [
    "porcentagem_ausentes_modelo = len(data_set[data_set['model_year'].isnull()])/len(data_set['model_year'])\n",
    "print(f'{porcentagem_ausentes_modelo*100}%')"
   ]
  },
  {
   "cell_type": "code",
   "execution_count": 7,
   "metadata": {},
   "outputs": [
    {
     "name": "stdout",
     "output_type": "stream",
     "text": [
      "10.208636584182436%\n"
     ]
    }
   ],
   "source": [
    "porcentagem_ausentes_cylinders = len(data_set[data_set['cylinders'].isnull()])/len(data_set['cylinders'])\n",
    "print(f'{porcentagem_ausentes_cylinders*100}%')\n"
   ]
  },
  {
   "cell_type": "code",
   "execution_count": 8,
   "metadata": {},
   "outputs": [
    {
     "name": "stdout",
     "output_type": "stream",
     "text": [
      "15.316836487142163%\n"
     ]
    }
   ],
   "source": [
    "porcentagem_ausentes_odometer = len(data_set[data_set['odometer'].isnull()])/len(data_set['odometer'])\n",
    "print(f'{porcentagem_ausentes_odometer*100}%')\n"
   ]
  },
  {
   "cell_type": "code",
   "execution_count": 9,
   "metadata": {},
   "outputs": [
    {
     "name": "stdout",
     "output_type": "stream",
     "text": [
      "17.985443959243085%\n"
     ]
    }
   ],
   "source": [
    "porcentagem_ausentes_paint_color = len(data_set[data_set['paint_color'].isnull()])/len(data_set['paint_color'])\n",
    "print(f'{porcentagem_ausentes_paint_color*100}%')\n"
   ]
  },
  {
   "cell_type": "code",
   "execution_count": 10,
   "metadata": {},
   "outputs": [
    {
     "name": "stdout",
     "output_type": "stream",
     "text": [
      "50.36972343522562%\n"
     ]
    }
   ],
   "source": [
    "porcentagem_ausentes_is_4wd = len(data_set[data_set['is_4wd'].isnull()])/len(data_set['is_4wd'])\n",
    "print(f'{porcentagem_ausentes_is_4wd*100}%')\n"
   ]
  },
  {
   "cell_type": "code",
   "execution_count": 11,
   "metadata": {},
   "outputs": [
    {
     "data": {
      "text/plain": [
       "array([ 1., nan])"
      ]
     },
     "execution_count": 11,
     "metadata": {},
     "output_type": "execute_result"
    }
   ],
   "source": [
    "data_set['is_4wd'].unique()"
   ]
  },
  {
   "cell_type": "markdown",
   "metadata": {},
   "source": [
    "Vou substituir todos os NaN por 0 assumindo que são os valores faltantes \n"
   ]
  },
  {
   "cell_type": "code",
   "execution_count": 12,
   "metadata": {},
   "outputs": [],
   "source": [
    "data_set['is_4wd'] = data_set['is_4wd'].fillna(0)"
   ]
  },
  {
   "cell_type": "code",
   "execution_count": 13,
   "metadata": {},
   "outputs": [
    {
     "data": {
      "text/plain": [
       "array([1., 0.])"
      ]
     },
     "execution_count": 13,
     "metadata": {},
     "output_type": "execute_result"
    }
   ],
   "source": [
    "data_set['is_4wd'].unique()"
   ]
  },
  {
   "cell_type": "markdown",
   "metadata": {},
   "source": [
    "--------*Preenchendo a coluna Cylinders*-------"
   ]
  },
  {
   "cell_type": "code",
   "execution_count": 14,
   "metadata": {},
   "outputs": [
    {
     "data": {
      "text/html": [
       "<div>\n",
       "<style scoped>\n",
       "    .dataframe tbody tr th:only-of-type {\n",
       "        vertical-align: middle;\n",
       "    }\n",
       "\n",
       "    .dataframe tbody tr th {\n",
       "        vertical-align: top;\n",
       "    }\n",
       "\n",
       "    .dataframe thead th {\n",
       "        text-align: right;\n",
       "    }\n",
       "</style>\n",
       "<table border=\"1\" class=\"dataframe\">\n",
       "  <thead>\n",
       "    <tr style=\"text-align: right;\">\n",
       "      <th></th>\n",
       "      <th>cylinders</th>\n",
       "    </tr>\n",
       "    <tr>\n",
       "      <th>model</th>\n",
       "      <th></th>\n",
       "    </tr>\n",
       "  </thead>\n",
       "  <tbody>\n",
       "    <tr>\n",
       "      <th>acura tl</th>\n",
       "      <td>6.0</td>\n",
       "    </tr>\n",
       "    <tr>\n",
       "      <th>bmw x5</th>\n",
       "      <td>6.0</td>\n",
       "    </tr>\n",
       "    <tr>\n",
       "      <th>buick enclave</th>\n",
       "      <td>6.0</td>\n",
       "    </tr>\n",
       "    <tr>\n",
       "      <th>cadillac escalade</th>\n",
       "      <td>8.0</td>\n",
       "    </tr>\n",
       "    <tr>\n",
       "      <th>chevrolet camaro</th>\n",
       "      <td>6.0</td>\n",
       "    </tr>\n",
       "    <tr>\n",
       "      <th>...</th>\n",
       "      <td>...</td>\n",
       "    </tr>\n",
       "    <tr>\n",
       "      <th>toyota sienna</th>\n",
       "      <td>6.0</td>\n",
       "    </tr>\n",
       "    <tr>\n",
       "      <th>toyota tacoma</th>\n",
       "      <td>6.0</td>\n",
       "    </tr>\n",
       "    <tr>\n",
       "      <th>toyota tundra</th>\n",
       "      <td>8.0</td>\n",
       "    </tr>\n",
       "    <tr>\n",
       "      <th>volkswagen jetta</th>\n",
       "      <td>4.0</td>\n",
       "    </tr>\n",
       "    <tr>\n",
       "      <th>volkswagen passat</th>\n",
       "      <td>4.0</td>\n",
       "    </tr>\n",
       "  </tbody>\n",
       "</table>\n",
       "<p>100 rows × 1 columns</p>\n",
       "</div>"
      ],
      "text/plain": [
       "                   cylinders\n",
       "model                       \n",
       "acura tl                 6.0\n",
       "bmw x5                   6.0\n",
       "buick enclave            6.0\n",
       "cadillac escalade        8.0\n",
       "chevrolet camaro         6.0\n",
       "...                      ...\n",
       "toyota sienna            6.0\n",
       "toyota tacoma            6.0\n",
       "toyota tundra            8.0\n",
       "volkswagen jetta         4.0\n",
       "volkswagen passat        4.0\n",
       "\n",
       "[100 rows x 1 columns]"
      ]
     },
     "execution_count": 14,
     "metadata": {},
     "output_type": "execute_result"
    }
   ],
   "source": [
    "sem_ausentes = data_set.pivot_table(index='model', values = 'cylinders', aggfunc='median').dropna()\n",
    "sem_ausentes"
   ]
  },
  {
   "cell_type": "code",
   "execution_count": 15,
   "metadata": {},
   "outputs": [],
   "source": [
    "def fill_cylinders(row):\n",
    "# passando pela verificação de que é um valor nulo\n",
    "    if pd.isna(row['cylinders']):\n",
    "        return sem_ausentes['cylinders'][row['model']]\n",
    "    return row['cylinders']"
   ]
  },
  {
   "cell_type": "code",
   "execution_count": 16,
   "metadata": {},
   "outputs": [],
   "source": [
    "data_set['cylinders'] = data_set.apply(fill_cylinders, axis=1) "
   ]
  },
  {
   "cell_type": "code",
   "execution_count": 17,
   "metadata": {},
   "outputs": [
    {
     "data": {
      "text/plain": [
       "0"
      ]
     },
     "execution_count": 17,
     "metadata": {},
     "output_type": "execute_result"
    }
   ],
   "source": [
    "data_set['cylinders'].isnull().sum()"
   ]
  },
  {
   "cell_type": "markdown",
   "metadata": {},
   "source": [
    "---------*Model Year*-------------"
   ]
  },
  {
   "cell_type": "code",
   "execution_count": 18,
   "metadata": {},
   "outputs": [
    {
     "data": {
      "text/html": [
       "<div>\n",
       "<style scoped>\n",
       "    .dataframe tbody tr th:only-of-type {\n",
       "        vertical-align: middle;\n",
       "    }\n",
       "\n",
       "    .dataframe tbody tr th {\n",
       "        vertical-align: top;\n",
       "    }\n",
       "\n",
       "    .dataframe thead th {\n",
       "        text-align: right;\n",
       "    }\n",
       "</style>\n",
       "<table border=\"1\" class=\"dataframe\">\n",
       "  <thead>\n",
       "    <tr style=\"text-align: right;\">\n",
       "      <th></th>\n",
       "      <th>model_year</th>\n",
       "    </tr>\n",
       "    <tr>\n",
       "      <th>model</th>\n",
       "      <th></th>\n",
       "    </tr>\n",
       "  </thead>\n",
       "  <tbody>\n",
       "    <tr>\n",
       "      <th>acura tl</th>\n",
       "      <td>2007.0</td>\n",
       "    </tr>\n",
       "    <tr>\n",
       "      <th>bmw x5</th>\n",
       "      <td>2010.0</td>\n",
       "    </tr>\n",
       "    <tr>\n",
       "      <th>buick enclave</th>\n",
       "      <td>2012.0</td>\n",
       "    </tr>\n",
       "    <tr>\n",
       "      <th>cadillac escalade</th>\n",
       "      <td>2009.0</td>\n",
       "    </tr>\n",
       "    <tr>\n",
       "      <th>chevrolet camaro</th>\n",
       "      <td>2013.0</td>\n",
       "    </tr>\n",
       "    <tr>\n",
       "      <th>...</th>\n",
       "      <td>...</td>\n",
       "    </tr>\n",
       "    <tr>\n",
       "      <th>toyota sienna</th>\n",
       "      <td>2008.0</td>\n",
       "    </tr>\n",
       "    <tr>\n",
       "      <th>toyota tacoma</th>\n",
       "      <td>2010.0</td>\n",
       "    </tr>\n",
       "    <tr>\n",
       "      <th>toyota tundra</th>\n",
       "      <td>2009.0</td>\n",
       "    </tr>\n",
       "    <tr>\n",
       "      <th>volkswagen jetta</th>\n",
       "      <td>2012.0</td>\n",
       "    </tr>\n",
       "    <tr>\n",
       "      <th>volkswagen passat</th>\n",
       "      <td>2013.0</td>\n",
       "    </tr>\n",
       "  </tbody>\n",
       "</table>\n",
       "<p>100 rows × 1 columns</p>\n",
       "</div>"
      ],
      "text/plain": [
       "                   model_year\n",
       "model                        \n",
       "acura tl               2007.0\n",
       "bmw x5                 2010.0\n",
       "buick enclave          2012.0\n",
       "cadillac escalade      2009.0\n",
       "chevrolet camaro       2013.0\n",
       "...                       ...\n",
       "toyota sienna          2008.0\n",
       "toyota tacoma          2010.0\n",
       "toyota tundra          2009.0\n",
       "volkswagen jetta       2012.0\n",
       "volkswagen passat      2013.0\n",
       "\n",
       "[100 rows x 1 columns]"
      ]
     },
     "execution_count": 18,
     "metadata": {},
     "output_type": "execute_result"
    }
   ],
   "source": [
    "sem_ausentes_modelYear = data_set.pivot_table(index='model', values = 'model_year', aggfunc='median').dropna()\n",
    "sem_ausentes_modelYear"
   ]
  },
  {
   "cell_type": "code",
   "execution_count": 19,
   "metadata": {},
   "outputs": [],
   "source": [
    "def fill_model_year(row):\n",
    "# passando pela verificação de que é um valor nulo\n",
    "    if pd.isna(row['model_year']):\n",
    "        return sem_ausentes_modelYear['model_year'][row['model']]\n",
    "    return row['model_year']"
   ]
  },
  {
   "cell_type": "code",
   "execution_count": 20,
   "metadata": {},
   "outputs": [],
   "source": [
    "data_set['model_year'] = data_set.apply(fill_model_year, axis=1) "
   ]
  },
  {
   "cell_type": "code",
   "execution_count": 21,
   "metadata": {},
   "outputs": [
    {
     "data": {
      "text/plain": [
       "0"
      ]
     },
     "execution_count": 21,
     "metadata": {},
     "output_type": "execute_result"
    }
   ],
   "source": [
    "data_set['model_year'].isnull().sum()"
   ]
  },
  {
   "cell_type": "markdown",
   "metadata": {},
   "source": [
    "-----------*Paint_color*---------"
   ]
  },
  {
   "cell_type": "code",
   "execution_count": 22,
   "metadata": {},
   "outputs": [
    {
     "data": {
      "text/plain": [
       "9267"
      ]
     },
     "execution_count": 22,
     "metadata": {},
     "output_type": "execute_result"
    }
   ],
   "source": [
    "data_set['paint_color'].isnull().sum()"
   ]
  },
  {
   "cell_type": "markdown",
   "metadata": {},
   "source": [
    "Mudar o branco para o Não informado"
   ]
  },
  {
   "cell_type": "code",
   "execution_count": 25,
   "metadata": {},
   "outputs": [],
   "source": [
    "data_set['paint_color'] = data_set.apply(fill_color, axis=1) "
   ]
  },
  {
   "cell_type": "code",
   "execution_count": 26,
   "metadata": {},
   "outputs": [
    {
     "data": {
      "text/plain": [
       "0"
      ]
     },
     "execution_count": 26,
     "metadata": {},
     "output_type": "execute_result"
    }
   ],
   "source": [
    "data_set['paint_color'].isnull().sum()"
   ]
  },
  {
   "cell_type": "markdown",
   "metadata": {},
   "source": [
    "-----------*Odometer*---------"
   ]
  },
  {
   "cell_type": "code",
   "execution_count": 27,
   "metadata": {},
   "outputs": [
    {
     "data": {
      "text/html": [
       "<div>\n",
       "<style scoped>\n",
       "    .dataframe tbody tr th:only-of-type {\n",
       "        vertical-align: middle;\n",
       "    }\n",
       "\n",
       "    .dataframe tbody tr th {\n",
       "        vertical-align: top;\n",
       "    }\n",
       "\n",
       "    .dataframe thead th {\n",
       "        text-align: right;\n",
       "    }\n",
       "</style>\n",
       "<table border=\"1\" class=\"dataframe\">\n",
       "  <thead>\n",
       "    <tr style=\"text-align: right;\">\n",
       "      <th></th>\n",
       "      <th>odometer</th>\n",
       "    </tr>\n",
       "    <tr>\n",
       "      <th>condition</th>\n",
       "      <th></th>\n",
       "    </tr>\n",
       "  </thead>\n",
       "  <tbody>\n",
       "    <tr>\n",
       "      <th>excellent</th>\n",
       "      <td>104230.0</td>\n",
       "    </tr>\n",
       "    <tr>\n",
       "      <th>fair</th>\n",
       "      <td>181613.0</td>\n",
       "    </tr>\n",
       "    <tr>\n",
       "      <th>good</th>\n",
       "      <td>129000.0</td>\n",
       "    </tr>\n",
       "    <tr>\n",
       "      <th>like new</th>\n",
       "      <td>72982.5</td>\n",
       "    </tr>\n",
       "    <tr>\n",
       "      <th>new</th>\n",
       "      <td>8002.0</td>\n",
       "    </tr>\n",
       "    <tr>\n",
       "      <th>salvage</th>\n",
       "      <td>142673.5</td>\n",
       "    </tr>\n",
       "  </tbody>\n",
       "</table>\n",
       "</div>"
      ],
      "text/plain": [
       "           odometer\n",
       "condition          \n",
       "excellent  104230.0\n",
       "fair       181613.0\n",
       "good       129000.0\n",
       "like new    72982.5\n",
       "new          8002.0\n",
       "salvage    142673.5"
      ]
     },
     "execution_count": 27,
     "metadata": {},
     "output_type": "execute_result"
    }
   ],
   "source": [
    "sem_ausentes_odometer = data_set.pivot_table(index='condition', values = 'odometer', aggfunc='median').dropna()\n",
    "sem_ausentes_odometer"
   ]
  },
  {
   "cell_type": "code",
   "execution_count": 28,
   "metadata": {},
   "outputs": [],
   "source": [
    "def fill_odometer(row):\n",
    "# passando pela verificação de que é um valor nulo\n",
    "    if pd.isna(row['odometer']):\n",
    "        return sem_ausentes_odometer['odometer'][row['condition']]\n",
    "    return row['odometer']"
   ]
  },
  {
   "cell_type": "code",
   "execution_count": 29,
   "metadata": {},
   "outputs": [],
   "source": [
    "data_set['odometer'] = data_set.apply(fill_odometer, axis=1) "
   ]
  },
  {
   "cell_type": "code",
   "execution_count": 30,
   "metadata": {},
   "outputs": [
    {
     "data": {
      "text/plain": [
       "0"
      ]
     },
     "execution_count": 30,
     "metadata": {},
     "output_type": "execute_result"
    }
   ],
   "source": [
    "data_set['odometer'].isnull().sum()"
   ]
  },
  {
   "cell_type": "markdown",
   "metadata": {},
   "source": [
    "## Corrigindo os tipos de dados"
   ]
  },
  {
   "cell_type": "code",
   "execution_count": 31,
   "metadata": {},
   "outputs": [],
   "source": [
    "data_set['date_posted'] = pd.to_datetime(data_set['date_posted'], format='%Y-%m-%d')\n"
   ]
  },
  {
   "cell_type": "code",
   "execution_count": 32,
   "metadata": {},
   "outputs": [],
   "source": [
    "data_set['model_year'] = data_set['model_year'].astype(int)\n",
    "data_set['cylinders'] = data_set['cylinders'].astype(int)"
   ]
  },
  {
   "cell_type": "code",
   "execution_count": 33,
   "metadata": {},
   "outputs": [],
   "source": [
    "data_set['odometer'] = data_set['odometer'].astype(int)"
   ]
  },
  {
   "cell_type": "markdown",
   "metadata": {},
   "source": [
    "## Enriquecendo os dados"
   ]
  },
  {
   "cell_type": "code",
   "execution_count": 34,
   "metadata": {},
   "outputs": [],
   "source": [
    "# Adicione valores data para quando a propaganda estiver colocada\n",
    "data_set['year_of_ad'] = data_set['date_posted'].dt.year\n",
    "data_set['moth_of_ad'] = data_set['date_posted'].dt.month\n",
    "data_set['day_of_ad'] = data_set['date_posted'].dt.day"
   ]
  },
  {
   "cell_type": "code",
   "execution_count": 35,
   "metadata": {},
   "outputs": [],
   "source": [
    "# Adicione a idade do veículo quando a propaganda for colocada\n",
    "data_set['idade_veiculo'] = data_set['year_of_ad'] - data_set['model_year'] "
   ]
  },
  {
   "cell_type": "code",
   "execution_count": 36,
   "metadata": {},
   "outputs": [],
   "source": [
    "# Adicione a quilometragem média por ano\n",
    "def km_ano(x):\n",
    "    if x['year_of_ad'] - x['model_year'] != 0:\n",
    "        return  x['odometer']/(x['year_of_ad'] - x['model_year'])\n",
    "    return x['odometer']\n",
    "\n",
    "data_set['km_ano'] = data_set.apply(km_ano, axis=1) "
   ]
  },
  {
   "cell_type": "code",
   "execution_count": 37,
   "metadata": {},
   "outputs": [],
   "source": [
    "# Isso deve ajudar a substituir os valores condicionais por alguma coisa que pode ser manipulada mais facilmente\n",
    "data_set['condition'].replace({'new' : 5,\n",
    "'like new' : 4,\n",
    "'excellent' : 3,\n",
    "'good' : 2,\n",
    "'salvage' : 1,\n",
    "'fair' : 0}, inplace = True)\n"
   ]
  },
  {
   "cell_type": "markdown",
   "metadata": {},
   "source": [
    "## Verificando os dados limpos"
   ]
  },
  {
   "cell_type": "code",
   "execution_count": 38,
   "metadata": {},
   "outputs": [
    {
     "name": "stdout",
     "output_type": "stream",
     "text": [
      "<class 'pandas.core.frame.DataFrame'>\n",
      "RangeIndex: 51525 entries, 0 to 51524\n",
      "Data columns (total 18 columns):\n",
      " #   Column         Non-Null Count  Dtype         \n",
      "---  ------         --------------  -----         \n",
      " 0   price          51525 non-null  int64         \n",
      " 1   model_year     51525 non-null  int64         \n",
      " 2   model          51525 non-null  object        \n",
      " 3   condition      51525 non-null  int64         \n",
      " 4   cylinders      51525 non-null  int64         \n",
      " 5   fuel           51525 non-null  object        \n",
      " 6   odometer       51525 non-null  int64         \n",
      " 7   transmission   51525 non-null  object        \n",
      " 8   type           51525 non-null  object        \n",
      " 9   paint_color    51525 non-null  object        \n",
      " 10  is_4wd         51525 non-null  float64       \n",
      " 11  date_posted    51525 non-null  datetime64[ns]\n",
      " 12  days_listed    51525 non-null  int64         \n",
      " 13  year_of_ad     51525 non-null  int64         \n",
      " 14  moth_of_ad     51525 non-null  int64         \n",
      " 15  day_of_ad      51525 non-null  int64         \n",
      " 16  idade_veiculo  51525 non-null  int64         \n",
      " 17  km_ano         51525 non-null  float64       \n",
      "dtypes: datetime64[ns](1), float64(2), int64(10), object(5)\n",
      "memory usage: 7.1+ MB\n"
     ]
    }
   ],
   "source": [
    "# imprima as informações gerais/resumidas sobre o DataFrame\n",
    "\n",
    "data_set.info()"
   ]
  },
  {
   "cell_type": "code",
   "execution_count": 39,
   "metadata": {},
   "outputs": [
    {
     "data": {
      "text/html": [
       "<div>\n",
       "<style scoped>\n",
       "    .dataframe tbody tr th:only-of-type {\n",
       "        vertical-align: middle;\n",
       "    }\n",
       "\n",
       "    .dataframe tbody tr th {\n",
       "        vertical-align: top;\n",
       "    }\n",
       "\n",
       "    .dataframe thead th {\n",
       "        text-align: right;\n",
       "    }\n",
       "</style>\n",
       "<table border=\"1\" class=\"dataframe\">\n",
       "  <thead>\n",
       "    <tr style=\"text-align: right;\">\n",
       "      <th></th>\n",
       "      <th>price</th>\n",
       "      <th>model_year</th>\n",
       "      <th>model</th>\n",
       "      <th>condition</th>\n",
       "      <th>cylinders</th>\n",
       "      <th>fuel</th>\n",
       "      <th>odometer</th>\n",
       "      <th>transmission</th>\n",
       "      <th>type</th>\n",
       "      <th>paint_color</th>\n",
       "      <th>is_4wd</th>\n",
       "      <th>date_posted</th>\n",
       "      <th>days_listed</th>\n",
       "      <th>year_of_ad</th>\n",
       "      <th>moth_of_ad</th>\n",
       "      <th>day_of_ad</th>\n",
       "      <th>idade_veiculo</th>\n",
       "      <th>km_ano</th>\n",
       "    </tr>\n",
       "  </thead>\n",
       "  <tbody>\n",
       "    <tr>\n",
       "      <th>0</th>\n",
       "      <td>9400</td>\n",
       "      <td>2011</td>\n",
       "      <td>bmw x5</td>\n",
       "      <td>2</td>\n",
       "      <td>6</td>\n",
       "      <td>gas</td>\n",
       "      <td>145000</td>\n",
       "      <td>automatic</td>\n",
       "      <td>SUV</td>\n",
       "      <td>Não informado</td>\n",
       "      <td>1.0</td>\n",
       "      <td>2018-06-23</td>\n",
       "      <td>19</td>\n",
       "      <td>2018</td>\n",
       "      <td>6</td>\n",
       "      <td>23</td>\n",
       "      <td>7</td>\n",
       "      <td>20714.285714</td>\n",
       "    </tr>\n",
       "    <tr>\n",
       "      <th>1</th>\n",
       "      <td>25500</td>\n",
       "      <td>2011</td>\n",
       "      <td>ford f-150</td>\n",
       "      <td>2</td>\n",
       "      <td>6</td>\n",
       "      <td>gas</td>\n",
       "      <td>88705</td>\n",
       "      <td>automatic</td>\n",
       "      <td>pickup</td>\n",
       "      <td>white</td>\n",
       "      <td>1.0</td>\n",
       "      <td>2018-10-19</td>\n",
       "      <td>50</td>\n",
       "      <td>2018</td>\n",
       "      <td>10</td>\n",
       "      <td>19</td>\n",
       "      <td>7</td>\n",
       "      <td>12672.142857</td>\n",
       "    </tr>\n",
       "    <tr>\n",
       "      <th>2</th>\n",
       "      <td>5500</td>\n",
       "      <td>2013</td>\n",
       "      <td>hyundai sonata</td>\n",
       "      <td>4</td>\n",
       "      <td>4</td>\n",
       "      <td>gas</td>\n",
       "      <td>110000</td>\n",
       "      <td>automatic</td>\n",
       "      <td>sedan</td>\n",
       "      <td>red</td>\n",
       "      <td>0.0</td>\n",
       "      <td>2019-02-07</td>\n",
       "      <td>79</td>\n",
       "      <td>2019</td>\n",
       "      <td>2</td>\n",
       "      <td>7</td>\n",
       "      <td>6</td>\n",
       "      <td>18333.333333</td>\n",
       "    </tr>\n",
       "    <tr>\n",
       "      <th>3</th>\n",
       "      <td>1500</td>\n",
       "      <td>2003</td>\n",
       "      <td>ford f-150</td>\n",
       "      <td>0</td>\n",
       "      <td>8</td>\n",
       "      <td>gas</td>\n",
       "      <td>181613</td>\n",
       "      <td>automatic</td>\n",
       "      <td>pickup</td>\n",
       "      <td>Não informado</td>\n",
       "      <td>0.0</td>\n",
       "      <td>2019-03-22</td>\n",
       "      <td>9</td>\n",
       "      <td>2019</td>\n",
       "      <td>3</td>\n",
       "      <td>22</td>\n",
       "      <td>16</td>\n",
       "      <td>11350.812500</td>\n",
       "    </tr>\n",
       "    <tr>\n",
       "      <th>4</th>\n",
       "      <td>14900</td>\n",
       "      <td>2017</td>\n",
       "      <td>chrysler 200</td>\n",
       "      <td>3</td>\n",
       "      <td>4</td>\n",
       "      <td>gas</td>\n",
       "      <td>80903</td>\n",
       "      <td>automatic</td>\n",
       "      <td>sedan</td>\n",
       "      <td>black</td>\n",
       "      <td>0.0</td>\n",
       "      <td>2019-04-02</td>\n",
       "      <td>28</td>\n",
       "      <td>2019</td>\n",
       "      <td>4</td>\n",
       "      <td>2</td>\n",
       "      <td>2</td>\n",
       "      <td>40451.500000</td>\n",
       "    </tr>\n",
       "  </tbody>\n",
       "</table>\n",
       "</div>"
      ],
      "text/plain": [
       "   price  model_year           model  condition  cylinders fuel  odometer  \\\n",
       "0   9400        2011          bmw x5          2          6  gas    145000   \n",
       "1  25500        2011      ford f-150          2          6  gas     88705   \n",
       "2   5500        2013  hyundai sonata          4          4  gas    110000   \n",
       "3   1500        2003      ford f-150          0          8  gas    181613   \n",
       "4  14900        2017    chrysler 200          3          4  gas     80903   \n",
       "\n",
       "  transmission    type    paint_color  is_4wd date_posted  days_listed  \\\n",
       "0    automatic     SUV  Não informado     1.0  2018-06-23           19   \n",
       "1    automatic  pickup          white     1.0  2018-10-19           50   \n",
       "2    automatic   sedan            red     0.0  2019-02-07           79   \n",
       "3    automatic  pickup  Não informado     0.0  2019-03-22            9   \n",
       "4    automatic   sedan          black     0.0  2019-04-02           28   \n",
       "\n",
       "   year_of_ad  moth_of_ad  day_of_ad  idade_veiculo        km_ano  \n",
       "0        2018           6         23              7  20714.285714  \n",
       "1        2018          10         19              7  12672.142857  \n",
       "2        2019           2          7              6  18333.333333  \n",
       "3        2019           3         22             16  11350.812500  \n",
       "4        2019           4          2              2  40451.500000  "
      ]
     },
     "execution_count": 39,
     "metadata": {},
     "output_type": "execute_result"
    }
   ],
   "source": [
    "# imprima uma amostragem dos dados\n",
    "\n",
    "data_set.head()"
   ]
  },
  {
   "cell_type": "markdown",
   "metadata": {},
   "source": [
    "## Estudando os parâmetros fundamentais\n",
    "\n",
    "Os parâmetros são\n",
    "- Preço\n",
    "- A idade do veículo quando a propaganda foi colocada\n",
    "- Quilometragem\n",
    "- Número de cilindros\n",
    "- Condição"
   ]
  },
  {
   "cell_type": "code",
   "execution_count": 40,
   "metadata": {},
   "outputs": [
    {
     "data": {
      "text/plain": [
       "array([[<AxesSubplot:title={'center':'price'}>]], dtype=object)"
      ]
     },
     "execution_count": 40,
     "metadata": {},
     "output_type": "execute_result"
    },
    {
     "data": {
      "image/png": "[encoded data removed]",
      "text/plain": [
       "<Figure size 432x288 with 1 Axes>"
      ]
     },
     "metadata": {
      "needs_background": "light"
     },
     "output_type": "display_data"
    }
   ],
   "source": [
    "#Preço\n",
    "data_set.hist('price',bins=10, range = (0,60000)) "
   ]
  },
  {
   "cell_type": "code",
   "execution_count": 41,
   "metadata": {},
   "outputs": [
    {
     "data": {
      "text/plain": [
       "array([[<AxesSubplot:title={'center':'price'}>]], dtype=object)"
      ]
     },
     "execution_count": 41,
     "metadata": {},
     "output_type": "execute_result"
    },
    {
     "data": {
      "image/png": "[encoded data removed]",
      "text/plain": [
       "<Figure size 432x288 with 1 Axes>"
      ]
     },
     "metadata": {
      "needs_background": "light"
     },
     "output_type": "display_data"
    }
   ],
   "source": [
    "#Preço\n",
    "data_set.hist('price',bins=100, range = (0,60000)) "
   ]
  },
  {
   "cell_type": "markdown",
   "metadata": {},
   "source": [
    "Podemos ver que o parametro preço apresenta um alongamento para a direita, graças aos carros com valores muito elevados e varios valores proximos ou iguais a zero, o que não faz muito sentido mesmo para um carro mais velho ter um valor tão baixo"
   ]
  },
  {
   "cell_type": "code",
   "execution_count": 42,
   "metadata": {},
   "outputs": [
    {
     "data": {
      "text/plain": [
       "array([[<AxesSubplot:title={'center':'idade_veiculo'}>]], dtype=object)"
      ]
     },
     "execution_count": 42,
     "metadata": {},
     "output_type": "execute_result"
    },
    {
     "data": {
      "image/png": "[encoded data removed]",
      "text/plain": [
       "<Figure size 432x288 with 1 Axes>"
      ]
     },
     "metadata": {
      "needs_background": "light"
     },
     "output_type": "display_data"
    }
   ],
   "source": [
    "#Idade\n",
    "data_set.hist('idade_veiculo',bins=100, range = (0,60)) "
   ]
  },
  {
   "cell_type": "markdown",
   "metadata": {},
   "source": [
    "Podemos ver uma pequena quantiade de carros bem mais velhos que a grande maioria, provavelmente esses carros estão alterando a média de idades dos veiculos. Existem alguns carros com 0 anos, mas como temos carros novos no dataset podemos assumir que são esses os carros. "
   ]
  },
  {
   "cell_type": "code",
   "execution_count": 43,
   "metadata": {},
   "outputs": [
    {
     "data": {
      "text/plain": [
       "array([[<AxesSubplot:title={'center':'odometer'}>]], dtype=object)"
      ]
     },
     "execution_count": 43,
     "metadata": {},
     "output_type": "execute_result"
    },
    {
     "data": {
      "image/png": "[encoded data removed]",
      "text/plain": [
       "<Figure size 432x288 with 1 Axes>"
      ]
     },
     "metadata": {
      "needs_background": "light"
     },
     "output_type": "display_data"
    }
   ],
   "source": [
    "#quilometragem\n",
    "data_set.hist('odometer',bins=50, range = (0,360000)) \n"
   ]
  },
  {
   "cell_type": "markdown",
   "metadata": {},
   "source": [
    "Vemos que um número muito grande de carros chega aos 100000 km, além disso alguns poucos carros chegam a mais de 250000 km. Alguns carros estão com kilometragem zerada, porém pode ser por serem carros novos."
   ]
  },
  {
   "cell_type": "code",
   "execution_count": 44,
   "metadata": {
    "scrolled": true
   },
   "outputs": [
    {
     "data": {
      "text/plain": [
       "array([[<AxesSubplot:title={'center':'cylinders'}>]], dtype=object)"
      ]
     },
     "execution_count": 44,
     "metadata": {},
     "output_type": "execute_result"
    },
    {
     "data": {
      "image/png": "[encoded data removed]",
      "text/plain": [
       "<Figure size 432x288 with 1 Axes>"
      ]
     },
     "metadata": {
      "needs_background": "light"
     },
     "output_type": "display_data"
    }
   ],
   "source": [
    "#Número de cilindros\n",
    "data_set.hist('cylinders',bins=60, range = (0,11)) "
   ]
  },
  {
   "cell_type": "markdown",
   "metadata": {},
   "source": [
    "Em sua grande maioria os carros possuem de 4 a 8 cilindros, com menos unidades temos praticamente nenhum, com mais de 8 temos poucos carros. \n",
    "Alem disso vemos uma aparição de 5 cilindros, que não faz muito sentido, provavelmente sendo um erro"
   ]
  },
  {
   "cell_type": "code",
   "execution_count": 45,
   "metadata": {},
   "outputs": [
    {
     "data": {
      "text/plain": [
       "array([[<AxesSubplot:title={'center':'condition'}>]], dtype=object)"
      ]
     },
     "execution_count": 45,
     "metadata": {},
     "output_type": "execute_result"
    },
    {
     "data": {
      "image/png": "[encoded data removed]",
      "text/plain": [
       "<Figure size 432x288 with 1 Axes>"
      ]
     },
     "metadata": {
      "needs_background": "light"
     },
     "output_type": "display_data"
    }
   ],
   "source": [
    "#Condição\n",
    "data_set.hist('condition',bins=50, range = (0,5)) "
   ]
  },
  {
   "cell_type": "markdown",
   "metadata": {},
   "source": [
    "Aqui percebo algo estranho, o número de carros classificados como 'novos' é de aproximadamente 1600, proximo ao número de km = 0 no grafico correspondente, porém o grafico com a idade apresenta bem mais carros com idade 0 do que condição nova e km 0. "
   ]
  },
  {
   "cell_type": "markdown",
   "metadata": {},
   "source": [
    "## Observando os valores atípicos"
   ]
  },
  {
   "cell_type": "code",
   "execution_count": 46,
   "metadata": {},
   "outputs": [
    {
     "data": {
      "text/plain": [
       "<matplotlib.collections.LineCollection at 0x7f330dc25d60>"
      ]
     },
     "execution_count": 46,
     "metadata": {},
     "output_type": "execute_result"
    },
    {
     "data": {
      "image/png": "[encoded data removed]",
      "text/plain": [
       "<Figure size 432x288 with 1 Axes>"
      ]
     },
     "metadata": {
      "needs_background": "light"
     },
     "output_type": "display_data"
    }
   ],
   "source": [
    "# Determine o limite inferior para valores atípicos\n",
    "#preço\n",
    "data_set.boxplot(column=['price'] )\n",
    "plt.ylim(-20000, 40000)\n",
    "Q1 = data_set['price'].quantile(0.25)\n",
    "Q3 = data_set['price'].quantile(0.75)\n",
    "IQR = Q3 - Q1\n",
    "lim_inf_preco =Q1-1.5*IQR\n",
    "plt.hlines(y=lim_inf_preco,xmin=0.9,xmax=1.1,color ='red')\n"
   ]
  },
  {
   "cell_type": "code",
   "execution_count": 47,
   "metadata": {},
   "outputs": [
    {
     "data": {
      "text/plain": [
       "<matplotlib.collections.LineCollection at 0x7f334f2842b0>"
      ]
     },
     "execution_count": 47,
     "metadata": {},
     "output_type": "execute_result"
    },
    {
     "data": {
      "image/png": "[encoded data removed]",
      "text/plain": [
       "<Figure size 432x288 with 1 Axes>"
      ]
     },
     "metadata": {
      "needs_background": "light"
     },
     "output_type": "display_data"
    }
   ],
   "source": [
    "# Determinando o limites para condição\n",
    "data_set.boxplot(column=['condition'] )\n",
    "plt.ylim(0, 10)\n",
    "Q1 = data_set['condition'].quantile(0.25)\n",
    "Q3 = data_set['condition'].quantile(0.75)\n",
    "IQR = Q3 - Q1\n",
    "lim_inf_condition =Q1-1.5*IQR\n",
    "plt.hlines(y=lim_inf_condition,xmin=0.9,xmax=1.1,color ='red')"
   ]
  },
  {
   "cell_type": "code",
   "execution_count": 48,
   "metadata": {},
   "outputs": [
    {
     "data": {
      "text/plain": [
       "<matplotlib.collections.LineCollection at 0x7f334f085c40>"
      ]
     },
     "execution_count": 48,
     "metadata": {},
     "output_type": "execute_result"
    },
    {
     "data": {
      "image/png": "[encoded data removed]",
      "text/plain": [
       "<Figure size 432x288 with 1 Axes>"
      ]
     },
     "metadata": {
      "needs_background": "light"
     },
     "output_type": "display_data"
    }
   ],
   "source": [
    "#limi inferior Odometer\n",
    "data_set.boxplot(column=['odometer'] )\n",
    "plt.ylim(-20000, 300000)\n",
    "Q1 = data_set['odometer'].quantile(0.25)\n",
    "Q3 = data_set['odometer'].quantile(0.75)\n",
    "IQR = Q3 - Q1\n",
    "lim_inf_odometer = Q1-1.5*IQR\n",
    "plt.hlines(y=lim_inf_odometer,xmin=0.9,xmax=1.1,color ='red')"
   ]
  },
  {
   "cell_type": "code",
   "execution_count": 49,
   "metadata": {},
   "outputs": [
    {
     "data": {
      "text/plain": [
       "<matplotlib.collections.LineCollection at 0x7f334eb94250>"
      ]
     },
     "execution_count": 49,
     "metadata": {},
     "output_type": "execute_result"
    },
    {
     "data": {
      "image/png": "[encoded data removed]",
      "text/plain": [
       "<Figure size 432x288 with 1 Axes>"
      ]
     },
     "metadata": {
      "needs_background": "light"
     },
     "output_type": "display_data"
    }
   ],
   "source": [
    "# Determine o limite superior para valores atípicos\n",
    "#preço\n",
    "data_set.boxplot(column=['price'] )\n",
    "plt.ylim(-20000, 400000)\n",
    "Q1 = data_set['price'].quantile(0.25)\n",
    "Q3 = data_set['price'].quantile(0.75)\n",
    "IQR = Q3 - Q1\n",
    "#Criando a variavel para o limite superior\n",
    "lim_sup_preco = Q3+1.5*IQR\n",
    "plt.hlines(y=lim_sup_preco,xmin=0.9,xmax=1.1,color ='red')"
   ]
  },
  {
   "cell_type": "code",
   "execution_count": 50,
   "metadata": {},
   "outputs": [
    {
     "data": {
      "text/plain": [
       "<matplotlib.collections.LineCollection at 0x7f334eb0e880>"
      ]
     },
     "execution_count": 50,
     "metadata": {},
     "output_type": "execute_result"
    },
    {
     "data": {
      "image/png": "[encoded data removed]",
      "text/plain": [
       "<Figure size 432x288 with 1 Axes>"
      ]
     },
     "metadata": {
      "needs_background": "light"
     },
     "output_type": "display_data"
    }
   ],
   "source": [
    "# idade_veiculo\n",
    "data_set.boxplot(column=['idade_veiculo'] )\n",
    "plt.ylim(-20, 40)\n",
    "Q1 = data_set['idade_veiculo'].quantile(0.25)\n",
    "Q3 = data_set['idade_veiculo'].quantile(0.75)\n",
    "IQR = Q3 - Q1\n",
    "lim_sup_idade_veiculo = Q3+1.5*IQR\n",
    "plt.hlines(y=lim_sup_idade_veiculo,xmin=0.9,xmax=1.1,color ='red')"
   ]
  },
  {
   "cell_type": "code",
   "execution_count": 51,
   "metadata": {},
   "outputs": [
    {
     "data": {
      "text/plain": [
       "<matplotlib.collections.LineCollection at 0x7f334ea6d280>"
      ]
     },
     "execution_count": 51,
     "metadata": {},
     "output_type": "execute_result"
    },
    {
     "data": {
      "image/png": "[encoded data removed]",
      "text/plain": [
       "<Figure size 432x288 with 1 Axes>"
      ]
     },
     "metadata": {
      "needs_background": "light"
     },
     "output_type": "display_data"
    }
   ],
   "source": [
    "#odometer\n",
    "data_set.boxplot(column=['odometer'] )\n",
    "plt.ylim(-20000, 300000)\n",
    "Q1 = data_set['odometer'].quantile(0.25)\n",
    "Q3 = data_set['odometer'].quantile(0.75)\n",
    "IQR = Q3 - Q1\n",
    "lim_sup_odometer = Q3+1.5*IQR\n",
    "plt.hlines(y=lim_sup_odometer,xmin=0.9,xmax=1.1,color ='red')"
   ]
  },
  {
   "cell_type": "code",
   "execution_count": 52,
   "metadata": {
    "scrolled": true
   },
   "outputs": [
    {
     "data": {
      "text/plain": [
       "<matplotlib.collections.LineCollection at 0x7f334e9e16d0>"
      ]
     },
     "execution_count": 52,
     "metadata": {},
     "output_type": "execute_result"
    },
    {
     "data": {
      "image/png": "[encoded data removed]",
      "text/plain": [
       "<Figure size 432x288 with 1 Axes>"
      ]
     },
     "metadata": {
      "needs_background": "light"
     },
     "output_type": "display_data"
    }
   ],
   "source": [
    "data_set.boxplot(column=['condition'] )\n",
    "plt.ylim(0, 10)\n",
    "Q1 = data_set['condition'].quantile(0.25)\n",
    "Q3 = data_set['condition'].quantile(0.75)\n",
    "IQR = Q3 - Q1\n",
    "lim_sup_condition = Q3+1.5*IQR\n",
    "plt.hlines(y=lim_sup_condition,xmin=0.9,xmax=1.1,color ='red')"
   ]
  },
  {
   "cell_type": "code",
   "execution_count": 53,
   "metadata": {},
   "outputs": [],
   "source": [
    "# Armazene os dados sem os valores atípicos em um DataFrame separado\n",
    "df = data_set[(data_set['price'] < lim_sup_preco) & (data_set['price'] > lim_inf_preco) &\\\n",
    "              (data_set['condition'] < lim_sup_preco)& (data_set['condition'] > lim_inf_condition)&\\\n",
    "              (data_set['odometer'] < lim_sup_odometer)&(data_set['odometer'] > lim_inf_odometer)&\\\n",
    "              (data_set['idade_veiculo'] < lim_sup_idade_veiculo) ]"
   ]
  },
  {
   "cell_type": "code",
   "execution_count": 54,
   "metadata": {},
   "outputs": [
    {
     "data": {
      "text/plain": [
       "price                          34595\n",
       "model_year                      2019\n",
       "model              volkswagen passat\n",
       "condition                          5\n",
       "cylinders                         12\n",
       "fuel                           other\n",
       "odometer                      256000\n",
       "transmission                   other\n",
       "type                           wagon\n",
       "paint_color                   yellow\n",
       "is_4wd                           1.0\n",
       "date_posted      2019-04-19 00:00:00\n",
       "days_listed                      271\n",
       "year_of_ad                      2019\n",
       "moth_of_ad                        12\n",
       "day_of_ad                         31\n",
       "idade_veiculo                     23\n",
       "km_ano                      195700.0\n",
       "dtype: object"
      ]
     },
     "execution_count": 54,
     "metadata": {},
     "output_type": "execute_result"
    }
   ],
   "source": [
    "df.max()"
   ]
  },
  {
   "cell_type": "markdown",
   "metadata": {},
   "source": [
    "## Estudando os parâmetros fundamentais sem valores atípicos"
   ]
  },
  {
   "cell_type": "code",
   "execution_count": 55,
   "metadata": {},
   "outputs": [
    {
     "data": {
      "text/plain": [
       "array([[<AxesSubplot:title={'center':'price'}>]], dtype=object)"
      ]
     },
     "execution_count": 55,
     "metadata": {},
     "output_type": "execute_result"
    },
    {
     "data": {
      "image/png": "[encoded data removed]",
      "text/plain": [
       "<Figure size 432x288 with 1 Axes>"
      ]
     },
     "metadata": {
      "needs_background": "light"
     },
     "output_type": "display_data"
    }
   ],
   "source": [
    "#Preço\n",
    "df.hist('price',bins=10, range = (4000,10000))"
   ]
  },
  {
   "cell_type": "code",
   "execution_count": 56,
   "metadata": {},
   "outputs": [
    {
     "data": {
      "text/plain": [
       "array([[<AxesSubplot:title={'center':'idade_veiculo'}>]], dtype=object)"
      ]
     },
     "execution_count": 56,
     "metadata": {},
     "output_type": "execute_result"
    },
    {
     "data": {
      "image/png": "[encoded data removed]",
      "text/plain": [
       "<Figure size 432x288 with 1 Axes>"
      ]
     },
     "metadata": {
      "needs_background": "light"
     },
     "output_type": "display_data"
    }
   ],
   "source": [
    "#Idade\n",
    "df.hist('idade_veiculo',bins=10, range = (0,20)) "
   ]
  },
  {
   "cell_type": "code",
   "execution_count": 57,
   "metadata": {},
   "outputs": [
    {
     "data": {
      "text/plain": [
       "array([[<AxesSubplot:title={'center':'odometer'}>]], dtype=object)"
      ]
     },
     "execution_count": 57,
     "metadata": {},
     "output_type": "execute_result"
    },
    {
     "data": {
      "image/png": "[encoded data removed]",
      "text/plain": [
       "<Figure size 432x288 with 1 Axes>"
      ]
     },
     "metadata": {
      "needs_background": "light"
     },
     "output_type": "display_data"
    }
   ],
   "source": [
    "#quilometragem\n",
    "df.hist('odometer',bins=30, range = (0,360000)) "
   ]
  },
  {
   "cell_type": "code",
   "execution_count": 58,
   "metadata": {},
   "outputs": [
    {
     "data": {
      "text/plain": [
       "array([[<AxesSubplot:title={'center':'cylinders'}>]], dtype=object)"
      ]
     },
     "execution_count": 58,
     "metadata": {},
     "output_type": "execute_result"
    },
    {
     "data": {
      "image/png": "[encoded data removed]",
      "text/plain": [
       "<Figure size 432x288 with 1 Axes>"
      ]
     },
     "metadata": {
      "needs_background": "light"
     },
     "output_type": "display_data"
    }
   ],
   "source": [
    "#Número de cilindros\n",
    "df.hist('cylinders',bins=5, range = (0,11)) "
   ]
  },
  {
   "cell_type": "code",
   "execution_count": 59,
   "metadata": {},
   "outputs": [
    {
     "data": {
      "text/plain": [
       "array([[<AxesSubplot:title={'center':'condition'}>]], dtype=object)"
      ]
     },
     "execution_count": 59,
     "metadata": {},
     "output_type": "execute_result"
    },
    {
     "data": {
      "image/png": "[encoded data removed]",
      "text/plain": [
       "<Figure size 432x288 with 1 Axes>"
      ]
     },
     "metadata": {
      "needs_background": "light"
     },
     "output_type": "display_data"
    }
   ],
   "source": [
    "#Condição\n",
    "df.hist('condition',bins=5, range = (0,5))"
   ]
  },
  {
   "cell_type": "markdown",
   "metadata": {},
   "source": [
    "## Tempo de vida das propagandas"
   ]
  },
  {
   "cell_type": "code",
   "execution_count": 60,
   "metadata": {},
   "outputs": [
    {
     "data": {
      "text/plain": [
       "mean      39.574905\n",
       "median    33.000000\n",
       "Name: days_listed, dtype: float64"
      ]
     },
     "execution_count": 60,
     "metadata": {},
     "output_type": "execute_result"
    }
   ],
   "source": [
    "df['days_listed'].agg({'mean','median'})"
   ]
  },
  {
   "cell_type": "code",
   "execution_count": 61,
   "metadata": {},
   "outputs": [
    {
     "data": {
      "text/plain": [
       "array([[<AxesSubplot:title={'center':'days_listed'}>]], dtype=object)"
      ]
     },
     "execution_count": 61,
     "metadata": {},
     "output_type": "execute_result"
    },
    {
     "data": {
      "image/png": "[encoded data removed]",
      "text/plain": [
       "<Figure size 432x288 with 1 Axes>"
      ]
     },
     "metadata": {
      "needs_background": "light"
     },
     "output_type": "display_data"
    }
   ],
   "source": [
    "df.hist('days_listed',bins=50, range = (0,250))"
   ]
  },
  {
   "cell_type": "markdown",
   "metadata": {},
   "source": [
    "Vemos que os carros tem maior chance de serem vendidos nos primeiros 50 dias, caso não seja vendido nesse tempo, a chance de venda começa a diminuir drasticamente"
   ]
  },
  {
   "cell_type": "markdown",
   "metadata": {},
   "source": [
    "## Média de preços por cada tipo de veículo"
   ]
  },
  {
   "cell_type": "code",
   "execution_count": 62,
   "metadata": {},
   "outputs": [
    {
     "data": {
      "text/html": [
       "<div>\n",
       "<style scoped>\n",
       "    .dataframe tbody tr th:only-of-type {\n",
       "        vertical-align: middle;\n",
       "    }\n",
       "\n",
       "    .dataframe tbody tr th {\n",
       "        vertical-align: top;\n",
       "    }\n",
       "\n",
       "    .dataframe thead th {\n",
       "        text-align: right;\n",
       "    }\n",
       "</style>\n",
       "<table border=\"1\" class=\"dataframe\">\n",
       "  <thead>\n",
       "    <tr style=\"text-align: right;\">\n",
       "      <th></th>\n",
       "      <th>price</th>\n",
       "    </tr>\n",
       "    <tr>\n",
       "      <th>model</th>\n",
       "      <th></th>\n",
       "    </tr>\n",
       "  </thead>\n",
       "  <tbody>\n",
       "    <tr>\n",
       "      <th>toyota sienna</th>\n",
       "      <td>8795.259615</td>\n",
       "    </tr>\n",
       "    <tr>\n",
       "      <th>toyota tacoma</th>\n",
       "      <td>15669.409449</td>\n",
       "    </tr>\n",
       "    <tr>\n",
       "      <th>toyota tundra</th>\n",
       "      <td>13979.528131</td>\n",
       "    </tr>\n",
       "    <tr>\n",
       "      <th>volkswagen jetta</th>\n",
       "      <td>6680.079430</td>\n",
       "    </tr>\n",
       "    <tr>\n",
       "      <th>volkswagen passat</th>\n",
       "      <td>8751.107143</td>\n",
       "    </tr>\n",
       "  </tbody>\n",
       "</table>\n",
       "</div>"
      ],
      "text/plain": [
       "                          price\n",
       "model                          \n",
       "toyota sienna       8795.259615\n",
       "toyota tacoma      15669.409449\n",
       "toyota tundra      13979.528131\n",
       "volkswagen jetta    6680.079430\n",
       "volkswagen passat   8751.107143"
      ]
     },
     "execution_count": 62,
     "metadata": {},
     "output_type": "execute_result"
    }
   ],
   "source": [
    "df.pivot_table(index='model', values = 'price', aggfunc='mean').tail()"
   ]
  },
  {
   "cell_type": "code",
   "execution_count": 63,
   "metadata": {},
   "outputs": [
    {
     "data": {
      "text/html": [
       "<div>\n",
       "<style scoped>\n",
       "    .dataframe tbody tr th:only-of-type {\n",
       "        vertical-align: middle;\n",
       "    }\n",
       "\n",
       "    .dataframe tbody tr th {\n",
       "        vertical-align: top;\n",
       "    }\n",
       "\n",
       "    .dataframe thead th {\n",
       "        text-align: right;\n",
       "    }\n",
       "</style>\n",
       "<table border=\"1\" class=\"dataframe\">\n",
       "  <thead>\n",
       "    <tr style=\"text-align: right;\">\n",
       "      <th></th>\n",
       "      <th>days_listed</th>\n",
       "    </tr>\n",
       "    <tr>\n",
       "      <th>model</th>\n",
       "      <th></th>\n",
       "    </tr>\n",
       "  </thead>\n",
       "  <tbody>\n",
       "    <tr>\n",
       "      <th>acura tl</th>\n",
       "      <td>226</td>\n",
       "    </tr>\n",
       "    <tr>\n",
       "      <th>bmw x5</th>\n",
       "      <td>261</td>\n",
       "    </tr>\n",
       "    <tr>\n",
       "      <th>buick enclave</th>\n",
       "      <td>269</td>\n",
       "    </tr>\n",
       "    <tr>\n",
       "      <th>cadillac escalade</th>\n",
       "      <td>276</td>\n",
       "    </tr>\n",
       "    <tr>\n",
       "      <th>chevrolet camaro</th>\n",
       "      <td>354</td>\n",
       "    </tr>\n",
       "    <tr>\n",
       "      <th>...</th>\n",
       "      <td>...</td>\n",
       "    </tr>\n",
       "    <tr>\n",
       "      <th>toyota sienna</th>\n",
       "      <td>312</td>\n",
       "    </tr>\n",
       "    <tr>\n",
       "      <th>toyota tacoma</th>\n",
       "      <td>762</td>\n",
       "    </tr>\n",
       "    <tr>\n",
       "      <th>toyota tundra</th>\n",
       "      <td>551</td>\n",
       "    </tr>\n",
       "    <tr>\n",
       "      <th>volkswagen jetta</th>\n",
       "      <td>491</td>\n",
       "    </tr>\n",
       "    <tr>\n",
       "      <th>volkswagen passat</th>\n",
       "      <td>336</td>\n",
       "    </tr>\n",
       "  </tbody>\n",
       "</table>\n",
       "<p>99 rows × 1 columns</p>\n",
       "</div>"
      ],
      "text/plain": [
       "                   days_listed\n",
       "model                         \n",
       "acura tl                   226\n",
       "bmw x5                     261\n",
       "buick enclave              269\n",
       "cadillac escalade          276\n",
       "chevrolet camaro           354\n",
       "...                        ...\n",
       "toyota sienna              312\n",
       "toyota tacoma              762\n",
       "toyota tundra              551\n",
       "volkswagen jetta           491\n",
       "volkswagen passat          336\n",
       "\n",
       "[99 rows x 1 columns]"
      ]
     },
     "execution_count": 63,
     "metadata": {},
     "output_type": "execute_result"
    }
   ],
   "source": [
    "df.pivot_table(index='model', values = 'days_listed', aggfunc='count')"
   ]
  },
  {
   "cell_type": "code",
   "execution_count": 64,
   "metadata": {},
   "outputs": [
    {
     "data": {
      "text/plain": [
       "<AxesSubplot:xlabel='model', ylabel='days_listed'>"
      ]
     },
     "execution_count": 64,
     "metadata": {},
     "output_type": "execute_result"
    },
    {
     "data": {
      "image/png": "[encoded data removed]",
      "text/plain": [
       "<Figure size 432x288 with 1 Axes>"
      ]
     },
     "metadata": {
      "needs_background": "light"
     },
     "output_type": "display_data"
    }
   ],
   "source": [
    "df.plot(x='model', y='days_listed', kind='scatter') "
   ]
  },
  {
   "cell_type": "markdown",
   "metadata": {},
   "source": [
    "## Fatores de preço"
   ]
  },
  {
   "cell_type": "code",
   "execution_count": 65,
   "metadata": {},
   "outputs": [
    {
     "data": {
      "text/html": [
       "<style  type=\"text/css\" >\n",
       "#T_6fffd_row0_col0,#T_6fffd_row1_col1,#T_6fffd_row2_col2,#T_6fffd_row3_col3,#T_6fffd_row4_col4,#T_6fffd_row5_col5,#T_6fffd_row6_col6,#T_6fffd_row7_col7,#T_6fffd_row8_col8,#T_6fffd_row9_col9,#T_6fffd_row10_col10,#T_6fffd_row11_col11{\n",
       "            background-color:  #08306b;\n",
       "            color:  #f1f1f1;\n",
       "        }#T_6fffd_row0_col1{\n",
       "            background-color:  #2171b5;\n",
       "            color:  #f1f1f1;\n",
       "        }#T_6fffd_row0_col2{\n",
       "            background-color:  #b4d3e9;\n",
       "            color:  #000000;\n",
       "        }#T_6fffd_row0_col3{\n",
       "            background-color:  #8fc2de;\n",
       "            color:  #000000;\n",
       "        }#T_6fffd_row0_col4{\n",
       "            background-color:  #e7f0fa;\n",
       "            color:  #000000;\n",
       "        }#T_6fffd_row0_col5,#T_6fffd_row8_col4{\n",
       "            background-color:  #a6cee4;\n",
       "            color:  #000000;\n",
       "        }#T_6fffd_row0_col6,#T_6fffd_row1_col6,#T_6fffd_row2_col6,#T_6fffd_row9_col6,#T_6fffd_row11_col6{\n",
       "            background-color:  #f5fafe;\n",
       "            color:  #000000;\n",
       "        }#T_6fffd_row0_col7,#T_6fffd_row2_col7,#T_6fffd_row2_col8,#T_6fffd_row3_col7,#T_6fffd_row3_col8,#T_6fffd_row5_col8{\n",
       "            background-color:  #7fb9da;\n",
       "            color:  #000000;\n",
       "        }#T_6fffd_row0_col8,#T_6fffd_row5_col7{\n",
       "            background-color:  #81badb;\n",
       "            color:  #000000;\n",
       "        }#T_6fffd_row0_col9,#T_6fffd_row4_col9,#T_6fffd_row5_col9,#T_6fffd_row6_col9{\n",
       "            background-color:  #ecf4fb;\n",
       "            color:  #000000;\n",
       "        }#T_6fffd_row0_col10{\n",
       "            background-color:  #c6dbef;\n",
       "            color:  #000000;\n",
       "        }#T_6fffd_row0_col11{\n",
       "            background-color:  #68acd5;\n",
       "            color:  #000000;\n",
       "        }#T_6fffd_row1_col0{\n",
       "            background-color:  #3787c0;\n",
       "            color:  #000000;\n",
       "        }#T_6fffd_row1_col2{\n",
       "            background-color:  #9fcae1;\n",
       "            color:  #000000;\n",
       "        }#T_6fffd_row1_col3,#T_6fffd_row1_col4,#T_6fffd_row1_col5,#T_6fffd_row1_col10,#T_6fffd_row4_col2,#T_6fffd_row7_col8,#T_6fffd_row7_col9,#T_6fffd_row8_col6,#T_6fffd_row8_col7,#T_6fffd_row10_col0,#T_6fffd_row10_col1,#T_6fffd_row10_col11{\n",
       "            background-color:  #f7fbff;\n",
       "            color:  #000000;\n",
       "        }#T_6fffd_row1_col7{\n",
       "            background-color:  #7cb7da;\n",
       "            color:  #000000;\n",
       "        }#T_6fffd_row1_col8{\n",
       "            background-color:  #84bcdb;\n",
       "            color:  #000000;\n",
       "        }#T_6fffd_row1_col9,#T_6fffd_row2_col3{\n",
       "            background-color:  #ebf3fb;\n",
       "            color:  #000000;\n",
       "        }#T_6fffd_row1_col11{\n",
       "            background-color:  #3282be;\n",
       "            color:  #000000;\n",
       "        }#T_6fffd_row2_col0,#T_6fffd_row3_col4,#T_6fffd_row9_col7,#T_6fffd_row10_col8{\n",
       "            background-color:  #8dc1dd;\n",
       "            color:  #000000;\n",
       "        }#T_6fffd_row2_col1{\n",
       "            background-color:  #4997c9;\n",
       "            color:  #000000;\n",
       "        }#T_6fffd_row2_col4{\n",
       "            background-color:  #d6e5f4;\n",
       "            color:  #000000;\n",
       "        }#T_6fffd_row2_col5,#T_6fffd_row4_col6,#T_6fffd_row6_col5,#T_6fffd_row8_col5,#T_6fffd_row10_col6{\n",
       "            background-color:  #f4f9fe;\n",
       "            color:  #000000;\n",
       "        }#T_6fffd_row2_col9,#T_6fffd_row10_col9{\n",
       "            background-color:  #eef5fc;\n",
       "            color:  #000000;\n",
       "        }#T_6fffd_row2_col10{\n",
       "            background-color:  #97c6df;\n",
       "            color:  #000000;\n",
       "        }#T_6fffd_row2_col11{\n",
       "            background-color:  #a1cbe2;\n",
       "            color:  #000000;\n",
       "        }#T_6fffd_row3_col0{\n",
       "            background-color:  #5ba3d0;\n",
       "            color:  #000000;\n",
       "        }#T_6fffd_row3_col1{\n",
       "            background-color:  #8abfdd;\n",
       "            color:  #000000;\n",
       "        }#T_6fffd_row3_col2{\n",
       "            background-color:  #dae8f6;\n",
       "            color:  #000000;\n",
       "        }#T_6fffd_row3_col5{\n",
       "            background-color:  #8cc0dd;\n",
       "            color:  #000000;\n",
       "        }#T_6fffd_row3_col6,#T_6fffd_row5_col6,#T_6fffd_row7_col5,#T_6fffd_row9_col5{\n",
       "            background-color:  #f5f9fe;\n",
       "            color:  #000000;\n",
       "        }#T_6fffd_row3_col9{\n",
       "            background-color:  #edf4fc;\n",
       "            color:  #000000;\n",
       "        }#T_6fffd_row3_col10{\n",
       "            background-color:  #539ecd;\n",
       "            color:  #000000;\n",
       "        }#T_6fffd_row3_col11{\n",
       "            background-color:  #b2d2e8;\n",
       "            color:  #000000;\n",
       "        }#T_6fffd_row4_col0,#T_6fffd_row11_col9{\n",
       "            background-color:  #eaf2fb;\n",
       "            color:  #000000;\n",
       "        }#T_6fffd_row4_col1{\n",
       "            background-color:  #c8dcf0;\n",
       "            color:  #000000;\n",
       "        }#T_6fffd_row4_col3{\n",
       "            background-color:  #cbdef1;\n",
       "            color:  #000000;\n",
       "        }#T_6fffd_row4_col5{\n",
       "            background-color:  #e9f2fa;\n",
       "            color:  #000000;\n",
       "        }#T_6fffd_row4_col7,#T_6fffd_row6_col8{\n",
       "            background-color:  #82bbdb;\n",
       "            color:  #000000;\n",
       "        }#T_6fffd_row4_col8,#T_6fffd_row6_col7{\n",
       "            background-color:  #7db8da;\n",
       "            color:  #000000;\n",
       "        }#T_6fffd_row4_col10,#T_6fffd_row11_col1{\n",
       "            background-color:  #1f6eb3;\n",
       "            color:  #f1f1f1;\n",
       "        }#T_6fffd_row4_col11{\n",
       "            background-color:  #94c4df;\n",
       "            color:  #000000;\n",
       "        }#T_6fffd_row5_col0{\n",
       "            background-color:  #57a0ce;\n",
       "            color:  #000000;\n",
       "        }#T_6fffd_row5_col1,#T_6fffd_row8_col1{\n",
       "            background-color:  #6fb0d7;\n",
       "            color:  #000000;\n",
       "        }#T_6fffd_row5_col2,#T_6fffd_row7_col2,#T_6fffd_row8_col2{\n",
       "            background-color:  #cee0f2;\n",
       "            color:  #000000;\n",
       "        }#T_6fffd_row5_col3{\n",
       "            background-color:  #71b1d7;\n",
       "            color:  #000000;\n",
       "        }#T_6fffd_row5_col4{\n",
       "            background-color:  #9cc9e1;\n",
       "            color:  #000000;\n",
       "        }#T_6fffd_row5_col10,#T_6fffd_row7_col1{\n",
       "            background-color:  #69add5;\n",
       "            color:  #000000;\n",
       "        }#T_6fffd_row5_col11{\n",
       "            background-color:  #a3cce3;\n",
       "            color:  #000000;\n",
       "        }#T_6fffd_row6_col0,#T_6fffd_row9_col0{\n",
       "            background-color:  #add0e6;\n",
       "            color:  #000000;\n",
       "        }#T_6fffd_row6_col1,#T_6fffd_row11_col0{\n",
       "            background-color:  #6caed6;\n",
       "            color:  #000000;\n",
       "        }#T_6fffd_row6_col2{\n",
       "            background-color:  #cfe1f2;\n",
       "            color:  #000000;\n",
       "        }#T_6fffd_row6_col3,#T_6fffd_row8_col3{\n",
       "            background-color:  #ddeaf7;\n",
       "            color:  #000000;\n",
       "        }#T_6fffd_row6_col4,#T_6fffd_row6_col11{\n",
       "            background-color:  #a8cee4;\n",
       "            color:  #000000;\n",
       "        }#T_6fffd_row6_col10,#T_6fffd_row9_col1,#T_6fffd_row11_col8{\n",
       "            background-color:  #6aaed6;\n",
       "            color:  #000000;\n",
       "        }#T_6fffd_row7_col0,#T_6fffd_row7_col4{\n",
       "            background-color:  #abd0e6;\n",
       "            color:  #000000;\n",
       "        }#T_6fffd_row7_col3,#T_6fffd_row9_col3{\n",
       "            background-color:  #deebf7;\n",
       "            color:  #000000;\n",
       "        }#T_6fffd_row7_col6{\n",
       "            background-color:  #f2f8fd;\n",
       "            color:  #000000;\n",
       "        }#T_6fffd_row7_col10{\n",
       "            background-color:  #5fa6d1;\n",
       "            color:  #000000;\n",
       "        }#T_6fffd_row7_col11{\n",
       "            background-color:  #bfd8ed;\n",
       "            color:  #000000;\n",
       "        }#T_6fffd_row8_col0{\n",
       "            background-color:  #aed1e7;\n",
       "            color:  #000000;\n",
       "        }#T_6fffd_row8_col9{\n",
       "            background-color:  #e5eff9;\n",
       "            color:  #000000;\n",
       "        }#T_6fffd_row8_col10,#T_6fffd_row9_col8{\n",
       "            background-color:  #79b5d9;\n",
       "            color:  #000000;\n",
       "        }#T_6fffd_row8_col11{\n",
       "            background-color:  #91c3de;\n",
       "            color:  #000000;\n",
       "        }#T_6fffd_row9_col2{\n",
       "            background-color:  #d0e2f2;\n",
       "            color:  #000000;\n",
       "        }#T_6fffd_row9_col4{\n",
       "            background-color:  #aacfe5;\n",
       "            color:  #000000;\n",
       "        }#T_6fffd_row9_col10,#T_6fffd_row10_col7{\n",
       "            background-color:  #6dafd7;\n",
       "            color:  #000000;\n",
       "        }#T_6fffd_row9_col11{\n",
       "            background-color:  #a5cde3;\n",
       "            color:  #000000;\n",
       "        }#T_6fffd_row10_col2{\n",
       "            background-color:  #eff6fc;\n",
       "            color:  #000000;\n",
       "        }#T_6fffd_row10_col3{\n",
       "            background-color:  #c3daee;\n",
       "            color:  #000000;\n",
       "        }#T_6fffd_row10_col4{\n",
       "            background-color:  #3383be;\n",
       "            color:  #000000;\n",
       "        }#T_6fffd_row10_col5{\n",
       "            background-color:  #f2f7fd;\n",
       "            color:  #000000;\n",
       "        }#T_6fffd_row11_col2{\n",
       "            background-color:  #cadef0;\n",
       "            color:  #000000;\n",
       "        }#T_6fffd_row11_col3{\n",
       "            background-color:  #e6f0f9;\n",
       "            color:  #000000;\n",
       "        }#T_6fffd_row11_col4{\n",
       "            background-color:  #95c5df;\n",
       "            color:  #000000;\n",
       "        }#T_6fffd_row11_col5{\n",
       "            background-color:  #f0f6fd;\n",
       "            color:  #000000;\n",
       "        }#T_6fffd_row11_col7{\n",
       "            background-color:  #99c7e0;\n",
       "            color:  #000000;\n",
       "        }#T_6fffd_row11_col10{\n",
       "            background-color:  #caddf0;\n",
       "            color:  #000000;\n",
       "        }</style><table id=\"T_6fffd_\" ><thead>    <tr>        <th class=\"blank level0\" ></th>        <th class=\"col_heading level0 col0\" >price</th>        <th class=\"col_heading level0 col1\" >model_year</th>        <th class=\"col_heading level0 col2\" >condition</th>        <th class=\"col_heading level0 col3\" >cylinders</th>        <th class=\"col_heading level0 col4\" >odometer</th>        <th class=\"col_heading level0 col5\" >is_4wd</th>        <th class=\"col_heading level0 col6\" >days_listed</th>        <th class=\"col_heading level0 col7\" >year_of_ad</th>        <th class=\"col_heading level0 col8\" >moth_of_ad</th>        <th class=\"col_heading level0 col9\" >day_of_ad</th>        <th class=\"col_heading level0 col10\" >idade_veiculo</th>        <th class=\"col_heading level0 col11\" >km_ano</th>    </tr></thead><tbody>\n",
       "                <tr>\n",
       "                        <th id=\"T_6fffd_level0_row0\" class=\"row_heading level0 row0\" >price</th>\n",
       "                        <td id=\"T_6fffd_row0_col0\" class=\"data row0 col0\" >1.000000</td>\n",
       "                        <td id=\"T_6fffd_row0_col1\" class=\"data row0 col1\" >0.497755</td>\n",
       "                        <td id=\"T_6fffd_row0_col2\" class=\"data row0 col2\" >0.127479</td>\n",
       "                        <td id=\"T_6fffd_row0_col3\" class=\"data row0 col3\" >0.325142</td>\n",
       "                        <td id=\"T_6fffd_row0_col4\" class=\"data row0 col4\" >-0.392223</td>\n",
       "                        <td id=\"T_6fffd_row0_col5\" class=\"data row0 col5\" >0.340579</td>\n",
       "                        <td id=\"T_6fffd_row0_col6\" class=\"data row0 col6\" >-0.002555</td>\n",
       "                        <td id=\"T_6fffd_row0_col7\" class=\"data row0 col7\" >0.005648</td>\n",
       "                        <td id=\"T_6fffd_row0_col8\" class=\"data row0 col8\" >-0.007157</td>\n",
       "                        <td id=\"T_6fffd_row0_col9\" class=\"data row0 col9\" >-0.001383</td>\n",
       "                        <td id=\"T_6fffd_row0_col10\" class=\"data row0 col10\" >-0.495757</td>\n",
       "                        <td id=\"T_6fffd_row0_col11\" class=\"data row0 col11\" >0.248194</td>\n",
       "            </tr>\n",
       "            <tr>\n",
       "                        <th id=\"T_6fffd_level0_row1\" class=\"row_heading level0 row1\" >model_year</th>\n",
       "                        <td id=\"T_6fffd_row1_col0\" class=\"data row1 col0\" >0.497755</td>\n",
       "                        <td id=\"T_6fffd_row1_col1\" class=\"data row1 col1\" >1.000000</td>\n",
       "                        <td id=\"T_6fffd_row1_col2\" class=\"data row1 col2\" >0.210583</td>\n",
       "                        <td id=\"T_6fffd_row1_col3\" class=\"data row1 col3\" >-0.148362</td>\n",
       "                        <td id=\"T_6fffd_row1_col4\" class=\"data row1 col4\" >-0.519394</td>\n",
       "                        <td id=\"T_6fffd_row1_col5\" class=\"data row1 col5\" >-0.015861</td>\n",
       "                        <td id=\"T_6fffd_row1_col6\" class=\"data row1 col6\" >-0.004164</td>\n",
       "                        <td id=\"T_6fffd_row1_col7\" class=\"data row1 col7\" >0.016077</td>\n",
       "                        <td id=\"T_6fffd_row1_col8\" class=\"data row1 col8\" >-0.016581</td>\n",
       "                        <td id=\"T_6fffd_row1_col9\" class=\"data row1 col9\" >0.002831</td>\n",
       "                        <td id=\"T_6fffd_row1_col10\" class=\"data row1 col10\" >-0.995540</td>\n",
       "                        <td id=\"T_6fffd_row1_col11\" class=\"data row1 col11\" >0.521599</td>\n",
       "            </tr>\n",
       "            <tr>\n",
       "                        <th id=\"T_6fffd_level0_row2\" class=\"row_heading level0 row2\" >condition</th>\n",
       "                        <td id=\"T_6fffd_row2_col0\" class=\"data row2 col0\" >0.127479</td>\n",
       "                        <td id=\"T_6fffd_row2_col1\" class=\"data row2 col1\" >0.210583</td>\n",
       "                        <td id=\"T_6fffd_row2_col2\" class=\"data row2 col2\" >1.000000</td>\n",
       "                        <td id=\"T_6fffd_row2_col3\" class=\"data row2 col3\" >-0.077390</td>\n",
       "                        <td id=\"T_6fffd_row2_col4\" class=\"data row2 col4\" >-0.261514</td>\n",
       "                        <td id=\"T_6fffd_row2_col5\" class=\"data row2 col5\" >0.000584</td>\n",
       "                        <td id=\"T_6fffd_row2_col6\" class=\"data row2 col6\" >-0.002728</td>\n",
       "                        <td id=\"T_6fffd_row2_col7\" class=\"data row2 col7\" >0.002234</td>\n",
       "                        <td id=\"T_6fffd_row2_col8\" class=\"data row2 col8\" >0.000105</td>\n",
       "                        <td id=\"T_6fffd_row2_col9\" class=\"data row2 col9\" >-0.013557</td>\n",
       "                        <td id=\"T_6fffd_row2_col10\" class=\"data row2 col10\" >-0.209753</td>\n",
       "                        <td id=\"T_6fffd_row2_col11\" class=\"data row2 col11\" >0.027575</td>\n",
       "            </tr>\n",
       "            <tr>\n",
       "                        <th id=\"T_6fffd_level0_row3\" class=\"row_heading level0 row3\" >cylinders</th>\n",
       "                        <td id=\"T_6fffd_row3_col0\" class=\"data row3 col0\" >0.325142</td>\n",
       "                        <td id=\"T_6fffd_row3_col1\" class=\"data row3 col1\" >-0.148362</td>\n",
       "                        <td id=\"T_6fffd_row3_col2\" class=\"data row3 col2\" >-0.077390</td>\n",
       "                        <td id=\"T_6fffd_row3_col3\" class=\"data row3 col3\" >1.000000</td>\n",
       "                        <td id=\"T_6fffd_row3_col4\" class=\"data row3 col4\" >0.110214</td>\n",
       "                        <td id=\"T_6fffd_row3_col5\" class=\"data row3 col5\" >0.411168</td>\n",
       "                        <td id=\"T_6fffd_row3_col6\" class=\"data row3 col6\" >0.003432</td>\n",
       "                        <td id=\"T_6fffd_row3_col7\" class=\"data row3 col7\" >-0.000505</td>\n",
       "                        <td id=\"T_6fffd_row3_col8\" class=\"data row3 col8\" >0.000587</td>\n",
       "                        <td id=\"T_6fffd_row3_col9\" class=\"data row3 col9\" >-0.004510</td>\n",
       "                        <td id=\"T_6fffd_row3_col10\" class=\"data row3 col10\" >0.147878</td>\n",
       "                        <td id=\"T_6fffd_row3_col11\" class=\"data row3 col11\" >-0.049477</td>\n",
       "            </tr>\n",
       "            <tr>\n",
       "                        <th id=\"T_6fffd_level0_row4\" class=\"row_heading level0 row4\" >odometer</th>\n",
       "                        <td id=\"T_6fffd_row4_col0\" class=\"data row4 col0\" >-0.392223</td>\n",
       "                        <td id=\"T_6fffd_row4_col1\" class=\"data row4 col1\" >-0.519394</td>\n",
       "                        <td id=\"T_6fffd_row4_col2\" class=\"data row4 col2\" >-0.261514</td>\n",
       "                        <td id=\"T_6fffd_row4_col3\" class=\"data row4 col3\" >0.110214</td>\n",
       "                        <td id=\"T_6fffd_row4_col4\" class=\"data row4 col4\" >1.000000</td>\n",
       "                        <td id=\"T_6fffd_row4_col5\" class=\"data row4 col5\" >0.057453</td>\n",
       "                        <td id=\"T_6fffd_row4_col6\" class=\"data row4 col6\" >0.006985</td>\n",
       "                        <td id=\"T_6fffd_row4_col7\" class=\"data row4 col7\" >-0.009204</td>\n",
       "                        <td id=\"T_6fffd_row4_col8\" class=\"data row4 col8\" >0.012696</td>\n",
       "                        <td id=\"T_6fffd_row4_col9\" class=\"data row4 col9\" >-0.003887</td>\n",
       "                        <td id=\"T_6fffd_row4_col10\" class=\"data row4 col10\" >0.516997</td>\n",
       "                        <td id=\"T_6fffd_row4_col11\" class=\"data row4 col11\" >0.080861</td>\n",
       "            </tr>\n",
       "            <tr>\n",
       "                        <th id=\"T_6fffd_level0_row5\" class=\"row_heading level0 row5\" >is_4wd</th>\n",
       "                        <td id=\"T_6fffd_row5_col0\" class=\"data row5 col0\" >0.340579</td>\n",
       "                        <td id=\"T_6fffd_row5_col1\" class=\"data row5 col1\" >-0.015861</td>\n",
       "                        <td id=\"T_6fffd_row5_col2\" class=\"data row5 col2\" >0.000584</td>\n",
       "                        <td id=\"T_6fffd_row5_col3\" class=\"data row5 col3\" >0.411168</td>\n",
       "                        <td id=\"T_6fffd_row5_col4\" class=\"data row5 col4\" >0.057453</td>\n",
       "                        <td id=\"T_6fffd_row5_col5\" class=\"data row5 col5\" >1.000000</td>\n",
       "                        <td id=\"T_6fffd_row5_col6\" class=\"data row5 col6\" >0.003279</td>\n",
       "                        <td id=\"T_6fffd_row5_col7\" class=\"data row5 col7\" >-0.001949</td>\n",
       "                        <td id=\"T_6fffd_row5_col8\" class=\"data row5 col8\" >0.002531</td>\n",
       "                        <td id=\"T_6fffd_row5_col9\" class=\"data row5 col9\" >-0.002613</td>\n",
       "                        <td id=\"T_6fffd_row5_col10\" class=\"data row5 col10\" >0.015630</td>\n",
       "                        <td id=\"T_6fffd_row5_col11\" class=\"data row5 col11\" >0.023186</td>\n",
       "            </tr>\n",
       "            <tr>\n",
       "                        <th id=\"T_6fffd_level0_row6\" class=\"row_heading level0 row6\" >days_listed</th>\n",
       "                        <td id=\"T_6fffd_row6_col0\" class=\"data row6 col0\" >-0.002555</td>\n",
       "                        <td id=\"T_6fffd_row6_col1\" class=\"data row6 col1\" >-0.004164</td>\n",
       "                        <td id=\"T_6fffd_row6_col2\" class=\"data row6 col2\" >-0.002728</td>\n",
       "                        <td id=\"T_6fffd_row6_col3\" class=\"data row6 col3\" >0.003432</td>\n",
       "                        <td id=\"T_6fffd_row6_col4\" class=\"data row6 col4\" >0.006985</td>\n",
       "                        <td id=\"T_6fffd_row6_col5\" class=\"data row6 col5\" >0.003279</td>\n",
       "                        <td id=\"T_6fffd_row6_col6\" class=\"data row6 col6\" >1.000000</td>\n",
       "                        <td id=\"T_6fffd_row6_col7\" class=\"data row6 col7\" >0.012333</td>\n",
       "                        <td id=\"T_6fffd_row6_col8\" class=\"data row6 col8\" >-0.012181</td>\n",
       "                        <td id=\"T_6fffd_row6_col9\" class=\"data row6 col9\" >-0.001350</td>\n",
       "                        <td id=\"T_6fffd_row6_col10\" class=\"data row6 col10\" >0.005315</td>\n",
       "                        <td id=\"T_6fffd_row6_col11\" class=\"data row6 col11\" >-0.002153</td>\n",
       "            </tr>\n",
       "            <tr>\n",
       "                        <th id=\"T_6fffd_level0_row7\" class=\"row_heading level0 row7\" >year_of_ad</th>\n",
       "                        <td id=\"T_6fffd_row7_col0\" class=\"data row7 col0\" >0.005648</td>\n",
       "                        <td id=\"T_6fffd_row7_col1\" class=\"data row7 col1\" >0.016077</td>\n",
       "                        <td id=\"T_6fffd_row7_col2\" class=\"data row7 col2\" >0.002234</td>\n",
       "                        <td id=\"T_6fffd_row7_col3\" class=\"data row7 col3\" >-0.000505</td>\n",
       "                        <td id=\"T_6fffd_row7_col4\" class=\"data row7 col4\" >-0.009204</td>\n",
       "                        <td id=\"T_6fffd_row7_col5\" class=\"data row7 col5\" >-0.001949</td>\n",
       "                        <td id=\"T_6fffd_row7_col6\" class=\"data row7 col6\" >0.012333</td>\n",
       "                        <td id=\"T_6fffd_row7_col7\" class=\"data row7 col7\" >1.000000</td>\n",
       "                        <td id=\"T_6fffd_row7_col8\" class=\"data row7 col8\" >-0.817839</td>\n",
       "                        <td id=\"T_6fffd_row7_col9\" class=\"data row7 col9\" >-0.062262</td>\n",
       "                        <td id=\"T_6fffd_row7_col10\" class=\"data row7 col10\" >0.078319</td>\n",
       "                        <td id=\"T_6fffd_row7_col11\" class=\"data row7 col11\" >-0.112325</td>\n",
       "            </tr>\n",
       "            <tr>\n",
       "                        <th id=\"T_6fffd_level0_row8\" class=\"row_heading level0 row8\" >moth_of_ad</th>\n",
       "                        <td id=\"T_6fffd_row8_col0\" class=\"data row8 col0\" >-0.007157</td>\n",
       "                        <td id=\"T_6fffd_row8_col1\" class=\"data row8 col1\" >-0.016581</td>\n",
       "                        <td id=\"T_6fffd_row8_col2\" class=\"data row8 col2\" >0.000105</td>\n",
       "                        <td id=\"T_6fffd_row8_col3\" class=\"data row8 col3\" >0.000587</td>\n",
       "                        <td id=\"T_6fffd_row8_col4\" class=\"data row8 col4\" >0.012696</td>\n",
       "                        <td id=\"T_6fffd_row8_col5\" class=\"data row8 col5\" >0.002531</td>\n",
       "                        <td id=\"T_6fffd_row8_col6\" class=\"data row8 col6\" >-0.012181</td>\n",
       "                        <td id=\"T_6fffd_row8_col7\" class=\"data row8 col7\" >-0.817839</td>\n",
       "                        <td id=\"T_6fffd_row8_col8\" class=\"data row8 col8\" >1.000000</td>\n",
       "                        <td id=\"T_6fffd_row8_col9\" class=\"data row8 col9\" >0.033466</td>\n",
       "                        <td id=\"T_6fffd_row8_col10\" class=\"data row8 col10\" >-0.060629</td>\n",
       "                        <td id=\"T_6fffd_row8_col11\" class=\"data row8 col11\" >0.094717</td>\n",
       "            </tr>\n",
       "            <tr>\n",
       "                        <th id=\"T_6fffd_level0_row9\" class=\"row_heading level0 row9\" >day_of_ad</th>\n",
       "                        <td id=\"T_6fffd_row9_col0\" class=\"data row9 col0\" >-0.001383</td>\n",
       "                        <td id=\"T_6fffd_row9_col1\" class=\"data row9 col1\" >0.002831</td>\n",
       "                        <td id=\"T_6fffd_row9_col2\" class=\"data row9 col2\" >-0.013557</td>\n",
       "                        <td id=\"T_6fffd_row9_col3\" class=\"data row9 col3\" >-0.004510</td>\n",
       "                        <td id=\"T_6fffd_row9_col4\" class=\"data row9 col4\" >-0.003887</td>\n",
       "                        <td id=\"T_6fffd_row9_col5\" class=\"data row9 col5\" >-0.002613</td>\n",
       "                        <td id=\"T_6fffd_row9_col6\" class=\"data row9 col6\" >-0.001350</td>\n",
       "                        <td id=\"T_6fffd_row9_col7\" class=\"data row9 col7\" >-0.062262</td>\n",
       "                        <td id=\"T_6fffd_row9_col8\" class=\"data row9 col8\" >0.033466</td>\n",
       "                        <td id=\"T_6fffd_row9_col9\" class=\"data row9 col9\" >1.000000</td>\n",
       "                        <td id=\"T_6fffd_row9_col10\" class=\"data row9 col10\" >-0.008697</td>\n",
       "                        <td id=\"T_6fffd_row9_col11\" class=\"data row9 col11\" >0.010519</td>\n",
       "            </tr>\n",
       "            <tr>\n",
       "                        <th id=\"T_6fffd_level0_row10\" class=\"row_heading level0 row10\" >idade_veiculo</th>\n",
       "                        <td id=\"T_6fffd_row10_col0\" class=\"data row10 col0\" >-0.495757</td>\n",
       "                        <td id=\"T_6fffd_row10_col1\" class=\"data row10 col1\" >-0.995540</td>\n",
       "                        <td id=\"T_6fffd_row10_col2\" class=\"data row10 col2\" >-0.209753</td>\n",
       "                        <td id=\"T_6fffd_row10_col3\" class=\"data row10 col3\" >0.147878</td>\n",
       "                        <td id=\"T_6fffd_row10_col4\" class=\"data row10 col4\" >0.516997</td>\n",
       "                        <td id=\"T_6fffd_row10_col5\" class=\"data row10 col5\" >0.015630</td>\n",
       "                        <td id=\"T_6fffd_row10_col6\" class=\"data row10 col6\" >0.005315</td>\n",
       "                        <td id=\"T_6fffd_row10_col7\" class=\"data row10 col7\" >0.078319</td>\n",
       "                        <td id=\"T_6fffd_row10_col8\" class=\"data row10 col8\" >-0.060629</td>\n",
       "                        <td id=\"T_6fffd_row10_col9\" class=\"data row10 col9\" >-0.008697</td>\n",
       "                        <td id=\"T_6fffd_row10_col10\" class=\"data row10 col10\" >1.000000</td>\n",
       "                        <td id=\"T_6fffd_row10_col11\" class=\"data row10 col11\" >-0.530661</td>\n",
       "            </tr>\n",
       "            <tr>\n",
       "                        <th id=\"T_6fffd_level0_row11\" class=\"row_heading level0 row11\" >km_ano</th>\n",
       "                        <td id=\"T_6fffd_row11_col0\" class=\"data row11 col0\" >0.248194</td>\n",
       "                        <td id=\"T_6fffd_row11_col1\" class=\"data row11 col1\" >0.521599</td>\n",
       "                        <td id=\"T_6fffd_row11_col2\" class=\"data row11 col2\" >0.027575</td>\n",
       "                        <td id=\"T_6fffd_row11_col3\" class=\"data row11 col3\" >-0.049477</td>\n",
       "                        <td id=\"T_6fffd_row11_col4\" class=\"data row11 col4\" >0.080861</td>\n",
       "                        <td id=\"T_6fffd_row11_col5\" class=\"data row11 col5\" >0.023186</td>\n",
       "                        <td id=\"T_6fffd_row11_col6\" class=\"data row11 col6\" >-0.002153</td>\n",
       "                        <td id=\"T_6fffd_row11_col7\" class=\"data row11 col7\" >-0.112325</td>\n",
       "                        <td id=\"T_6fffd_row11_col8\" class=\"data row11 col8\" >0.094717</td>\n",
       "                        <td id=\"T_6fffd_row11_col9\" class=\"data row11 col9\" >0.010519</td>\n",
       "                        <td id=\"T_6fffd_row11_col10\" class=\"data row11 col10\" >-0.530661</td>\n",
       "                        <td id=\"T_6fffd_row11_col11\" class=\"data row11 col11\" >1.000000</td>\n",
       "            </tr>\n",
       "    </tbody></table>"
      ],
      "text/plain": [
       "<pandas.io.formats.style.Styler at 0x7f330e417bb0>"
      ]
     },
     "execution_count": 65,
     "metadata": {},
     "output_type": "execute_result"
    }
   ],
   "source": [
    "df_2 = df.select_dtypes(exclude='object')\n",
    "df_2.corr().style.background_gradient(cmap='Blues')"
   ]
  },
  {
   "cell_type": "code",
   "execution_count": 66,
   "metadata": {},
   "outputs": [
    {
     "data": {
      "text/plain": [
       "<AxesSubplot:xlabel='price', ylabel='idade_veiculo'>"
      ]
     },
     "execution_count": 66,
     "metadata": {},
     "output_type": "execute_result"
    },
    {
     "data": {
      "image/png": "[encoded data removed]",
      "text/plain": [
       "<Figure size 432x288 with 1 Axes>"
      ]
     },
     "metadata": {
      "needs_background": "light"
     },
     "output_type": "display_data"
    }
   ],
   "source": [
    "#preço por idade do veiculo\n",
    "df.plot(x='price', y='idade_veiculo', kind='scatter')"
   ]
  },
  {
   "cell_type": "code",
   "execution_count": 67,
   "metadata": {},
   "outputs": [
    {
     "data": {
      "text/plain": [
       "<AxesSubplot:xlabel='price', ylabel='odometer'>"
      ]
     },
     "execution_count": 67,
     "metadata": {},
     "output_type": "execute_result"
    },
    {
     "data": {
      "image/png": "[encoded data removed]",
      "text/plain": [
       "<Figure size 432x288 with 1 Axes>"
      ]
     },
     "metadata": {
      "needs_background": "light"
     },
     "output_type": "display_data"
    }
   ],
   "source": [
    "#preço por kilometragem\n",
    "df.plot(x='price', y='odometer', kind='scatter',alpha=0.01)"
   ]
  },
  {
   "cell_type": "code",
   "execution_count": 68,
   "metadata": {},
   "outputs": [
    {
     "data": {
      "text/plain": [
       "<AxesSubplot:xlabel='condition', ylabel='price'>"
      ]
     },
     "execution_count": 68,
     "metadata": {},
     "output_type": "execute_result"
    },
    {
     "data": {
      "image/png": "[encoded data removed]",
      "text/plain": [
       "<Figure size 432x288 with 1 Axes>"
      ]
     },
     "metadata": {
      "needs_background": "light"
     },
     "output_type": "display_data"
    }
   ],
   "source": [
    "df.plot(x='condition', y='price', kind='scatter')"
   ]
  },
  {
   "cell_type": "code",
   "execution_count": 69,
   "metadata": {
    "scrolled": true
   },
   "outputs": [
    {
     "data": {
      "text/plain": [
       "(-1.0, 2.0)"
      ]
     },
     "execution_count": 69,
     "metadata": {},
     "output_type": "execute_result"
    },
    {
     "data": {
      "image/png": "[encoded data removed]",
      "text/plain": [
       "<Figure size 432x288 with 1 Axes>"
      ]
     },
     "metadata": {
      "needs_background": "light"
     },
     "output_type": "display_data"
    }
   ],
   "source": [
    "df.boxplot(column=['is_4wd'] )\n",
    "plt.ylim(-1, 2)"
   ]
  },
  {
   "cell_type": "markdown",
   "metadata": {},
   "source": [
    "## Conclusão geral\n",
    "\n"
   ]
  },
  {
   "cell_type": "markdown",
   "metadata": {},
   "source": [
    "Tive que preencher alguns dados faltantes e limitar os outliers para que não modificasse analises futuras. \n",
    "Podemos notar que carros mais novos tendem a custar mais, sendo depois de 10 anos o preço do carro decai muito. \n",
    "Além disso podemos ver que as pessoas compram carros de até 200000km rodados, desde que paguem menos de 10000 por eles. \n",
    "A kilometragem parece ser um fator mais relevante que o estado do carro, mesmo que sejam dados relacionados, provavelmente a aparencia fisica do carro conta menos que o número de km rodados. \n",
    "O modelo do carro está diretamente relacionado com o preço dele. \n",
    "Carros mais velhos realmente estão mais rodados que carros mais novos. "
   ]
  },
  {
   "cell_type": "markdown",
   "metadata": {},
   "source": []
  }
 ],
 "metadata": {
  "ExecuteTimeLog": [
   {
    "duration": 828,
    "start_time": "2021-11-16T09:21:11.304Z"
   },
   {
    "duration": 893,
    "start_time": "2021-11-16T09:21:17.728Z"
   },
   {
    "duration": 1150,
    "start_time": "2021-11-16T09:21:29.568Z"
   },
   {
    "duration": 3,
    "start_time": "2021-11-16T09:24:14.495Z"
   },
   {
    "duration": 120,
    "start_time": "2021-11-16T09:24:46.630Z"
   },
   {
    "duration": 3,
    "start_time": "2021-11-16T09:28:27.882Z"
   },
   {
    "duration": 4,
    "start_time": "2021-11-16T09:29:54.281Z"
   },
   {
    "duration": 3,
    "start_time": "2021-11-16T09:30:45.936Z"
   },
   {
    "duration": 4,
    "start_time": "2021-11-16T09:31:06.300Z"
   },
   {
    "duration": 113,
    "start_time": "2021-11-16T09:31:37.208Z"
   },
   {
    "duration": 143,
    "start_time": "2021-11-16T09:31:48.656Z"
   },
   {
    "duration": 98,
    "start_time": "2021-11-16T09:31:55.678Z"
   },
   {
    "duration": 3,
    "start_time": "2021-11-16T09:32:08.535Z"
   },
   {
    "duration": 111,
    "start_time": "2021-11-16T09:32:10.120Z"
   },
   {
    "duration": 3,
    "start_time": "2021-11-16T09:32:15.732Z"
   },
   {
    "duration": 4,
    "start_time": "2021-11-16T09:32:29.423Z"
   },
   {
    "duration": 3,
    "start_time": "2021-11-16T10:03:03.074Z"
   },
   {
    "duration": 3,
    "start_time": "2021-11-16T10:10:01.288Z"
   },
   {
    "duration": 3,
    "start_time": "2021-11-16T10:10:46.923Z"
   },
   {
    "duration": 121,
    "start_time": "2021-11-16T10:37:46.494Z"
   },
   {
    "duration": 125,
    "start_time": "2021-11-16T10:38:20.632Z"
   },
   {
    "duration": 112,
    "start_time": "2021-11-16T10:46:53.001Z"
   },
   {
    "duration": 110,
    "start_time": "2021-11-16T10:48:25.775Z"
   },
   {
    "duration": 3,
    "start_time": "2021-11-16T10:50:18.720Z"
   },
   {
    "duration": 4,
    "start_time": "2021-11-16T10:50:37.649Z"
   },
   {
    "duration": 2,
    "start_time": "2021-11-16T10:50:51.884Z"
   },
   {
    "duration": 3,
    "start_time": "2021-11-16T10:51:56.237Z"
   },
   {
    "duration": 101,
    "start_time": "2021-11-16T10:53:13.791Z"
   },
   {
    "duration": 3,
    "start_time": "2021-11-16T10:55:59.186Z"
   },
   {
    "duration": 3,
    "start_time": "2021-11-16T10:56:10.751Z"
   },
   {
    "duration": 3,
    "start_time": "2021-11-16T10:56:49.038Z"
   },
   {
    "duration": 3,
    "start_time": "2021-11-16T10:56:49.174Z"
   },
   {
    "duration": 4,
    "start_time": "2021-11-16T10:56:49.414Z"
   },
   {
    "duration": 3,
    "start_time": "2021-11-16T10:56:49.680Z"
   },
   {
    "duration": 3,
    "start_time": "2021-11-16T10:56:50.370Z"
   },
   {
    "duration": 114,
    "start_time": "2021-11-16T10:59:34.518Z"
   },
   {
    "duration": 3,
    "start_time": "2021-11-16T11:01:41.201Z"
   },
   {
    "duration": 116,
    "start_time": "2021-11-16T11:01:48.754Z"
   },
   {
    "duration": 3,
    "start_time": "2021-11-16T11:02:16.685Z"
   },
   {
    "duration": 3,
    "start_time": "2021-11-16T11:02:19.479Z"
   },
   {
    "duration": 3,
    "start_time": "2021-11-16T11:02:47.067Z"
   },
   {
    "duration": 3,
    "start_time": "2021-11-16T11:02:49.353Z"
   },
   {
    "duration": 3,
    "start_time": "2021-11-16T11:03:07.835Z"
   },
   {
    "duration": 3,
    "start_time": "2021-11-16T11:03:07.953Z"
   },
   {
    "duration": 112,
    "start_time": "2021-11-16T11:07:52.072Z"
   },
   {
    "duration": 187,
    "start_time": "2021-11-16T11:09:23.468Z"
   },
   {
    "duration": 4,
    "start_time": "2021-11-16T11:10:01.455Z"
   },
   {
    "duration": 3,
    "start_time": "2021-11-16T11:10:05.069Z"
   },
   {
    "duration": 4,
    "start_time": "2021-11-16T11:10:13.376Z"
   },
   {
    "duration": 3,
    "start_time": "2021-11-16T11:10:14.434Z"
   },
   {
    "duration": 3,
    "start_time": "2021-11-16T11:10:22.853Z"
   },
   {
    "duration": 4,
    "start_time": "2021-11-16T11:27:29.279Z"
   },
   {
    "duration": 4,
    "start_time": "2021-11-16T11:29:08.919Z"
   },
   {
    "duration": 118,
    "start_time": "2021-11-16T11:29:46.703Z"
   },
   {
    "duration": 437,
    "start_time": "2021-11-16T11:36:02.181Z"
   },
   {
    "duration": 157,
    "start_time": "2021-11-16T11:36:14.388Z"
   },
   {
    "duration": 207,
    "start_time": "2021-11-16T11:47:15.898Z"
   },
   {
    "duration": 3,
    "start_time": "2021-11-16T11:53:52.092Z"
   },
   {
    "duration": 3,
    "start_time": "2021-11-16T11:53:52.236Z"
   },
   {
    "duration": 3,
    "start_time": "2021-11-16T11:59:12.005Z"
   },
   {
    "duration": 112,
    "start_time": "2021-11-16T12:00:33.446Z"
   },
   {
    "duration": 3,
    "start_time": "2021-11-16T12:02:14.453Z"
   },
   {
    "duration": 3,
    "start_time": "2021-11-16T12:02:39.512Z"
   },
   {
    "duration": 106,
    "start_time": "2021-11-16T12:03:03.460Z"
   },
   {
    "duration": 447,
    "start_time": "2022-08-03T19:59:29.949Z"
   },
   {
    "duration": 118,
    "start_time": "2022-08-03T20:00:16.448Z"
   },
   {
    "duration": 809,
    "start_time": "2022-08-03T20:00:44.532Z"
   },
   {
    "duration": 31,
    "start_time": "2022-08-03T20:20:58.322Z"
   },
   {
    "duration": 35,
    "start_time": "2022-08-03T20:21:17.052Z"
   },
   {
    "duration": 22,
    "start_time": "2022-08-03T20:47:50.167Z"
   },
   {
    "duration": 22,
    "start_time": "2022-08-03T21:01:19.182Z"
   },
   {
    "duration": 110,
    "start_time": "2022-08-03T21:01:30.279Z"
   },
   {
    "duration": 33,
    "start_time": "2022-08-03T21:01:35.832Z"
   },
   {
    "duration": 17,
    "start_time": "2022-08-03T21:01:55.091Z"
   },
   {
    "duration": 77,
    "start_time": "2022-08-03T21:08:35.125Z"
   },
   {
    "duration": 11,
    "start_time": "2022-08-03T21:09:29.684Z"
   },
   {
    "duration": 13,
    "start_time": "2022-08-03T21:09:34.777Z"
   },
   {
    "duration": 6,
    "start_time": "2022-08-03T21:09:55.889Z"
   },
   {
    "duration": 6,
    "start_time": "2022-08-03T21:10:07.532Z"
   },
   {
    "duration": 12,
    "start_time": "2022-08-03T21:10:54.269Z"
   },
   {
    "duration": 11,
    "start_time": "2022-08-03T21:11:11.497Z"
   },
   {
    "duration": 3,
    "start_time": "2022-08-03T21:11:16.219Z"
   },
   {
    "duration": 6,
    "start_time": "2022-08-03T21:11:27.863Z"
   },
   {
    "duration": 406,
    "start_time": "2022-08-05T15:06:55.875Z"
   },
   {
    "duration": 154,
    "start_time": "2022-08-05T15:06:57.753Z"
   },
   {
    "duration": 22,
    "start_time": "2022-08-05T15:06:59.089Z"
   },
   {
    "duration": 20,
    "start_time": "2022-08-05T15:06:59.717Z"
   },
   {
    "duration": 74,
    "start_time": "2022-08-05T15:09:10.258Z"
   },
   {
    "duration": 5,
    "start_time": "2022-08-05T15:09:17.502Z"
   },
   {
    "duration": 4,
    "start_time": "2022-08-05T15:13:28.494Z"
   },
   {
    "duration": 12,
    "start_time": "2022-08-05T15:25:12.009Z"
   },
   {
    "duration": 7,
    "start_time": "2022-08-05T15:25:19.498Z"
   },
   {
    "duration": 10,
    "start_time": "2022-08-05T15:25:24.373Z"
   },
   {
    "duration": 6,
    "start_time": "2022-08-05T15:25:36.672Z"
   },
   {
    "duration": 5,
    "start_time": "2022-08-05T15:25:40.420Z"
   },
   {
    "duration": 8,
    "start_time": "2022-08-05T15:28:36.189Z"
   },
   {
    "duration": 7,
    "start_time": "2022-08-05T15:28:44.171Z"
   },
   {
    "duration": 897,
    "start_time": "2022-08-05T15:28:47.739Z"
   },
   {
    "duration": 831,
    "start_time": "2022-08-05T15:28:53.003Z"
   },
   {
    "duration": 8,
    "start_time": "2022-08-05T15:29:14.546Z"
   },
   {
    "duration": 12,
    "start_time": "2022-08-05T15:29:19.099Z"
   },
   {
    "duration": 10,
    "start_time": "2022-08-05T15:29:34.816Z"
   },
   {
    "duration": 17,
    "start_time": "2022-08-05T15:30:10.952Z"
   },
   {
    "duration": 22,
    "start_time": "2022-08-05T15:30:23.026Z"
   },
   {
    "duration": 10,
    "start_time": "2022-08-05T15:30:27.016Z"
   },
   {
    "duration": 17,
    "start_time": "2022-08-05T15:31:24.134Z"
   },
   {
    "duration": 20,
    "start_time": "2022-08-05T15:31:56.820Z"
   },
   {
    "duration": 24,
    "start_time": "2022-08-05T15:32:00.648Z"
   },
   {
    "duration": 15,
    "start_time": "2022-08-05T15:32:04.701Z"
   },
   {
    "duration": 25,
    "start_time": "2022-08-05T15:32:08.040Z"
   },
   {
    "duration": 4,
    "start_time": "2022-08-05T15:36:27.038Z"
   },
   {
    "duration": 4,
    "start_time": "2022-08-05T15:37:06.249Z"
   },
   {
    "duration": 48,
    "start_time": "2022-08-05T15:37:19.952Z"
   },
   {
    "duration": 4,
    "start_time": "2022-08-05T15:37:25.936Z"
   },
   {
    "duration": 4,
    "start_time": "2022-08-05T15:37:38.578Z"
   },
   {
    "duration": 9,
    "start_time": "2022-08-05T15:37:50.914Z"
   },
   {
    "duration": 7,
    "start_time": "2022-08-05T15:37:58.661Z"
   },
   {
    "duration": 7,
    "start_time": "2022-08-05T15:38:45.130Z"
   },
   {
    "duration": 8,
    "start_time": "2022-08-05T15:38:59.392Z"
   },
   {
    "duration": 2,
    "start_time": "2022-08-05T16:44:52.794Z"
   },
   {
    "duration": 100,
    "start_time": "2022-08-05T16:44:52.810Z"
   },
   {
    "duration": 21,
    "start_time": "2022-08-05T16:44:52.912Z"
   },
   {
    "duration": 24,
    "start_time": "2022-08-05T16:44:52.934Z"
   },
   {
    "duration": 17,
    "start_time": "2022-08-05T16:44:52.959Z"
   },
   {
    "duration": 8,
    "start_time": "2022-08-05T16:44:52.978Z"
   },
   {
    "duration": 415,
    "start_time": "2022-08-06T21:25:05.756Z"
   },
   {
    "duration": 400,
    "start_time": "2022-08-06T21:25:06.173Z"
   },
   {
    "duration": 35,
    "start_time": "2022-08-06T21:25:06.575Z"
   },
   {
    "duration": 23,
    "start_time": "2022-08-06T21:25:06.613Z"
   },
   {
    "duration": 22,
    "start_time": "2022-08-06T21:25:06.637Z"
   },
   {
    "duration": 34,
    "start_time": "2022-08-06T21:25:06.661Z"
   },
   {
    "duration": 363,
    "start_time": "2022-08-08T12:44:45.667Z"
   },
   {
    "duration": 167,
    "start_time": "2022-08-08T12:44:46.031Z"
   },
   {
    "duration": 21,
    "start_time": "2022-08-08T12:44:46.200Z"
   },
   {
    "duration": 17,
    "start_time": "2022-08-08T12:44:46.223Z"
   },
   {
    "duration": 16,
    "start_time": "2022-08-08T12:44:46.241Z"
   },
   {
    "duration": 9,
    "start_time": "2022-08-08T12:44:46.259Z"
   },
   {
    "duration": 57,
    "start_time": "2022-08-08T12:49:55.817Z"
   },
   {
    "duration": 5,
    "start_time": "2022-08-08T12:50:05.823Z"
   },
   {
    "duration": 6,
    "start_time": "2022-08-08T12:51:27.348Z"
   },
   {
    "duration": 6,
    "start_time": "2022-08-08T12:52:11.710Z"
   },
   {
    "duration": 11,
    "start_time": "2022-08-08T12:52:35.389Z"
   },
   {
    "duration": 10,
    "start_time": "2022-08-08T12:53:29.160Z"
   },
   {
    "duration": 6,
    "start_time": "2022-08-08T12:53:36.395Z"
   },
   {
    "duration": 6,
    "start_time": "2022-08-08T12:53:55.999Z"
   },
   {
    "duration": 21,
    "start_time": "2022-08-08T12:54:27.235Z"
   },
   {
    "duration": 55,
    "start_time": "2022-08-08T12:54:43.550Z"
   },
   {
    "duration": 4,
    "start_time": "2022-08-08T12:54:52.321Z"
   },
   {
    "duration": 28,
    "start_time": "2022-08-08T12:59:18.657Z"
   },
   {
    "duration": 8,
    "start_time": "2022-08-08T12:59:33.481Z"
   },
   {
    "duration": 4,
    "start_time": "2022-08-08T12:59:36.586Z"
   },
   {
    "duration": 4,
    "start_time": "2022-08-08T12:59:45.280Z"
   },
   {
    "duration": 6,
    "start_time": "2022-08-08T12:59:53.523Z"
   },
   {
    "duration": 4,
    "start_time": "2022-08-08T12:59:59.056Z"
   },
   {
    "duration": 19,
    "start_time": "2022-08-08T13:00:12.782Z"
   },
   {
    "duration": 3,
    "start_time": "2022-08-08T13:00:13.562Z"
   },
   {
    "duration": 4,
    "start_time": "2022-08-08T13:00:20.101Z"
   },
   {
    "duration": 16,
    "start_time": "2022-08-08T14:07:34.788Z"
   },
   {
    "duration": 5,
    "start_time": "2022-08-08T14:07:35.390Z"
   },
   {
    "duration": 20,
    "start_time": "2022-08-08T14:08:46.044Z"
   },
   {
    "duration": 5,
    "start_time": "2022-08-08T14:08:46.718Z"
   },
   {
    "duration": 57,
    "start_time": "2022-08-08T14:14:52.682Z"
   },
   {
    "duration": 5,
    "start_time": "2022-08-08T14:16:48.306Z"
   },
   {
    "duration": 4,
    "start_time": "2022-08-08T14:16:49.594Z"
   },
   {
    "duration": 4,
    "start_time": "2022-08-08T14:16:52.403Z"
   },
   {
    "duration": 6,
    "start_time": "2022-08-08T14:16:55.313Z"
   },
   {
    "duration": 4,
    "start_time": "2022-08-08T14:16:56.268Z"
   },
   {
    "duration": 3,
    "start_time": "2022-08-08T14:17:07.028Z"
   },
   {
    "duration": 5,
    "start_time": "2022-08-08T14:17:08.288Z"
   },
   {
    "duration": 7,
    "start_time": "2022-08-08T14:27:54.594Z"
   },
   {
    "duration": 8,
    "start_time": "2022-08-08T14:28:04.904Z"
   },
   {
    "duration": 15,
    "start_time": "2022-08-08T14:42:35.516Z"
   },
   {
    "duration": 16,
    "start_time": "2022-08-08T14:43:17.857Z"
   },
   {
    "duration": 15,
    "start_time": "2022-08-08T14:43:25.129Z"
   },
   {
    "duration": 9,
    "start_time": "2022-08-08T14:45:51.936Z"
   },
   {
    "duration": 22,
    "start_time": "2022-08-08T14:46:05.797Z"
   },
   {
    "duration": 15,
    "start_time": "2022-08-08T15:06:12.033Z"
   },
   {
    "duration": 10,
    "start_time": "2022-08-08T15:07:00.045Z"
   },
   {
    "duration": 6,
    "start_time": "2022-08-08T15:07:04.858Z"
   },
   {
    "duration": 10,
    "start_time": "2022-08-08T15:07:08.742Z"
   },
   {
    "duration": 9,
    "start_time": "2022-08-08T15:07:15.516Z"
   },
   {
    "duration": 6,
    "start_time": "2022-08-08T15:07:22.920Z"
   },
   {
    "duration": 9,
    "start_time": "2022-08-08T15:07:32.344Z"
   },
   {
    "duration": 7,
    "start_time": "2022-08-08T15:07:37.593Z"
   },
   {
    "duration": 6,
    "start_time": "2022-08-08T15:07:45.238Z"
   },
   {
    "duration": 10,
    "start_time": "2022-08-08T15:08:15.742Z"
   },
   {
    "duration": 12,
    "start_time": "2022-08-08T15:08:30.814Z"
   },
   {
    "duration": 7,
    "start_time": "2022-08-08T15:09:22.908Z"
   },
   {
    "duration": 17,
    "start_time": "2022-08-08T15:09:27.910Z"
   },
   {
    "duration": 5,
    "start_time": "2022-08-08T15:09:49.402Z"
   },
   {
    "duration": 16,
    "start_time": "2022-08-08T15:10:36.831Z"
   },
   {
    "duration": 21,
    "start_time": "2022-08-08T15:34:00.747Z"
   },
   {
    "duration": 7,
    "start_time": "2022-08-08T15:34:50.212Z"
   },
   {
    "duration": 9,
    "start_time": "2022-08-08T15:34:55.825Z"
   },
   {
    "duration": 7,
    "start_time": "2022-08-08T15:37:53.551Z"
   },
   {
    "duration": 15,
    "start_time": "2022-08-08T15:38:01.612Z"
   },
   {
    "duration": 20,
    "start_time": "2022-08-08T15:38:04.123Z"
   },
   {
    "duration": 6,
    "start_time": "2022-08-08T15:38:09.963Z"
   },
   {
    "duration": 15,
    "start_time": "2022-08-08T15:38:18.552Z"
   },
   {
    "duration": 6,
    "start_time": "2022-08-08T15:39:19.655Z"
   },
   {
    "duration": 23,
    "start_time": "2022-08-08T15:39:56.019Z"
   },
   {
    "duration": 3,
    "start_time": "2022-08-08T15:40:15.689Z"
   },
   {
    "duration": 100,
    "start_time": "2022-08-08T15:40:17.188Z"
   },
   {
    "duration": 21,
    "start_time": "2022-08-08T15:40:19.551Z"
   },
   {
    "duration": 13,
    "start_time": "2022-08-08T15:40:34.607Z"
   },
   {
    "duration": 18,
    "start_time": "2022-08-08T15:40:37.085Z"
   },
   {
    "duration": 7,
    "start_time": "2022-08-08T15:40:44.489Z"
   },
   {
    "duration": 5,
    "start_time": "2022-08-08T15:40:44.710Z"
   },
   {
    "duration": 5,
    "start_time": "2022-08-08T15:40:44.905Z"
   },
   {
    "duration": 5,
    "start_time": "2022-08-08T15:40:45.087Z"
   },
   {
    "duration": 7,
    "start_time": "2022-08-08T15:40:45.257Z"
   },
   {
    "duration": 6,
    "start_time": "2022-08-08T15:40:45.458Z"
   },
   {
    "duration": 4,
    "start_time": "2022-08-08T15:40:45.613Z"
   },
   {
    "duration": 5,
    "start_time": "2022-08-08T15:40:48.856Z"
   },
   {
    "duration": 5,
    "start_time": "2022-08-08T15:40:49.181Z"
   },
   {
    "duration": 22,
    "start_time": "2022-08-08T15:40:59.223Z"
   },
   {
    "duration": 6,
    "start_time": "2022-08-08T15:41:02.677Z"
   },
   {
    "duration": 6,
    "start_time": "2022-08-08T15:41:14.113Z"
   },
   {
    "duration": 16,
    "start_time": "2022-08-08T15:41:23.260Z"
   },
   {
    "duration": 28,
    "start_time": "2022-08-08T15:41:27.827Z"
   },
   {
    "duration": 2,
    "start_time": "2022-08-08T15:42:27.079Z"
   },
   {
    "duration": 89,
    "start_time": "2022-08-08T15:42:28.169Z"
   },
   {
    "duration": 24,
    "start_time": "2022-08-08T15:42:29.531Z"
   },
   {
    "duration": 10,
    "start_time": "2022-08-08T15:42:34.537Z"
   },
   {
    "duration": 14,
    "start_time": "2022-08-08T15:42:44.577Z"
   },
   {
    "duration": 17,
    "start_time": "2022-08-08T15:42:46.577Z"
   },
   {
    "duration": 6,
    "start_time": "2022-08-08T15:42:46.751Z"
   },
   {
    "duration": 5,
    "start_time": "2022-08-08T15:42:46.939Z"
   },
   {
    "duration": 6,
    "start_time": "2022-08-08T15:42:47.136Z"
   },
   {
    "duration": 8,
    "start_time": "2022-08-08T15:42:47.329Z"
   },
   {
    "duration": 7,
    "start_time": "2022-08-08T15:42:47.521Z"
   },
   {
    "duration": 6,
    "start_time": "2022-08-08T15:42:47.716Z"
   },
   {
    "duration": 4,
    "start_time": "2022-08-08T15:42:47.886Z"
   },
   {
    "duration": 3,
    "start_time": "2022-08-08T15:42:48.255Z"
   },
   {
    "duration": 4,
    "start_time": "2022-08-08T15:42:48.709Z"
   },
   {
    "duration": 21,
    "start_time": "2022-08-08T15:42:48.987Z"
   },
   {
    "duration": 6,
    "start_time": "2022-08-08T15:42:50.215Z"
   },
   {
    "duration": 6,
    "start_time": "2022-08-08T15:42:51.363Z"
   },
   {
    "duration": 7,
    "start_time": "2022-08-08T15:43:28.025Z"
   },
   {
    "duration": 9,
    "start_time": "2022-08-08T15:43:33.173Z"
   },
   {
    "duration": 6,
    "start_time": "2022-08-08T15:43:44.781Z"
   },
   {
    "duration": 3,
    "start_time": "2022-08-08T15:45:18.705Z"
   },
   {
    "duration": 13,
    "start_time": "2022-08-08T16:11:58.576Z"
   },
   {
    "duration": 18,
    "start_time": "2022-08-08T16:12:04.215Z"
   },
   {
    "duration": 9,
    "start_time": "2022-08-08T16:12:41.145Z"
   },
   {
    "duration": 6,
    "start_time": "2022-08-08T16:15:18.089Z"
   },
   {
    "duration": 3,
    "start_time": "2022-08-08T16:23:31.460Z"
   },
   {
    "duration": 7,
    "start_time": "2022-08-08T16:26:31.327Z"
   },
   {
    "duration": 3,
    "start_time": "2022-08-08T16:26:40.329Z"
   },
   {
    "duration": 532,
    "start_time": "2022-08-08T16:26:40.880Z"
   },
   {
    "duration": 7,
    "start_time": "2022-08-08T16:27:11.518Z"
   },
   {
    "duration": 5,
    "start_time": "2022-08-08T16:27:15.363Z"
   },
   {
    "duration": 5,
    "start_time": "2022-08-08T16:27:20.190Z"
   },
   {
    "duration": 7,
    "start_time": "2022-08-08T16:36:41.553Z"
   },
   {
    "duration": 8,
    "start_time": "2022-08-08T16:36:51.039Z"
   },
   {
    "duration": 4,
    "start_time": "2022-08-08T16:36:59.259Z"
   },
   {
    "duration": 5,
    "start_time": "2022-08-08T20:14:00.879Z"
   },
   {
    "duration": 4,
    "start_time": "2022-08-08T20:14:06.311Z"
   },
   {
    "duration": 9,
    "start_time": "2022-08-08T20:14:27.818Z"
   },
   {
    "duration": 5,
    "start_time": "2022-08-08T20:14:43.961Z"
   },
   {
    "duration": 13,
    "start_time": "2022-08-08T20:36:50.175Z"
   },
   {
    "duration": 18,
    "start_time": "2022-08-08T20:36:56.510Z"
   },
   {
    "duration": 3,
    "start_time": "2022-08-08T20:37:30.732Z"
   },
   {
    "duration": 429,
    "start_time": "2022-08-08T20:38:03.890Z"
   },
   {
    "duration": 4,
    "start_time": "2022-08-08T20:39:17.038Z"
   },
   {
    "duration": 17,
    "start_time": "2022-08-08T20:39:24.890Z"
   },
   {
    "duration": 51,
    "start_time": "2022-08-08T21:21:54.313Z"
   },
   {
    "duration": 50,
    "start_time": "2022-08-08T21:23:00.054Z"
   },
   {
    "duration": 22,
    "start_time": "2022-08-08T21:27:09.221Z"
   },
   {
    "duration": 8,
    "start_time": "2022-08-08T21:27:33.246Z"
   },
   {
    "duration": 18,
    "start_time": "2022-08-08T21:30:31.717Z"
   },
   {
    "duration": 26,
    "start_time": "2022-08-08T21:30:36.824Z"
   },
   {
    "duration": 25,
    "start_time": "2022-08-08T21:30:40.186Z"
   },
   {
    "duration": 29,
    "start_time": "2022-08-08T21:30:42.934Z"
   },
   {
    "duration": 15,
    "start_time": "2022-08-08T21:30:47.117Z"
   },
   {
    "duration": 24,
    "start_time": "2022-08-09T00:18:18.815Z"
   },
   {
    "duration": 97,
    "start_time": "2022-08-09T00:19:08.428Z"
   },
   {
    "duration": 47,
    "start_time": "2022-08-09T00:19:16.128Z"
   },
   {
    "duration": 57,
    "start_time": "2022-08-09T00:19:18.961Z"
   },
   {
    "duration": 15,
    "start_time": "2022-08-09T00:21:17.107Z"
   },
   {
    "duration": 42,
    "start_time": "2022-08-09T00:21:29.205Z"
   },
   {
    "duration": 9,
    "start_time": "2022-08-09T00:22:34.840Z"
   },
   {
    "duration": 9,
    "start_time": "2022-08-09T00:22:40.929Z"
   },
   {
    "duration": 17,
    "start_time": "2022-08-09T00:25:14.624Z"
   },
   {
    "duration": 16,
    "start_time": "2022-08-09T00:25:24.348Z"
   },
   {
    "duration": 16,
    "start_time": "2022-08-09T00:25:40.088Z"
   },
   {
    "duration": 15,
    "start_time": "2022-08-09T00:25:51.097Z"
   },
   {
    "duration": 14,
    "start_time": "2022-08-09T00:26:11.520Z"
   },
   {
    "duration": 14,
    "start_time": "2022-08-09T00:26:28.804Z"
   },
   {
    "duration": 13,
    "start_time": "2022-08-09T00:26:33.174Z"
   },
   {
    "duration": 16,
    "start_time": "2022-08-09T00:26:39.668Z"
   },
   {
    "duration": 51,
    "start_time": "2022-08-09T00:32:44.715Z"
   },
   {
    "duration": 9,
    "start_time": "2022-08-09T00:36:36.609Z"
   },
   {
    "duration": 12,
    "start_time": "2022-08-09T00:36:42.363Z"
   },
   {
    "duration": 12,
    "start_time": "2022-08-09T00:36:56.013Z"
   },
   {
    "duration": 4,
    "start_time": "2022-08-09T00:38:53.321Z"
   },
   {
    "duration": 15,
    "start_time": "2022-08-09T00:39:04.576Z"
   },
   {
    "duration": 5,
    "start_time": "2022-08-09T00:39:14.198Z"
   },
   {
    "duration": 5,
    "start_time": "2022-08-09T00:39:26.292Z"
   },
   {
    "duration": 8,
    "start_time": "2022-08-09T00:39:44.969Z"
   },
   {
    "duration": 8,
    "start_time": "2022-08-09T00:39:52.160Z"
   },
   {
    "duration": 48,
    "start_time": "2022-08-09T00:41:47.515Z"
   },
   {
    "duration": 18,
    "start_time": "2022-08-09T00:41:54.891Z"
   },
   {
    "duration": 51,
    "start_time": "2022-08-09T00:42:39.455Z"
   },
   {
    "duration": 4,
    "start_time": "2022-08-09T00:42:50.437Z"
   },
   {
    "duration": 23,
    "start_time": "2022-08-09T00:43:21.221Z"
   },
   {
    "duration": 10,
    "start_time": "2022-08-09T00:43:31.305Z"
   },
   {
    "duration": 18,
    "start_time": "2022-08-09T00:44:40.160Z"
   },
   {
    "duration": 42,
    "start_time": "2022-08-09T00:44:48.177Z"
   },
   {
    "duration": 27,
    "start_time": "2022-08-09T00:44:58.329Z"
   },
   {
    "duration": 50,
    "start_time": "2022-08-09T00:45:08.449Z"
   },
   {
    "duration": 45,
    "start_time": "2022-08-09T00:45:15.315Z"
   },
   {
    "duration": 43,
    "start_time": "2022-08-09T00:45:28.032Z"
   },
   {
    "duration": 46,
    "start_time": "2022-08-09T00:45:41.494Z"
   },
   {
    "duration": 5,
    "start_time": "2022-08-09T00:46:03.386Z"
   },
   {
    "duration": 5,
    "start_time": "2022-08-09T00:46:11.887Z"
   },
   {
    "duration": 6,
    "start_time": "2022-08-09T00:46:20.265Z"
   },
   {
    "duration": 5,
    "start_time": "2022-08-09T00:46:29.919Z"
   },
   {
    "duration": 410,
    "start_time": "2022-08-09T14:35:30.403Z"
   },
   {
    "duration": 161,
    "start_time": "2022-08-09T14:35:31.257Z"
   },
   {
    "duration": 24,
    "start_time": "2022-08-09T14:35:32.333Z"
   },
   {
    "duration": 21,
    "start_time": "2022-08-09T14:35:32.724Z"
   },
   {
    "duration": 18,
    "start_time": "2022-08-09T14:35:37.577Z"
   },
   {
    "duration": 7,
    "start_time": "2022-08-09T14:35:40.394Z"
   },
   {
    "duration": 6,
    "start_time": "2022-08-09T14:35:41.047Z"
   },
   {
    "duration": 5,
    "start_time": "2022-08-09T14:35:41.703Z"
   },
   {
    "duration": 8,
    "start_time": "2022-08-09T14:35:42.295Z"
   },
   {
    "duration": 7,
    "start_time": "2022-08-09T14:35:42.979Z"
   },
   {
    "duration": 6,
    "start_time": "2022-08-09T14:35:44.326Z"
   },
   {
    "duration": 4,
    "start_time": "2022-08-09T14:35:46.757Z"
   },
   {
    "duration": 5,
    "start_time": "2022-08-09T14:35:47.413Z"
   },
   {
    "duration": 17,
    "start_time": "2022-08-09T14:35:49.407Z"
   },
   {
    "duration": 4,
    "start_time": "2022-08-09T14:35:50.771Z"
   },
   {
    "duration": 536,
    "start_time": "2022-08-09T14:35:51.951Z"
   },
   {
    "duration": 5,
    "start_time": "2022-08-09T14:35:52.779Z"
   },
   {
    "duration": 21,
    "start_time": "2022-08-09T14:36:01.549Z"
   },
   {
    "duration": 3,
    "start_time": "2022-08-09T14:36:07.475Z"
   },
   {
    "duration": 539,
    "start_time": "2022-08-09T14:36:11.012Z"
   },
   {
    "duration": 5,
    "start_time": "2022-08-09T14:36:12.239Z"
   },
   {
    "duration": 7,
    "start_time": "2022-08-09T14:36:18.365Z"
   },
   {
    "duration": 51,
    "start_time": "2022-08-09T14:36:19.733Z"
   },
   {
    "duration": 5,
    "start_time": "2022-08-09T14:36:23.111Z"
   },
   {
    "duration": 17,
    "start_time": "2022-08-09T15:28:28.530Z"
   },
   {
    "duration": 17,
    "start_time": "2022-08-09T15:30:38.278Z"
   },
   {
    "duration": 3,
    "start_time": "2022-08-09T15:41:35.240Z"
   },
   {
    "duration": 448,
    "start_time": "2022-08-09T15:42:21.492Z"
   },
   {
    "duration": 6,
    "start_time": "2022-08-09T15:42:32.570Z"
   },
   {
    "duration": 17,
    "start_time": "2022-08-09T15:42:41.490Z"
   },
   {
    "duration": 37,
    "start_time": "2022-08-09T15:43:36.242Z"
   },
   {
    "duration": 17,
    "start_time": "2022-08-09T15:43:53.572Z"
   },
   {
    "duration": 37,
    "start_time": "2022-08-09T15:44:05.535Z"
   },
   {
    "duration": 17,
    "start_time": "2022-08-09T15:44:06.667Z"
   },
   {
    "duration": 22,
    "start_time": "2022-08-09T15:44:59.213Z"
   },
   {
    "duration": 16,
    "start_time": "2022-08-09T15:45:00.138Z"
   },
   {
    "duration": 14,
    "start_time": "2022-08-09T15:45:21.044Z"
   },
   {
    "duration": 66,
    "start_time": "2022-08-09T15:53:57.497Z"
   },
   {
    "duration": 422,
    "start_time": "2022-08-09T22:07:21.827Z"
   },
   {
    "duration": 155,
    "start_time": "2022-08-09T22:07:22.524Z"
   },
   {
    "duration": 23,
    "start_time": "2022-08-09T22:07:23.123Z"
   },
   {
    "duration": 21,
    "start_time": "2022-08-09T22:07:23.323Z"
   },
   {
    "duration": 17,
    "start_time": "2022-08-09T22:07:25.258Z"
   },
   {
    "duration": 6,
    "start_time": "2022-08-09T22:07:25.417Z"
   },
   {
    "duration": 6,
    "start_time": "2022-08-09T22:07:25.590Z"
   },
   {
    "duration": 6,
    "start_time": "2022-08-09T22:07:25.758Z"
   },
   {
    "duration": 7,
    "start_time": "2022-08-09T22:07:25.927Z"
   },
   {
    "duration": 7,
    "start_time": "2022-08-09T22:07:26.102Z"
   },
   {
    "duration": 5,
    "start_time": "2022-08-09T22:07:26.706Z"
   },
   {
    "duration": 5,
    "start_time": "2022-08-09T22:07:27.014Z"
   },
   {
    "duration": 5,
    "start_time": "2022-08-09T22:07:27.484Z"
   },
   {
    "duration": 15,
    "start_time": "2022-08-09T22:07:27.812Z"
   },
   {
    "duration": 3,
    "start_time": "2022-08-09T22:07:28.002Z"
   },
   {
    "duration": 444,
    "start_time": "2022-08-09T22:07:28.157Z"
   },
   {
    "duration": 5,
    "start_time": "2022-08-09T22:07:28.603Z"
   },
   {
    "duration": 21,
    "start_time": "2022-08-09T22:07:28.671Z"
   },
   {
    "duration": 3,
    "start_time": "2022-08-09T22:07:29.316Z"
   },
   {
    "duration": 424,
    "start_time": "2022-08-09T22:07:29.488Z"
   },
   {
    "duration": 5,
    "start_time": "2022-08-09T22:07:29.915Z"
   },
   {
    "duration": 7,
    "start_time": "2022-08-09T22:07:30.066Z"
   },
   {
    "duration": 58,
    "start_time": "2022-08-09T22:07:30.605Z"
   },
   {
    "duration": 4,
    "start_time": "2022-08-09T22:07:30.784Z"
   },
   {
    "duration": 23,
    "start_time": "2022-08-09T22:07:31.264Z"
   },
   {
    "duration": 4,
    "start_time": "2022-08-09T22:07:31.428Z"
   },
   {
    "duration": 399,
    "start_time": "2022-08-09T22:07:31.906Z"
   },
   {
    "duration": 6,
    "start_time": "2022-08-09T22:07:32.307Z"
   },
   {
    "duration": 18,
    "start_time": "2022-08-09T22:07:33.212Z"
   },
   {
    "duration": 14,
    "start_time": "2022-08-09T22:07:33.530Z"
   },
   {
    "duration": 15,
    "start_time": "2022-08-09T22:07:34.864Z"
   },
   {
    "duration": 21,
    "start_time": "2022-08-09T22:13:00.777Z"
   },
   {
    "duration": 26,
    "start_time": "2022-08-09T22:17:56.461Z"
   },
   {
    "duration": 16,
    "start_time": "2022-08-09T22:20:05.815Z"
   },
   {
    "duration": 13,
    "start_time": "2022-08-09T22:20:39.639Z"
   },
   {
    "duration": 9,
    "start_time": "2022-08-09T22:22:00.027Z"
   },
   {
    "duration": 58,
    "start_time": "2022-08-09T22:22:10.673Z"
   },
   {
    "duration": 971,
    "start_time": "2022-08-09T22:22:13.360Z"
   },
   {
    "duration": 2353,
    "start_time": "2022-08-09T22:22:43.530Z"
   },
   {
    "duration": 777,
    "start_time": "2022-08-09T22:22:53.452Z"
   },
   {
    "duration": 719,
    "start_time": "2022-08-09T22:23:06.214Z"
   },
   {
    "duration": 4,
    "start_time": "2022-08-09T22:23:17.886Z"
   },
   {
    "duration": 819,
    "start_time": "2022-08-09T22:24:06.635Z"
   },
   {
    "duration": 770,
    "start_time": "2022-08-09T22:24:18.032Z"
   },
   {
    "duration": 4,
    "start_time": "2022-08-09T22:24:22.630Z"
   },
   {
    "duration": 8,
    "start_time": "2022-08-09T22:24:52.138Z"
   },
   {
    "duration": 5,
    "start_time": "2022-08-09T22:25:04.931Z"
   },
   {
    "duration": 22,
    "start_time": "2022-08-09T22:28:02.191Z"
   },
   {
    "duration": 26,
    "start_time": "2022-08-09T22:28:07.022Z"
   },
   {
    "duration": 3,
    "start_time": "2022-08-09T22:38:15.194Z"
   },
   {
    "duration": 8,
    "start_time": "2022-08-09T22:50:12.294Z"
   },
   {
    "duration": 8,
    "start_time": "2022-08-09T22:50:13.215Z"
   },
   {
    "duration": 15,
    "start_time": "2022-08-09T22:50:58.755Z"
   },
   {
    "duration": 8,
    "start_time": "2022-08-09T22:50:59.531Z"
   },
   {
    "duration": 15,
    "start_time": "2022-08-09T22:51:05.999Z"
   },
   {
    "duration": 390,
    "start_time": "2022-08-10T00:39:40.090Z"
   },
   {
    "duration": 101,
    "start_time": "2022-08-10T00:39:40.958Z"
   },
   {
    "duration": 23,
    "start_time": "2022-08-10T00:39:41.765Z"
   },
   {
    "duration": 19,
    "start_time": "2022-08-10T00:39:42.018Z"
   },
   {
    "duration": 16,
    "start_time": "2022-08-10T00:39:44.469Z"
   },
   {
    "duration": 7,
    "start_time": "2022-08-10T00:39:44.936Z"
   },
   {
    "duration": 7,
    "start_time": "2022-08-10T00:39:45.272Z"
   },
   {
    "duration": 6,
    "start_time": "2022-08-10T00:39:45.574Z"
   },
   {
    "duration": 7,
    "start_time": "2022-08-10T00:39:45.917Z"
   },
   {
    "duration": 6,
    "start_time": "2022-08-10T00:39:46.238Z"
   },
   {
    "duration": 5,
    "start_time": "2022-08-10T00:39:46.573Z"
   },
   {
    "duration": 4,
    "start_time": "2022-08-10T00:39:48.352Z"
   },
   {
    "duration": 4,
    "start_time": "2022-08-10T00:39:48.687Z"
   },
   {
    "duration": 20,
    "start_time": "2022-08-10T00:39:54.569Z"
   },
   {
    "duration": 4,
    "start_time": "2022-08-10T00:39:54.814Z"
   },
   {
    "duration": 438,
    "start_time": "2022-08-10T00:39:55.040Z"
   },
   {
    "duration": 5,
    "start_time": "2022-08-10T00:39:55.480Z"
   },
   {
    "duration": 22,
    "start_time": "2022-08-10T00:40:02.014Z"
   },
   {
    "duration": 50,
    "start_time": "2022-08-10T00:40:04.016Z"
   },
   {
    "duration": 57,
    "start_time": "2022-08-10T00:40:04.824Z"
   },
   {
    "duration": 20,
    "start_time": "2022-08-10T00:40:44.087Z"
   },
   {
    "duration": 52,
    "start_time": "2022-08-10T00:40:44.817Z"
   },
   {
    "duration": 6,
    "start_time": "2022-08-10T00:40:45.715Z"
   },
   {
    "duration": 4,
    "start_time": "2022-08-10T00:40:46.656Z"
   },
   {
    "duration": 49,
    "start_time": "2022-08-10T00:42:01.411Z"
   },
   {
    "duration": 18,
    "start_time": "2022-08-10T00:46:10.488Z"
   },
   {
    "duration": 47,
    "start_time": "2022-08-10T00:46:11.121Z"
   },
   {
    "duration": 2,
    "start_time": "2022-08-10T00:46:43.066Z"
   },
   {
    "duration": 422,
    "start_time": "2022-08-10T00:46:43.988Z"
   },
   {
    "duration": 6,
    "start_time": "2022-08-10T00:46:46.021Z"
   },
   {
    "duration": 45,
    "start_time": "2022-08-10T14:26:56.057Z"
   },
   {
    "duration": 355,
    "start_time": "2022-08-10T14:27:05.713Z"
   },
   {
    "duration": 160,
    "start_time": "2022-08-10T14:27:06.070Z"
   },
   {
    "duration": 22,
    "start_time": "2022-08-10T14:27:06.232Z"
   },
   {
    "duration": 24,
    "start_time": "2022-08-10T14:27:06.256Z"
   },
   {
    "duration": 15,
    "start_time": "2022-08-10T14:27:06.282Z"
   },
   {
    "duration": 8,
    "start_time": "2022-08-10T14:27:06.299Z"
   },
   {
    "duration": 16,
    "start_time": "2022-08-10T14:27:06.309Z"
   },
   {
    "duration": 34,
    "start_time": "2022-08-10T14:27:06.326Z"
   },
   {
    "duration": 24,
    "start_time": "2022-08-10T14:27:06.362Z"
   },
   {
    "duration": 22,
    "start_time": "2022-08-10T14:27:06.388Z"
   },
   {
    "duration": 5,
    "start_time": "2022-08-10T14:27:06.412Z"
   },
   {
    "duration": 21,
    "start_time": "2022-08-10T14:27:06.418Z"
   },
   {
    "duration": 7,
    "start_time": "2022-08-10T14:27:06.440Z"
   },
   {
    "duration": 24,
    "start_time": "2022-08-10T14:27:06.450Z"
   },
   {
    "duration": 3,
    "start_time": "2022-08-10T14:27:06.475Z"
   },
   {
    "duration": 483,
    "start_time": "2022-08-10T14:27:06.479Z"
   },
   {
    "duration": 5,
    "start_time": "2022-08-10T14:27:06.964Z"
   },
   {
    "duration": 41,
    "start_time": "2022-08-10T14:27:06.971Z"
   },
   {
    "duration": 3,
    "start_time": "2022-08-10T14:27:07.014Z"
   },
   {
    "duration": 492,
    "start_time": "2022-08-10T14:27:07.018Z"
   },
   {
    "duration": 6,
    "start_time": "2022-08-10T14:27:07.511Z"
   },
   {
    "duration": 8,
    "start_time": "2022-08-10T14:27:07.518Z"
   },
   {
    "duration": 18,
    "start_time": "2022-08-10T14:27:07.528Z"
   },
   {
    "duration": 10,
    "start_time": "2022-08-10T14:27:07.548Z"
   },
   {
    "duration": 450,
    "start_time": "2022-08-10T14:27:07.559Z"
   },
   {
    "duration": 6,
    "start_time": "2022-08-10T14:27:08.010Z"
   },
   {
    "duration": 18,
    "start_time": "2022-08-10T14:27:11.031Z"
   },
   {
    "duration": 3,
    "start_time": "2022-08-10T14:41:13.612Z"
   },
   {
    "duration": 26,
    "start_time": "2022-08-10T14:41:45.879Z"
   },
   {
    "duration": 4,
    "start_time": "2022-08-10T14:41:47.677Z"
   },
   {
    "duration": 489,
    "start_time": "2022-08-10T14:41:48.256Z"
   },
   {
    "duration": 5,
    "start_time": "2022-08-10T14:41:56.794Z"
   },
   {
    "duration": 4,
    "start_time": "2022-08-10T14:42:05.065Z"
   },
   {
    "duration": 14,
    "start_time": "2022-08-10T14:42:07.114Z"
   },
   {
    "duration": 13,
    "start_time": "2022-08-10T14:42:34.508Z"
   },
   {
    "duration": 11,
    "start_time": "2022-08-10T14:42:35.169Z"
   },
   {
    "duration": 15,
    "start_time": "2022-08-10T14:42:39.048Z"
   },
   {
    "duration": 13,
    "start_time": "2022-08-10T14:43:14.508Z"
   },
   {
    "duration": 19,
    "start_time": "2022-08-10T14:58:29.393Z"
   },
   {
    "duration": 16,
    "start_time": "2022-08-10T14:58:33.043Z"
   },
   {
    "duration": 7,
    "start_time": "2022-08-10T16:18:13.881Z"
   },
   {
    "duration": 3,
    "start_time": "2022-08-10T16:18:48.321Z"
   },
   {
    "duration": 16,
    "start_time": "2022-08-10T16:18:51.457Z"
   },
   {
    "duration": 10,
    "start_time": "2022-08-10T16:24:25.243Z"
   },
   {
    "duration": 16,
    "start_time": "2022-08-10T16:24:27.619Z"
   },
   {
    "duration": 4,
    "start_time": "2022-08-10T16:24:47.644Z"
   },
   {
    "duration": 53,
    "start_time": "2022-08-10T16:26:16.981Z"
   },
   {
    "duration": 5,
    "start_time": "2022-08-10T16:26:21.999Z"
   },
   {
    "duration": 4,
    "start_time": "2022-08-10T16:26:23.145Z"
   },
   {
    "duration": 14,
    "start_time": "2022-08-10T16:26:26.423Z"
   },
   {
    "duration": 4,
    "start_time": "2022-08-10T16:27:26.146Z"
   },
   {
    "duration": 15,
    "start_time": "2022-08-10T16:27:30.487Z"
   },
   {
    "duration": 58,
    "start_time": "2022-08-10T18:55:20.468Z"
   },
   {
    "duration": 125,
    "start_time": "2022-08-10T19:01:00.004Z"
   },
   {
    "duration": 54,
    "start_time": "2022-08-10T19:03:10.752Z"
   },
   {
    "duration": 3,
    "start_time": "2022-08-10T19:27:16.327Z"
   },
   {
    "duration": 431,
    "start_time": "2022-08-10T19:27:18.731Z"
   },
   {
    "duration": 3,
    "start_time": "2022-08-10T19:28:44.723Z"
   },
   {
    "duration": 191,
    "start_time": "2022-08-10T19:28:46.257Z"
   },
   {
    "duration": 176,
    "start_time": "2022-08-10T19:43:18.973Z"
   },
   {
    "duration": 3,
    "start_time": "2022-08-10T19:43:47.922Z"
   },
   {
    "duration": 138,
    "start_time": "2022-08-10T19:43:49.446Z"
   },
   {
    "duration": 4,
    "start_time": "2022-08-10T19:46:42.209Z"
   },
   {
    "duration": 220,
    "start_time": "2022-08-10T19:46:45.437Z"
   },
   {
    "duration": 18,
    "start_time": "2022-08-10T21:24:38.058Z"
   },
   {
    "duration": 83,
    "start_time": "2022-08-10T21:27:48.427Z"
   },
   {
    "duration": 5,
    "start_time": "2022-08-10T21:27:54.488Z"
   },
   {
    "duration": 13,
    "start_time": "2022-08-10T21:27:57.553Z"
   },
   {
    "duration": 52,
    "start_time": "2022-08-10T21:28:45.922Z"
   },
   {
    "duration": 53,
    "start_time": "2022-08-10T21:29:04.625Z"
   },
   {
    "duration": 58,
    "start_time": "2022-08-10T21:29:45.269Z"
   },
   {
    "duration": 45,
    "start_time": "2022-08-10T21:29:49.569Z"
   },
   {
    "duration": 9,
    "start_time": "2022-08-10T21:29:53.355Z"
   },
   {
    "duration": 9,
    "start_time": "2022-08-10T21:30:07.705Z"
   },
   {
    "duration": 8,
    "start_time": "2022-08-10T21:31:23.355Z"
   },
   {
    "duration": 4,
    "start_time": "2022-08-10T21:32:16.465Z"
   },
   {
    "duration": 18,
    "start_time": "2022-08-10T21:32:19.862Z"
   },
   {
    "duration": 3,
    "start_time": "2022-08-10T21:32:20.479Z"
   },
   {
    "duration": 10,
    "start_time": "2022-08-10T21:32:21.354Z"
   },
   {
    "duration": 14,
    "start_time": "2022-08-10T21:32:26.878Z"
   },
   {
    "duration": 49,
    "start_time": "2022-08-10T21:38:05.463Z"
   },
   {
    "duration": 82,
    "start_time": "2022-08-10T21:38:23.716Z"
   },
   {
    "duration": 2,
    "start_time": "2022-08-10T21:38:32.166Z"
   },
   {
    "duration": 4,
    "start_time": "2022-08-10T21:39:56.883Z"
   },
   {
    "duration": 10,
    "start_time": "2022-08-10T21:40:05.208Z"
   },
   {
    "duration": 700,
    "start_time": "2022-08-10T21:41:47.831Z"
   },
   {
    "duration": 6,
    "start_time": "2022-08-10T21:41:59.781Z"
   },
   {
    "duration": 8,
    "start_time": "2022-08-10T21:42:52.935Z"
   },
   {
    "duration": 6,
    "start_time": "2022-08-10T21:42:54.333Z"
   },
   {
    "duration": 5,
    "start_time": "2022-08-10T21:43:25.671Z"
   },
   {
    "duration": 23,
    "start_time": "2022-08-10T22:00:33.662Z"
   },
   {
    "duration": 16,
    "start_time": "2022-08-10T22:00:45.201Z"
   },
   {
    "duration": 22,
    "start_time": "2022-08-10T22:00:54.497Z"
   },
   {
    "duration": 7,
    "start_time": "2022-08-10T22:01:44.797Z"
   },
   {
    "duration": 21,
    "start_time": "2022-08-10T22:01:54.509Z"
   },
   {
    "duration": 14,
    "start_time": "2022-08-10T22:01:58.320Z"
   },
   {
    "duration": 20,
    "start_time": "2022-08-10T22:02:31.986Z"
   },
   {
    "duration": 14,
    "start_time": "2022-08-10T22:03:01.044Z"
   },
   {
    "duration": 505,
    "start_time": "2022-08-10T22:15:51.534Z"
   },
   {
    "duration": 6521,
    "start_time": "2022-08-10T22:16:35.936Z"
   },
   {
    "duration": 131,
    "start_time": "2022-08-10T22:20:20.251Z"
   },
   {
    "duration": 223,
    "start_time": "2022-08-10T22:21:19.343Z"
   },
   {
    "duration": 234,
    "start_time": "2022-08-10T22:21:41.567Z"
   },
   {
    "duration": 214,
    "start_time": "2022-08-10T22:21:46.553Z"
   },
   {
    "duration": 252,
    "start_time": "2022-08-10T22:21:55.569Z"
   },
   {
    "duration": 238,
    "start_time": "2022-08-10T22:22:11.269Z"
   },
   {
    "duration": 396,
    "start_time": "2022-08-10T22:22:21.924Z"
   },
   {
    "duration": 136,
    "start_time": "2022-08-10T22:22:37.206Z"
   },
   {
    "duration": 2,
    "start_time": "2022-08-10T22:23:18.685Z"
   },
   {
    "duration": 128,
    "start_time": "2022-08-10T22:23:23.645Z"
   },
   {
    "duration": 231,
    "start_time": "2022-08-10T22:25:48.181Z"
   },
   {
    "duration": 1192,
    "start_time": "2022-08-10T22:25:52.270Z"
   },
   {
    "duration": 993,
    "start_time": "2022-08-10T22:26:01.291Z"
   },
   {
    "duration": 602,
    "start_time": "2022-08-10T22:26:07.620Z"
   },
   {
    "duration": 461,
    "start_time": "2022-08-10T22:26:14.511Z"
   },
   {
    "duration": 526,
    "start_time": "2022-08-10T22:26:30.834Z"
   },
   {
    "duration": 272,
    "start_time": "2022-08-10T22:27:15.546Z"
   },
   {
    "duration": 219,
    "start_time": "2022-08-10T22:27:58.305Z"
   },
   {
    "duration": 248,
    "start_time": "2022-08-10T22:28:05.566Z"
   },
   {
    "duration": 264,
    "start_time": "2022-08-10T22:28:13.406Z"
   },
   {
    "duration": 236,
    "start_time": "2022-08-10T22:28:18.085Z"
   },
   {
    "duration": 232,
    "start_time": "2022-08-10T22:28:23.469Z"
   },
   {
    "duration": 174,
    "start_time": "2022-08-10T22:28:34.805Z"
   },
   {
    "duration": 213,
    "start_time": "2022-08-10T22:28:55.970Z"
   },
   {
    "duration": 216,
    "start_time": "2022-08-10T22:31:03.478Z"
   },
   {
    "duration": 216,
    "start_time": "2022-08-10T22:31:08.546Z"
   },
   {
    "duration": 217,
    "start_time": "2022-08-10T22:31:12.194Z"
   },
   {
    "duration": 239,
    "start_time": "2022-08-10T22:31:16.224Z"
   },
   {
    "duration": 505,
    "start_time": "2022-08-10T22:31:23.344Z"
   },
   {
    "duration": 220,
    "start_time": "2022-08-10T22:31:28.523Z"
   },
   {
    "duration": 226,
    "start_time": "2022-08-10T22:31:34.824Z"
   },
   {
    "duration": 233,
    "start_time": "2022-08-10T22:31:39.158Z"
   },
   {
    "duration": 201,
    "start_time": "2022-08-10T22:31:47.972Z"
   },
   {
    "duration": 233,
    "start_time": "2022-08-10T22:31:51.551Z"
   },
   {
    "duration": 315,
    "start_time": "2022-08-10T22:31:57.482Z"
   },
   {
    "duration": 473,
    "start_time": "2022-08-10T22:32:08.027Z"
   },
   {
    "duration": 443,
    "start_time": "2022-08-10T22:32:30.214Z"
   },
   {
    "duration": 234,
    "start_time": "2022-08-10T22:32:37.083Z"
   },
   {
    "duration": 224,
    "start_time": "2022-08-10T22:32:53.905Z"
   },
   {
    "duration": 233,
    "start_time": "2022-08-10T22:33:01.484Z"
   },
   {
    "duration": 571,
    "start_time": "2022-08-10T22:33:09.496Z"
   },
   {
    "duration": 229,
    "start_time": "2022-08-10T22:33:16.068Z"
   },
   {
    "duration": 221,
    "start_time": "2022-08-10T22:33:38.352Z"
   },
   {
    "duration": 204,
    "start_time": "2022-08-10T22:33:51.452Z"
   },
   {
    "duration": 208,
    "start_time": "2022-08-10T22:33:55.320Z"
   },
   {
    "duration": 165,
    "start_time": "2022-08-10T22:34:02.729Z"
   },
   {
    "duration": 156,
    "start_time": "2022-08-10T22:34:09.183Z"
   },
   {
    "duration": 120,
    "start_time": "2022-08-10T22:34:19.219Z"
   },
   {
    "duration": 239,
    "start_time": "2022-08-11T12:20:17.453Z"
   },
   {
    "duration": 414,
    "start_time": "2022-08-11T12:23:29.392Z"
   },
   {
    "duration": 204,
    "start_time": "2022-08-11T12:23:29.808Z"
   },
   {
    "duration": 24,
    "start_time": "2022-08-11T12:23:30.015Z"
   },
   {
    "duration": 22,
    "start_time": "2022-08-11T12:23:30.041Z"
   },
   {
    "duration": 36,
    "start_time": "2022-08-11T12:23:30.064Z"
   },
   {
    "duration": 6,
    "start_time": "2022-08-11T12:23:30.102Z"
   },
   {
    "duration": 21,
    "start_time": "2022-08-11T12:23:30.110Z"
   },
   {
    "duration": 10,
    "start_time": "2022-08-11T12:23:30.133Z"
   },
   {
    "duration": 10,
    "start_time": "2022-08-11T12:23:30.145Z"
   },
   {
    "duration": 12,
    "start_time": "2022-08-11T12:23:30.157Z"
   },
   {
    "duration": 15,
    "start_time": "2022-08-11T12:23:30.170Z"
   },
   {
    "duration": 16,
    "start_time": "2022-08-11T12:23:30.186Z"
   },
   {
    "duration": 20,
    "start_time": "2022-08-11T12:23:30.204Z"
   },
   {
    "duration": 31,
    "start_time": "2022-08-11T12:23:30.225Z"
   },
   {
    "duration": 3,
    "start_time": "2022-08-11T12:23:30.258Z"
   },
   {
    "duration": 481,
    "start_time": "2022-08-11T12:23:30.262Z"
   },
   {
    "duration": 6,
    "start_time": "2022-08-11T12:23:30.744Z"
   },
   {
    "duration": 57,
    "start_time": "2022-08-11T12:23:30.751Z"
   },
   {
    "duration": 36,
    "start_time": "2022-08-11T12:23:30.810Z"
   },
   {
    "duration": 501,
    "start_time": "2022-08-11T12:23:30.848Z"
   },
   {
    "duration": 5,
    "start_time": "2022-08-11T12:23:31.351Z"
   },
   {
    "duration": 40,
    "start_time": "2022-08-11T12:23:31.358Z"
   },
   {
    "duration": 32,
    "start_time": "2022-08-11T12:23:31.400Z"
   },
   {
    "duration": 13,
    "start_time": "2022-08-11T12:23:31.434Z"
   },
   {
    "duration": 554,
    "start_time": "2022-08-11T12:23:31.449Z"
   },
   {
    "duration": 6,
    "start_time": "2022-08-11T12:23:32.005Z"
   },
   {
    "duration": 41,
    "start_time": "2022-08-11T12:23:32.012Z"
   },
   {
    "duration": 7,
    "start_time": "2022-08-11T12:23:32.056Z"
   },
   {
    "duration": 557,
    "start_time": "2022-08-11T12:23:32.064Z"
   },
   {
    "duration": 5,
    "start_time": "2022-08-11T12:23:32.623Z"
   },
   {
    "duration": 47,
    "start_time": "2022-08-11T12:23:32.630Z"
   },
   {
    "duration": 30,
    "start_time": "2022-08-11T12:23:32.679Z"
   },
   {
    "duration": 7,
    "start_time": "2022-08-11T12:23:32.711Z"
   },
   {
    "duration": 26,
    "start_time": "2022-08-11T12:23:32.719Z"
   },
   {
    "duration": 5,
    "start_time": "2022-08-11T12:23:32.747Z"
   },
   {
    "duration": 968,
    "start_time": "2022-08-11T12:23:37.819Z"
   },
   {
    "duration": 26,
    "start_time": "2022-08-11T12:23:41.499Z"
   },
   {
    "duration": 28,
    "start_time": "2022-08-11T12:23:49.720Z"
   },
   {
    "duration": 14,
    "start_time": "2022-08-11T12:23:55.653Z"
   },
   {
    "duration": 641,
    "start_time": "2022-08-11T12:25:51.267Z"
   },
   {
    "duration": 212,
    "start_time": "2022-08-11T12:25:53.296Z"
   },
   {
    "duration": 215,
    "start_time": "2022-08-11T12:25:54.073Z"
   },
   {
    "duration": 242,
    "start_time": "2022-08-11T12:25:54.994Z"
   },
   {
    "duration": 122,
    "start_time": "2022-08-11T12:25:55.921Z"
   },
   {
    "duration": 243,
    "start_time": "2022-08-11T12:57:24.613Z"
   },
   {
    "duration": 156,
    "start_time": "2022-08-11T12:57:32.131Z"
   },
   {
    "duration": 138,
    "start_time": "2022-08-11T12:57:36.732Z"
   },
   {
    "duration": 129,
    "start_time": "2022-08-11T12:57:51.913Z"
   },
   {
    "duration": 130,
    "start_time": "2022-08-11T12:57:57.857Z"
   },
   {
    "duration": 157,
    "start_time": "2022-08-11T12:58:06.534Z"
   },
   {
    "duration": 202,
    "start_time": "2022-08-11T12:58:17.491Z"
   },
   {
    "duration": 188,
    "start_time": "2022-08-11T12:58:28.476Z"
   },
   {
    "duration": 143,
    "start_time": "2022-08-11T12:58:41.331Z"
   },
   {
    "duration": 111,
    "start_time": "2022-08-11T12:58:50.043Z"
   },
   {
    "duration": 118,
    "start_time": "2022-08-11T12:58:55.171Z"
   },
   {
    "duration": 192,
    "start_time": "2022-08-11T12:59:12.337Z"
   },
   {
    "duration": 134,
    "start_time": "2022-08-11T13:42:55.168Z"
   },
   {
    "duration": 148,
    "start_time": "2022-08-11T13:43:08.959Z"
   },
   {
    "duration": 119,
    "start_time": "2022-08-11T13:43:17.074Z"
   },
   {
    "duration": 153,
    "start_time": "2022-08-11T13:43:33.110Z"
   },
   {
    "duration": 298,
    "start_time": "2022-08-11T14:39:39.885Z"
   },
   {
    "duration": 248,
    "start_time": "2022-08-11T14:39:56.857Z"
   },
   {
    "duration": 2,
    "start_time": "2022-08-11T14:40:02.834Z"
   },
   {
    "duration": 516,
    "start_time": "2022-08-11T15:20:19.139Z"
   },
   {
    "duration": 4,
    "start_time": "2022-08-11T15:22:30.098Z"
   },
   {
    "duration": 516,
    "start_time": "2022-08-11T15:22:37.613Z"
   },
   {
    "duration": 11,
    "start_time": "2022-08-11T15:22:51.473Z"
   },
   {
    "duration": 549,
    "start_time": "2022-08-11T15:24:17.425Z"
   },
   {
    "duration": 3,
    "start_time": "2022-08-11T15:24:54.326Z"
   },
   {
    "duration": 626,
    "start_time": "2022-08-11T15:24:59.717Z"
   },
   {
    "duration": 9,
    "start_time": "2022-08-11T15:25:14.599Z"
   },
   {
    "duration": 8,
    "start_time": "2022-08-11T15:25:39.104Z"
   },
   {
    "duration": 117,
    "start_time": "2022-08-11T15:26:40.284Z"
   },
   {
    "duration": 124,
    "start_time": "2022-08-11T15:26:44.807Z"
   },
   {
    "duration": 112,
    "start_time": "2022-08-11T15:26:48.162Z"
   },
   {
    "duration": 112,
    "start_time": "2022-08-11T15:26:51.079Z"
   },
   {
    "duration": 120,
    "start_time": "2022-08-11T15:26:58.385Z"
   },
   {
    "duration": 134,
    "start_time": "2022-08-11T15:27:01.525Z"
   },
   {
    "duration": 106,
    "start_time": "2022-08-11T15:27:05.428Z"
   },
   {
    "duration": 111,
    "start_time": "2022-08-11T15:27:15.935Z"
   },
   {
    "duration": 104,
    "start_time": "2022-08-11T15:28:17.076Z"
   },
   {
    "duration": 113,
    "start_time": "2022-08-11T15:28:25.294Z"
   },
   {
    "duration": 117,
    "start_time": "2022-08-11T15:28:39.305Z"
   },
   {
    "duration": 112,
    "start_time": "2022-08-11T15:28:49.074Z"
   },
   {
    "duration": 107,
    "start_time": "2022-08-11T15:28:57.249Z"
   },
   {
    "duration": 115,
    "start_time": "2022-08-11T15:29:46.279Z"
   },
   {
    "duration": 168,
    "start_time": "2022-08-11T18:05:54.900Z"
   },
   {
    "duration": 222,
    "start_time": "2022-08-11T18:20:58.424Z"
   },
   {
    "duration": 1510,
    "start_time": "2022-08-11T18:21:14.254Z"
   },
   {
    "duration": 1288,
    "start_time": "2022-08-11T18:21:23.028Z"
   },
   {
    "duration": 217,
    "start_time": "2022-08-11T18:21:30.329Z"
   },
   {
    "duration": 225,
    "start_time": "2022-08-11T18:21:57.059Z"
   },
   {
    "duration": 177,
    "start_time": "2022-08-11T18:22:03.179Z"
   },
   {
    "duration": 178,
    "start_time": "2022-08-11T18:22:13.378Z"
   },
   {
    "duration": 64,
    "start_time": "2022-08-12T12:52:11.356Z"
   },
   {
    "duration": 7,
    "start_time": "2022-08-12T12:52:23.577Z"
   },
   {
    "duration": 743,
    "start_time": "2022-08-12T12:52:29.188Z"
   },
   {
    "duration": 384,
    "start_time": "2022-08-12T12:52:29.933Z"
   },
   {
    "duration": 22,
    "start_time": "2022-08-12T12:52:30.318Z"
   },
   {
    "duration": 30,
    "start_time": "2022-08-12T12:52:30.341Z"
   },
   {
    "duration": 23,
    "start_time": "2022-08-12T12:52:30.373Z"
   },
   {
    "duration": 10,
    "start_time": "2022-08-12T12:52:30.397Z"
   },
   {
    "duration": 11,
    "start_time": "2022-08-12T12:52:30.409Z"
   },
   {
    "duration": 7,
    "start_time": "2022-08-12T12:52:30.422Z"
   },
   {
    "duration": 10,
    "start_time": "2022-08-12T12:52:30.431Z"
   },
   {
    "duration": 19,
    "start_time": "2022-08-12T12:52:30.443Z"
   },
   {
    "duration": 6,
    "start_time": "2022-08-12T12:52:30.464Z"
   },
   {
    "duration": 27,
    "start_time": "2022-08-12T12:52:30.471Z"
   },
   {
    "duration": 15,
    "start_time": "2022-08-12T12:52:30.500Z"
   },
   {
    "duration": 22,
    "start_time": "2022-08-12T12:52:30.518Z"
   },
   {
    "duration": 3,
    "start_time": "2022-08-12T12:52:30.541Z"
   },
   {
    "duration": 438,
    "start_time": "2022-08-12T12:52:30.545Z"
   },
   {
    "duration": 5,
    "start_time": "2022-08-12T12:52:30.985Z"
   },
   {
    "duration": 31,
    "start_time": "2022-08-12T12:52:30.991Z"
   },
   {
    "duration": 3,
    "start_time": "2022-08-12T12:52:31.023Z"
   },
   {
    "duration": 441,
    "start_time": "2022-08-12T12:52:31.027Z"
   },
   {
    "duration": 5,
    "start_time": "2022-08-12T12:52:31.469Z"
   },
   {
    "duration": 11,
    "start_time": "2022-08-12T12:52:31.476Z"
   },
   {
    "duration": 18,
    "start_time": "2022-08-12T12:52:31.488Z"
   },
   {
    "duration": 3,
    "start_time": "2022-08-12T12:52:31.508Z"
   },
   {
    "duration": 398,
    "start_time": "2022-08-12T12:52:31.513Z"
   },
   {
    "duration": 6,
    "start_time": "2022-08-12T12:52:31.913Z"
   },
   {
    "duration": 17,
    "start_time": "2022-08-12T12:52:31.920Z"
   },
   {
    "duration": 3,
    "start_time": "2022-08-12T12:52:31.939Z"
   },
   {
    "duration": 443,
    "start_time": "2022-08-12T12:52:31.954Z"
   },
   {
    "duration": 4,
    "start_time": "2022-08-12T12:52:32.398Z"
   },
   {
    "duration": 12,
    "start_time": "2022-08-12T12:52:32.404Z"
   },
   {
    "duration": 5,
    "start_time": "2022-08-12T12:52:32.417Z"
   },
   {
    "duration": 3,
    "start_time": "2022-08-12T12:52:32.424Z"
   },
   {
    "duration": 38,
    "start_time": "2022-08-12T12:52:32.428Z"
   },
   {
    "duration": 3,
    "start_time": "2022-08-12T12:52:32.468Z"
   },
   {
    "duration": 905,
    "start_time": "2022-08-12T12:52:32.472Z"
   },
   {
    "duration": 19,
    "start_time": "2022-08-12T12:52:33.378Z"
   },
   {
    "duration": 18,
    "start_time": "2022-08-12T12:52:33.399Z"
   },
   {
    "duration": 15,
    "start_time": "2022-08-12T12:52:33.418Z"
   },
   {
    "duration": 204,
    "start_time": "2022-08-12T12:52:33.434Z"
   },
   {
    "duration": 161,
    "start_time": "2022-08-12T12:52:33.641Z"
   },
   {
    "duration": 181,
    "start_time": "2022-08-12T12:52:33.804Z"
   },
   {
    "duration": 139,
    "start_time": "2022-08-12T12:52:33.987Z"
   },
   {
    "duration": 118,
    "start_time": "2022-08-12T12:52:34.128Z"
   },
   {
    "duration": 9,
    "start_time": "2022-08-12T12:52:34.247Z"
   },
   {
    "duration": 1613,
    "start_time": "2022-08-12T12:52:36.986Z"
   },
   {
    "duration": 130,
    "start_time": "2022-08-12T12:52:48.629Z"
   },
   {
    "duration": 202,
    "start_time": "2022-08-12T12:53:27.344Z"
   },
   {
    "duration": 179,
    "start_time": "2022-08-12T12:53:44.053Z"
   },
   {
    "duration": 130,
    "start_time": "2022-08-12T12:53:51.938Z"
   },
   {
    "duration": 126,
    "start_time": "2022-08-12T12:53:57.131Z"
   },
   {
    "duration": 116,
    "start_time": "2022-08-12T12:54:02.633Z"
   },
   {
    "duration": 142,
    "start_time": "2022-08-12T12:54:36.098Z"
   },
   {
    "duration": 3,
    "start_time": "2022-08-12T12:54:39.775Z"
   },
   {
    "duration": 122,
    "start_time": "2022-08-12T12:55:49.157Z"
   },
   {
    "duration": 137,
    "start_time": "2022-08-12T12:55:57.184Z"
   },
   {
    "duration": 132,
    "start_time": "2022-08-12T12:56:28.587Z"
   },
   {
    "duration": 127,
    "start_time": "2022-08-12T12:56:35.411Z"
   },
   {
    "duration": 397,
    "start_time": "2022-08-12T12:56:40.221Z"
   },
   {
    "duration": 119,
    "start_time": "2022-08-12T12:56:45.052Z"
   },
   {
    "duration": 120,
    "start_time": "2022-08-12T12:56:49.421Z"
   },
   {
    "duration": 224,
    "start_time": "2022-08-12T12:56:55.137Z"
   },
   {
    "duration": 124,
    "start_time": "2022-08-12T12:56:57.540Z"
   },
   {
    "duration": 122,
    "start_time": "2022-08-12T12:57:01.534Z"
   },
   {
    "duration": 133,
    "start_time": "2022-08-12T13:03:16.877Z"
   },
   {
    "duration": 135,
    "start_time": "2022-08-12T13:03:23.054Z"
   },
   {
    "duration": 119,
    "start_time": "2022-08-12T13:03:23.652Z"
   },
   {
    "duration": 133,
    "start_time": "2022-08-12T13:03:24.085Z"
   },
   {
    "duration": 249,
    "start_time": "2022-08-12T13:03:40.134Z"
   },
   {
    "duration": 119,
    "start_time": "2022-08-12T13:03:54.406Z"
   },
   {
    "duration": 134,
    "start_time": "2022-08-12T13:03:59.626Z"
   },
   {
    "duration": 127,
    "start_time": "2022-08-12T13:04:06.992Z"
   },
   {
    "duration": 124,
    "start_time": "2022-08-12T13:04:50.121Z"
   },
   {
    "duration": 135,
    "start_time": "2022-08-12T13:04:57.152Z"
   },
   {
    "duration": 116,
    "start_time": "2022-08-12T13:05:02.118Z"
   },
   {
    "duration": 120,
    "start_time": "2022-08-12T13:05:07.025Z"
   },
   {
    "duration": 110,
    "start_time": "2022-08-12T13:05:58.799Z"
   },
   {
    "duration": 145,
    "start_time": "2022-08-12T13:07:01.188Z"
   },
   {
    "duration": 130,
    "start_time": "2022-08-12T13:07:52.644Z"
   },
   {
    "duration": 110,
    "start_time": "2022-08-12T13:08:16.098Z"
   },
   {
    "duration": 125,
    "start_time": "2022-08-12T13:09:26.974Z"
   },
   {
    "duration": 121,
    "start_time": "2022-08-12T13:09:29.211Z"
   },
   {
    "duration": 124,
    "start_time": "2022-08-12T14:09:45.866Z"
   },
   {
    "duration": 134,
    "start_time": "2022-08-12T14:10:00.882Z"
   },
   {
    "duration": 116,
    "start_time": "2022-08-12T14:10:13.457Z"
   },
   {
    "duration": 146,
    "start_time": "2022-08-12T14:10:20.688Z"
   },
   {
    "duration": 121,
    "start_time": "2022-08-12T14:10:25.920Z"
   },
   {
    "duration": 230,
    "start_time": "2022-08-12T14:10:29.682Z"
   },
   {
    "duration": 107,
    "start_time": "2022-08-12T14:10:48.249Z"
   },
   {
    "duration": 128,
    "start_time": "2022-08-12T14:10:54.955Z"
   },
   {
    "duration": 104,
    "start_time": "2022-08-12T14:12:33.404Z"
   },
   {
    "duration": 132,
    "start_time": "2022-08-12T14:13:10.586Z"
   },
   {
    "duration": 109,
    "start_time": "2022-08-12T14:13:18.249Z"
   },
   {
    "duration": 115,
    "start_time": "2022-08-12T14:13:18.736Z"
   },
   {
    "duration": 111,
    "start_time": "2022-08-12T14:13:19.082Z"
   },
   {
    "duration": 104,
    "start_time": "2022-08-12T14:13:19.329Z"
   },
   {
    "duration": 124,
    "start_time": "2022-08-12T14:13:19.542Z"
   },
   {
    "duration": 118,
    "start_time": "2022-08-12T14:13:19.748Z"
   },
   {
    "duration": 128,
    "start_time": "2022-08-12T14:13:19.958Z"
   },
   {
    "duration": 131,
    "start_time": "2022-08-12T14:13:20.148Z"
   },
   {
    "duration": 109,
    "start_time": "2022-08-12T14:13:20.334Z"
   },
   {
    "duration": 2,
    "start_time": "2022-08-12T14:13:20.542Z"
   },
   {
    "duration": 134,
    "start_time": "2022-08-12T14:26:08.635Z"
   },
   {
    "duration": 226,
    "start_time": "2022-08-12T14:26:18.097Z"
   },
   {
    "duration": 124,
    "start_time": "2022-08-12T14:26:30.985Z"
   },
   {
    "duration": 132,
    "start_time": "2022-08-12T14:26:35.302Z"
   },
   {
    "duration": 124,
    "start_time": "2022-08-12T14:26:39.115Z"
   },
   {
    "duration": 265,
    "start_time": "2022-08-12T14:26:48.076Z"
   },
   {
    "duration": 111,
    "start_time": "2022-08-12T14:27:15.959Z"
   },
   {
    "duration": 217,
    "start_time": "2022-08-12T14:27:19.571Z"
   },
   {
    "duration": 146,
    "start_time": "2022-08-12T14:27:46.723Z"
   },
   {
    "duration": 112,
    "start_time": "2022-08-12T14:33:31.974Z"
   },
   {
    "duration": 114,
    "start_time": "2022-08-12T14:33:37.821Z"
   },
   {
    "duration": 4,
    "start_time": "2022-08-12T14:35:52.759Z"
   },
   {
    "duration": 28,
    "start_time": "2022-08-12T14:43:00.398Z"
   },
   {
    "duration": 127,
    "start_time": "2022-08-12T14:44:07.695Z"
   },
   {
    "duration": 131,
    "start_time": "2022-08-12T14:44:29.057Z"
   },
   {
    "duration": 150,
    "start_time": "2022-08-12T14:44:29.388Z"
   },
   {
    "duration": 168,
    "start_time": "2022-08-12T14:44:29.628Z"
   },
   {
    "duration": 116,
    "start_time": "2022-08-12T14:44:29.916Z"
   },
   {
    "duration": 112,
    "start_time": "2022-08-12T14:44:30.619Z"
   },
   {
    "duration": 174,
    "start_time": "2022-08-12T14:45:07.366Z"
   },
   {
    "duration": 186,
    "start_time": "2022-08-12T14:45:07.545Z"
   },
   {
    "duration": 170,
    "start_time": "2022-08-12T14:45:08.190Z"
   },
   {
    "duration": 123,
    "start_time": "2022-08-12T14:45:08.362Z"
   },
   {
    "duration": 132,
    "start_time": "2022-08-12T14:45:08.487Z"
   },
   {
    "duration": 127,
    "start_time": "2022-08-12T14:45:49.938Z"
   },
   {
    "duration": 124,
    "start_time": "2022-08-12T14:46:12.883Z"
   },
   {
    "duration": 74,
    "start_time": "2022-08-12T14:47:00.929Z"
   },
   {
    "duration": 28,
    "start_time": "2022-08-12T14:47:21.603Z"
   },
   {
    "duration": 26,
    "start_time": "2022-08-12T14:47:38.720Z"
   },
   {
    "duration": 9,
    "start_time": "2022-08-12T14:48:21.124Z"
   },
   {
    "duration": 17,
    "start_time": "2022-08-12T14:48:24.751Z"
   },
   {
    "duration": 26,
    "start_time": "2022-08-12T15:14:01.742Z"
   },
   {
    "duration": 25,
    "start_time": "2022-08-12T15:14:04.965Z"
   },
   {
    "duration": 16,
    "start_time": "2022-08-12T15:14:05.975Z"
   },
   {
    "duration": 338,
    "start_time": "2022-08-12T15:14:07.264Z"
   },
   {
    "duration": 19,
    "start_time": "2022-08-12T15:19:50.514Z"
   },
   {
    "duration": 15,
    "start_time": "2022-08-12T15:19:54.949Z"
   },
   {
    "duration": 20,
    "start_time": "2022-08-12T15:21:28.752Z"
   },
   {
    "duration": 3,
    "start_time": "2022-08-12T15:31:43.295Z"
   },
   {
    "duration": 5,
    "start_time": "2022-08-12T15:31:47.320Z"
   },
   {
    "duration": 20,
    "start_time": "2022-08-12T15:32:09.492Z"
   },
   {
    "duration": 20,
    "start_time": "2022-08-12T15:32:11.921Z"
   },
   {
    "duration": 126,
    "start_time": "2022-08-12T15:32:15.268Z"
   },
   {
    "duration": 7,
    "start_time": "2022-08-12T15:32:50.763Z"
   },
   {
    "duration": 7,
    "start_time": "2022-08-12T15:32:59.721Z"
   },
   {
    "duration": 7,
    "start_time": "2022-08-12T15:33:10.167Z"
   },
   {
    "duration": 3,
    "start_time": "2022-08-12T15:33:12.744Z"
   },
   {
    "duration": 22,
    "start_time": "2022-08-12T15:33:25.277Z"
   },
   {
    "duration": 8,
    "start_time": "2022-08-12T15:33:31.669Z"
   },
   {
    "duration": 18,
    "start_time": "2022-08-12T15:33:34.181Z"
   },
   {
    "duration": 4,
    "start_time": "2022-08-12T15:33:45.464Z"
   },
   {
    "duration": 5,
    "start_time": "2022-08-12T15:34:00.381Z"
   },
   {
    "duration": 22,
    "start_time": "2022-08-12T15:34:01.249Z"
   },
   {
    "duration": 4,
    "start_time": "2022-08-12T15:34:02.376Z"
   },
   {
    "duration": 16,
    "start_time": "2022-08-12T15:34:10.293Z"
   },
   {
    "duration": 20,
    "start_time": "2022-08-12T15:36:57.673Z"
   },
   {
    "duration": 16,
    "start_time": "2022-08-12T15:37:00.168Z"
   },
   {
    "duration": 7,
    "start_time": "2022-08-12T15:37:04.153Z"
   },
   {
    "duration": 15,
    "start_time": "2022-08-12T15:37:05.587Z"
   },
   {
    "duration": 127,
    "start_time": "2022-08-12T15:37:18.128Z"
   },
   {
    "duration": 114,
    "start_time": "2022-08-12T15:37:28.031Z"
   },
   {
    "duration": 263,
    "start_time": "2022-08-12T15:37:40.236Z"
   },
   {
    "duration": 46,
    "start_time": "2022-08-16T12:55:44.786Z"
   },
   {
    "duration": 771,
    "start_time": "2022-08-16T12:55:49.290Z"
   },
   {
    "duration": 876,
    "start_time": "2022-08-16T12:55:50.062Z"
   },
   {
    "duration": 20,
    "start_time": "2022-08-16T12:55:50.939Z"
   },
   {
    "duration": 16,
    "start_time": "2022-08-16T12:55:50.961Z"
   },
   {
    "duration": 20,
    "start_time": "2022-08-16T12:55:50.979Z"
   },
   {
    "duration": 8,
    "start_time": "2022-08-16T12:55:51.000Z"
   },
   {
    "duration": 32,
    "start_time": "2022-08-16T12:55:51.010Z"
   },
   {
    "duration": 24,
    "start_time": "2022-08-16T12:55:51.043Z"
   },
   {
    "duration": 20,
    "start_time": "2022-08-16T12:55:51.068Z"
   },
   {
    "duration": 33,
    "start_time": "2022-08-16T12:55:51.089Z"
   },
   {
    "duration": 12,
    "start_time": "2022-08-16T12:55:51.123Z"
   },
   {
    "duration": 11,
    "start_time": "2022-08-16T12:55:51.136Z"
   },
   {
    "duration": 15,
    "start_time": "2022-08-16T12:55:51.148Z"
   },
   {
    "duration": 24,
    "start_time": "2022-08-16T12:55:51.165Z"
   },
   {
    "duration": 3,
    "start_time": "2022-08-16T12:55:51.190Z"
   },
   {
    "duration": 463,
    "start_time": "2022-08-16T12:55:51.195Z"
   },
   {
    "duration": 4,
    "start_time": "2022-08-16T12:55:51.660Z"
   },
   {
    "duration": 25,
    "start_time": "2022-08-16T12:55:51.666Z"
   },
   {
    "duration": 3,
    "start_time": "2022-08-16T12:55:51.693Z"
   },
   {
    "duration": 470,
    "start_time": "2022-08-16T12:55:51.707Z"
   },
   {
    "duration": 5,
    "start_time": "2022-08-16T12:55:52.178Z"
   },
   {
    "duration": 36,
    "start_time": "2022-08-16T12:55:52.184Z"
   },
   {
    "duration": 28,
    "start_time": "2022-08-16T12:55:52.221Z"
   },
   {
    "duration": 16,
    "start_time": "2022-08-16T12:55:52.251Z"
   },
   {
    "duration": 409,
    "start_time": "2022-08-16T12:55:52.269Z"
   },
   {
    "duration": 5,
    "start_time": "2022-08-16T12:55:52.680Z"
   },
   {
    "duration": 36,
    "start_time": "2022-08-16T12:55:52.686Z"
   },
   {
    "duration": 23,
    "start_time": "2022-08-16T12:55:52.724Z"
   },
   {
    "duration": 491,
    "start_time": "2022-08-16T12:55:52.748Z"
   },
   {
    "duration": 4,
    "start_time": "2022-08-16T12:55:53.240Z"
   },
   {
    "duration": 27,
    "start_time": "2022-08-16T12:55:53.246Z"
   },
   {
    "duration": 13,
    "start_time": "2022-08-16T12:55:53.274Z"
   },
   {
    "duration": 10,
    "start_time": "2022-08-16T12:55:53.288Z"
   },
   {
    "duration": 46,
    "start_time": "2022-08-16T12:55:53.300Z"
   },
   {
    "duration": 3,
    "start_time": "2022-08-16T12:55:53.348Z"
   },
   {
    "duration": 996,
    "start_time": "2022-08-16T12:55:53.353Z"
   },
   {
    "duration": 20,
    "start_time": "2022-08-16T12:55:54.350Z"
   },
   {
    "duration": 18,
    "start_time": "2022-08-16T12:55:54.371Z"
   },
   {
    "duration": 38,
    "start_time": "2022-08-16T12:55:54.390Z"
   },
   {
    "duration": 154,
    "start_time": "2022-08-16T12:55:54.430Z"
   },
   {
    "duration": 238,
    "start_time": "2022-08-16T12:55:54.589Z"
   },
   {
    "duration": 174,
    "start_time": "2022-08-16T12:55:54.829Z"
   },
   {
    "duration": 194,
    "start_time": "2022-08-16T12:55:55.005Z"
   },
   {
    "duration": 134,
    "start_time": "2022-08-16T12:55:55.200Z"
   },
   {
    "duration": 130,
    "start_time": "2022-08-16T12:55:55.336Z"
   },
   {
    "duration": 2,
    "start_time": "2022-08-16T12:55:55.468Z"
   },
   {
    "duration": 140,
    "start_time": "2022-08-16T12:55:55.472Z"
   },
   {
    "duration": 124,
    "start_time": "2022-08-16T12:55:55.614Z"
   },
   {
    "duration": 212,
    "start_time": "2022-08-16T12:55:55.740Z"
   },
   {
    "duration": 150,
    "start_time": "2022-08-16T12:55:55.953Z"
   },
   {
    "duration": 160,
    "start_time": "2022-08-16T12:55:56.106Z"
   },
   {
    "duration": 133,
    "start_time": "2022-08-16T12:55:56.268Z"
   },
   {
    "duration": 7,
    "start_time": "2022-08-16T12:56:03.212Z"
   },
   {
    "duration": 13,
    "start_time": "2022-08-16T12:56:42.605Z"
   },
   {
    "duration": 134,
    "start_time": "2022-08-16T12:56:46.784Z"
   },
   {
    "duration": 143,
    "start_time": "2022-08-16T12:57:01.998Z"
   },
   {
    "duration": 131,
    "start_time": "2022-08-16T12:57:18.780Z"
   },
   {
    "duration": 142,
    "start_time": "2022-08-16T12:57:30.465Z"
   },
   {
    "duration": 253,
    "start_time": "2022-08-16T12:57:33.962Z"
   },
   {
    "duration": 174,
    "start_time": "2022-08-16T12:57:38.517Z"
   },
   {
    "duration": 223,
    "start_time": "2022-08-16T12:57:43.376Z"
   },
   {
    "duration": 124,
    "start_time": "2022-08-16T12:57:47.236Z"
   },
   {
    "duration": 13,
    "start_time": "2022-08-16T13:16:22.806Z"
   },
   {
    "duration": 637,
    "start_time": "2022-08-16T13:18:23.097Z"
   },
   {
    "duration": 95,
    "start_time": "2022-08-16T13:18:23.736Z"
   },
   {
    "duration": 31,
    "start_time": "2022-08-16T13:18:23.832Z"
   },
   {
    "duration": 18,
    "start_time": "2022-08-16T13:18:23.865Z"
   },
   {
    "duration": 30,
    "start_time": "2022-08-16T13:18:23.885Z"
   },
   {
    "duration": 17,
    "start_time": "2022-08-16T13:18:23.916Z"
   },
   {
    "duration": 12,
    "start_time": "2022-08-16T13:18:23.935Z"
   },
   {
    "duration": 13,
    "start_time": "2022-08-16T13:18:23.949Z"
   },
   {
    "duration": 10,
    "start_time": "2022-08-16T13:18:23.964Z"
   },
   {
    "duration": 12,
    "start_time": "2022-08-16T13:18:23.976Z"
   },
   {
    "duration": 12,
    "start_time": "2022-08-16T13:18:23.990Z"
   },
   {
    "duration": 8,
    "start_time": "2022-08-16T13:18:24.003Z"
   },
   {
    "duration": 12,
    "start_time": "2022-08-16T13:18:24.012Z"
   },
   {
    "duration": 26,
    "start_time": "2022-08-16T13:18:24.026Z"
   },
   {
    "duration": 4,
    "start_time": "2022-08-16T13:18:24.053Z"
   },
   {
    "duration": 467,
    "start_time": "2022-08-16T13:18:24.059Z"
   },
   {
    "duration": 5,
    "start_time": "2022-08-16T13:18:24.527Z"
   },
   {
    "duration": 22,
    "start_time": "2022-08-16T13:18:24.534Z"
   },
   {
    "duration": 3,
    "start_time": "2022-08-16T13:18:24.557Z"
   },
   {
    "duration": 451,
    "start_time": "2022-08-16T13:18:24.562Z"
   },
   {
    "duration": 5,
    "start_time": "2022-08-16T13:18:25.014Z"
   },
   {
    "duration": 7,
    "start_time": "2022-08-16T13:18:25.021Z"
   },
   {
    "duration": 15,
    "start_time": "2022-08-16T13:18:25.029Z"
   },
   {
    "duration": 9,
    "start_time": "2022-08-16T13:18:25.046Z"
   },
   {
    "duration": 415,
    "start_time": "2022-08-16T13:18:25.057Z"
   },
   {
    "duration": 6,
    "start_time": "2022-08-16T13:18:25.474Z"
   },
   {
    "duration": 51,
    "start_time": "2022-08-16T13:18:25.481Z"
   },
   {
    "duration": 32,
    "start_time": "2022-08-16T13:18:25.534Z"
   },
   {
    "duration": 502,
    "start_time": "2022-08-16T13:18:25.568Z"
   },
   {
    "duration": 6,
    "start_time": "2022-08-16T13:18:26.072Z"
   },
   {
    "duration": 64,
    "start_time": "2022-08-16T13:18:26.079Z"
   },
   {
    "duration": 25,
    "start_time": "2022-08-16T13:18:26.146Z"
   },
   {
    "duration": 38,
    "start_time": "2022-08-16T13:18:26.173Z"
   },
   {
    "duration": 59,
    "start_time": "2022-08-16T13:18:26.213Z"
   },
   {
    "duration": 15,
    "start_time": "2022-08-16T13:18:26.274Z"
   },
   {
    "duration": 980,
    "start_time": "2022-08-16T13:18:26.291Z"
   },
   {
    "duration": 21,
    "start_time": "2022-08-16T13:18:27.273Z"
   },
   {
    "duration": 49,
    "start_time": "2022-08-16T13:18:27.296Z"
   },
   {
    "duration": 25,
    "start_time": "2022-08-16T13:18:27.346Z"
   },
   {
    "duration": 179,
    "start_time": "2022-08-16T13:18:27.373Z"
   },
   {
    "duration": 234,
    "start_time": "2022-08-16T13:18:27.557Z"
   },
   {
    "duration": 172,
    "start_time": "2022-08-16T13:18:27.793Z"
   },
   {
    "duration": 202,
    "start_time": "2022-08-16T13:18:27.966Z"
   },
   {
    "duration": 144,
    "start_time": "2022-08-16T13:18:28.170Z"
   },
   {
    "duration": 129,
    "start_time": "2022-08-16T13:18:28.315Z"
   },
   {
    "duration": 2,
    "start_time": "2022-08-16T13:18:28.446Z"
   },
   {
    "duration": 150,
    "start_time": "2022-08-16T13:18:28.449Z"
   },
   {
    "duration": 132,
    "start_time": "2022-08-16T13:18:28.601Z"
   },
   {
    "duration": 224,
    "start_time": "2022-08-16T13:18:28.734Z"
   },
   {
    "duration": 131,
    "start_time": "2022-08-16T13:18:28.960Z"
   },
   {
    "duration": 157,
    "start_time": "2022-08-16T13:18:29.093Z"
   },
   {
    "duration": 124,
    "start_time": "2022-08-16T13:18:29.251Z"
   },
   {
    "duration": 30,
    "start_time": "2022-08-16T13:18:29.376Z"
   },
   {
    "duration": 29,
    "start_time": "2022-08-16T13:18:29.408Z"
   },
   {
    "duration": 20,
    "start_time": "2022-08-16T13:18:32.512Z"
   },
   {
    "duration": 143,
    "start_time": "2022-08-16T13:18:43.963Z"
   },
   {
    "duration": 152,
    "start_time": "2022-08-16T13:18:44.579Z"
   },
   {
    "duration": 193,
    "start_time": "2022-08-16T13:18:45.298Z"
   },
   {
    "duration": 137,
    "start_time": "2022-08-16T13:18:45.878Z"
   },
   {
    "duration": 121,
    "start_time": "2022-08-16T13:18:46.543Z"
   },
   {
    "duration": 125,
    "start_time": "2022-08-16T13:18:53.906Z"
   },
   {
    "duration": 116,
    "start_time": "2022-08-16T13:18:59.538Z"
   },
   {
    "duration": 176,
    "start_time": "2022-08-16T13:19:03.250Z"
   },
   {
    "duration": 126,
    "start_time": "2022-08-16T13:19:07.507Z"
   },
   {
    "duration": 134,
    "start_time": "2022-08-16T13:19:10.946Z"
   },
   {
    "duration": 132,
    "start_time": "2022-08-16T13:19:15.784Z"
   },
   {
    "duration": 122,
    "start_time": "2022-08-16T13:19:21.011Z"
   },
   {
    "duration": 118,
    "start_time": "2022-08-16T13:19:24.643Z"
   },
   {
    "duration": 141,
    "start_time": "2022-08-16T13:19:29.181Z"
   },
   {
    "duration": 163,
    "start_time": "2022-08-16T13:19:48.143Z"
   },
   {
    "duration": 165,
    "start_time": "2022-08-16T13:19:50.977Z"
   },
   {
    "duration": 534,
    "start_time": "2022-08-16T13:19:57.346Z"
   },
   {
    "duration": 144,
    "start_time": "2022-08-16T13:20:03.073Z"
   },
   {
    "duration": 247,
    "start_time": "2022-08-16T13:20:12.742Z"
   },
   {
    "duration": 178,
    "start_time": "2022-08-16T13:20:17.550Z"
   },
   {
    "duration": 161,
    "start_time": "2022-08-16T13:20:22.704Z"
   },
   {
    "duration": 145,
    "start_time": "2022-08-16T13:20:27.992Z"
   },
   {
    "duration": 127,
    "start_time": "2022-08-16T13:20:37.560Z"
   },
   {
    "duration": 16,
    "start_time": "2022-08-16T15:26:04.340Z"
   },
   {
    "duration": 83,
    "start_time": "2022-08-16T15:27:12.704Z"
   },
   {
    "duration": 8,
    "start_time": "2022-08-16T15:31:46.089Z"
   },
   {
    "duration": 7,
    "start_time": "2022-08-16T15:31:51.489Z"
   },
   {
    "duration": 4,
    "start_time": "2022-08-16T15:36:09.829Z"
   },
   {
    "duration": 13,
    "start_time": "2022-08-16T15:36:12.618Z"
   },
   {
    "duration": 71,
    "start_time": "2022-08-16T15:36:20.002Z"
   },
   {
    "duration": 150,
    "start_time": "2022-08-16T15:36:48.798Z"
   },
   {
    "duration": 10,
    "start_time": "2022-08-16T15:36:52.954Z"
   },
   {
    "duration": 121,
    "start_time": "2022-08-16T15:50:14.763Z"
   },
   {
    "duration": 109,
    "start_time": "2022-08-16T15:50:23.541Z"
   },
   {
    "duration": 263,
    "start_time": "2022-08-16T15:50:30.497Z"
   },
   {
    "duration": 126,
    "start_time": "2022-08-16T15:50:38.550Z"
   },
   {
    "duration": 118,
    "start_time": "2022-08-16T15:50:43.302Z"
   },
   {
    "duration": 247,
    "start_time": "2022-08-16T15:50:48.453Z"
   },
   {
    "duration": 159,
    "start_time": "2022-08-16T15:50:54.455Z"
   },
   {
    "duration": 15228,
    "start_time": "2022-08-16T15:54:03.521Z"
   },
   {
    "duration": 15658,
    "start_time": "2022-08-16T15:54:28.844Z"
   },
   {
    "duration": 26,
    "start_time": "2022-08-16T15:58:55.582Z"
   },
   {
    "duration": 8,
    "start_time": "2022-08-16T16:01:32.137Z"
   },
   {
    "duration": 174,
    "start_time": "2022-08-16T16:01:36.887Z"
   },
   {
    "duration": 167,
    "start_time": "2022-08-16T16:01:55.129Z"
   },
   {
    "duration": 183,
    "start_time": "2022-08-16T16:02:08.249Z"
   },
   {
    "duration": 8,
    "start_time": "2022-08-16T16:10:06.335Z"
   },
   {
    "duration": 222,
    "start_time": "2022-08-16T16:10:10.551Z"
   },
   {
    "duration": 168,
    "start_time": "2022-08-16T16:10:26.738Z"
   },
   {
    "duration": 6,
    "start_time": "2022-08-16T16:16:35.933Z"
   },
   {
    "duration": 15,
    "start_time": "2022-08-16T16:46:04.197Z"
   },
   {
    "duration": 27,
    "start_time": "2022-08-16T16:46:34.074Z"
   },
   {
    "duration": 92,
    "start_time": "2022-08-16T16:47:31.227Z"
   },
   {
    "duration": 14,
    "start_time": "2022-08-16T16:52:51.158Z"
   },
   {
    "duration": 21,
    "start_time": "2022-08-16T16:53:16.084Z"
   },
   {
    "duration": 21,
    "start_time": "2022-08-16T16:53:41.626Z"
   },
   {
    "duration": 13,
    "start_time": "2022-08-16T16:53:55.985Z"
   },
   {
    "duration": 14,
    "start_time": "2022-08-16T16:56:33.314Z"
   },
   {
    "duration": 15,
    "start_time": "2022-08-16T17:03:20.680Z"
   },
   {
    "duration": 14,
    "start_time": "2022-08-16T17:03:33.120Z"
   },
   {
    "duration": 16,
    "start_time": "2022-08-16T17:03:45.981Z"
   },
   {
    "duration": 1514,
    "start_time": "2022-08-16T17:07:08.263Z"
   },
   {
    "duration": 77,
    "start_time": "2022-08-16T17:08:25.685Z"
   },
   {
    "duration": 175,
    "start_time": "2022-08-16T17:08:36.959Z"
   },
   {
    "duration": 1537,
    "start_time": "2022-08-16T17:09:23.133Z"
   },
   {
    "duration": 15,
    "start_time": "2022-08-16T17:12:46.563Z"
   },
   {
    "duration": 18,
    "start_time": "2022-08-16T17:21:32.924Z"
   },
   {
    "duration": 1302,
    "start_time": "2022-08-16T17:21:58.838Z"
   },
   {
    "duration": 1483,
    "start_time": "2022-08-16T17:22:06.525Z"
   },
   {
    "duration": 1283,
    "start_time": "2022-08-16T17:22:41.950Z"
   },
   {
    "duration": 94,
    "start_time": "2022-08-16T17:22:53.964Z"
   },
   {
    "duration": 1372,
    "start_time": "2022-08-16T17:23:26.233Z"
   },
   {
    "duration": 7,
    "start_time": "2022-08-16T17:25:42.170Z"
   },
   {
    "duration": 167,
    "start_time": "2022-08-16T17:25:47.455Z"
   },
   {
    "duration": 171,
    "start_time": "2022-08-16T17:26:12.968Z"
   },
   {
    "duration": 183,
    "start_time": "2022-08-16T17:26:13.321Z"
   },
   {
    "duration": 51,
    "start_time": "2022-08-16T19:39:13.998Z"
   },
   {
    "duration": 769,
    "start_time": "2022-08-16T19:39:18.926Z"
   },
   {
    "duration": 379,
    "start_time": "2022-08-16T19:39:19.697Z"
   },
   {
    "duration": 30,
    "start_time": "2022-08-16T19:39:20.078Z"
   },
   {
    "duration": 17,
    "start_time": "2022-08-16T19:39:20.110Z"
   },
   {
    "duration": 15,
    "start_time": "2022-08-16T19:39:20.128Z"
   },
   {
    "duration": 6,
    "start_time": "2022-08-16T19:39:20.154Z"
   },
   {
    "duration": 9,
    "start_time": "2022-08-16T19:39:20.161Z"
   },
   {
    "duration": 8,
    "start_time": "2022-08-16T19:39:20.172Z"
   },
   {
    "duration": 8,
    "start_time": "2022-08-16T19:39:20.181Z"
   },
   {
    "duration": 8,
    "start_time": "2022-08-16T19:39:20.191Z"
   },
   {
    "duration": 5,
    "start_time": "2022-08-16T19:39:20.201Z"
   },
   {
    "duration": 6,
    "start_time": "2022-08-16T19:39:20.208Z"
   },
   {
    "duration": 7,
    "start_time": "2022-08-16T19:39:20.216Z"
   },
   {
    "duration": 48,
    "start_time": "2022-08-16T19:39:20.225Z"
   },
   {
    "duration": 3,
    "start_time": "2022-08-16T19:39:20.275Z"
   },
   {
    "duration": 475,
    "start_time": "2022-08-16T19:39:20.280Z"
   },
   {
    "duration": 5,
    "start_time": "2022-08-16T19:39:20.756Z"
   },
   {
    "duration": 20,
    "start_time": "2022-08-16T19:39:20.762Z"
   },
   {
    "duration": 3,
    "start_time": "2022-08-16T19:39:20.783Z"
   },
   {
    "duration": 457,
    "start_time": "2022-08-16T19:39:20.787Z"
   },
   {
    "duration": 4,
    "start_time": "2022-08-16T19:39:21.245Z"
   },
   {
    "duration": 5,
    "start_time": "2022-08-16T19:39:21.255Z"
   },
   {
    "duration": 14,
    "start_time": "2022-08-16T19:39:21.262Z"
   },
   {
    "duration": 4,
    "start_time": "2022-08-16T19:39:21.278Z"
   },
   {
    "duration": 429,
    "start_time": "2022-08-16T19:39:21.283Z"
   },
   {
    "duration": 6,
    "start_time": "2022-08-16T19:39:21.713Z"
   },
   {
    "duration": 19,
    "start_time": "2022-08-16T19:39:21.720Z"
   },
   {
    "duration": 3,
    "start_time": "2022-08-16T19:39:21.754Z"
   },
   {
    "duration": 462,
    "start_time": "2022-08-16T19:39:21.758Z"
   },
   {
    "duration": 4,
    "start_time": "2022-08-16T19:39:22.222Z"
   },
   {
    "duration": 13,
    "start_time": "2022-08-16T19:39:22.227Z"
   },
   {
    "duration": 15,
    "start_time": "2022-08-16T19:39:22.242Z"
   },
   {
    "duration": 7,
    "start_time": "2022-08-16T19:39:22.259Z"
   },
   {
    "duration": 20,
    "start_time": "2022-08-16T19:39:22.268Z"
   },
   {
    "duration": 4,
    "start_time": "2022-08-16T19:39:22.289Z"
   },
   {
    "duration": 939,
    "start_time": "2022-08-16T19:39:22.294Z"
   },
   {
    "duration": 25,
    "start_time": "2022-08-16T19:39:23.235Z"
   },
   {
    "duration": 16,
    "start_time": "2022-08-16T19:39:23.262Z"
   },
   {
    "duration": 12,
    "start_time": "2022-08-16T19:39:23.280Z"
   },
   {
    "duration": 164,
    "start_time": "2022-08-16T19:39:23.293Z"
   },
   {
    "duration": 229,
    "start_time": "2022-08-16T19:39:23.458Z"
   },
   {
    "duration": 161,
    "start_time": "2022-08-16T19:39:23.688Z"
   },
   {
    "duration": 193,
    "start_time": "2022-08-16T19:39:23.854Z"
   },
   {
    "duration": 130,
    "start_time": "2022-08-16T19:39:24.049Z"
   },
   {
    "duration": 117,
    "start_time": "2022-08-16T19:39:24.181Z"
   },
   {
    "duration": 2,
    "start_time": "2022-08-16T19:39:24.300Z"
   },
   {
    "duration": 130,
    "start_time": "2022-08-16T19:39:24.303Z"
   },
   {
    "duration": 112,
    "start_time": "2022-08-16T19:39:24.435Z"
   },
   {
    "duration": 199,
    "start_time": "2022-08-16T19:39:24.556Z"
   },
   {
    "duration": 119,
    "start_time": "2022-08-16T19:39:24.756Z"
   },
   {
    "duration": 129,
    "start_time": "2022-08-16T19:39:24.877Z"
   },
   {
    "duration": 158,
    "start_time": "2022-08-16T19:39:25.007Z"
   },
   {
    "duration": 12,
    "start_time": "2022-08-16T19:39:25.167Z"
   },
   {
    "duration": 18,
    "start_time": "2022-08-16T19:39:25.181Z"
   },
   {
    "duration": 12,
    "start_time": "2022-08-16T19:39:25.200Z"
   },
   {
    "duration": 152,
    "start_time": "2022-08-16T19:39:25.213Z"
   },
   {
    "duration": 146,
    "start_time": "2022-08-16T19:39:25.366Z"
   },
   {
    "duration": 187,
    "start_time": "2022-08-16T19:39:25.513Z"
   },
   {
    "duration": 137,
    "start_time": "2022-08-16T19:39:25.701Z"
   },
   {
    "duration": 126,
    "start_time": "2022-08-16T19:39:25.840Z"
   },
   {
    "duration": 7,
    "start_time": "2022-08-16T19:39:25.967Z"
   },
   {
    "duration": 177,
    "start_time": "2022-08-16T19:39:25.976Z"
   },
   {
    "duration": 14,
    "start_time": "2022-08-16T19:39:26.155Z"
   },
   {
    "duration": 11,
    "start_time": "2022-08-16T19:39:26.170Z"
   },
   {
    "duration": 12,
    "start_time": "2022-08-16T19:39:49.986Z"
   },
   {
    "duration": 1478,
    "start_time": "2022-08-16T19:39:50.696Z"
   },
   {
    "duration": 1451,
    "start_time": "2022-08-16T19:39:57.506Z"
   },
   {
    "duration": 1466,
    "start_time": "2022-08-16T19:40:47.044Z"
   },
   {
    "duration": 1484,
    "start_time": "2022-08-16T19:41:56.182Z"
   },
   {
    "duration": 1398,
    "start_time": "2022-08-16T19:43:20.533Z"
   },
   {
    "duration": 1418,
    "start_time": "2022-08-16T19:43:33.134Z"
   },
   {
    "duration": 19,
    "start_time": "2022-08-16T19:45:07.147Z"
   },
   {
    "duration": 49,
    "start_time": "2022-08-16T19:45:15.742Z"
   },
   {
    "duration": 14,
    "start_time": "2022-08-16T19:45:20.400Z"
   },
   {
    "duration": 13,
    "start_time": "2022-08-16T19:46:59.132Z"
   },
   {
    "duration": 165,
    "start_time": "2022-08-16T19:47:18.570Z"
   },
   {
    "duration": 259,
    "start_time": "2022-08-16T19:47:24.211Z"
   },
   {
    "duration": 161,
    "start_time": "2022-08-16T19:47:36.463Z"
   },
   {
    "duration": 158,
    "start_time": "2022-08-16T19:47:42.608Z"
   },
   {
    "duration": 120,
    "start_time": "2022-08-16T19:53:08.684Z"
   },
   {
    "duration": 118,
    "start_time": "2022-08-16T19:53:14.332Z"
   },
   {
    "duration": 119,
    "start_time": "2022-08-16T19:53:21.000Z"
   },
   {
    "duration": 108,
    "start_time": "2022-08-16T19:53:25.862Z"
   },
   {
    "duration": 121,
    "start_time": "2022-08-16T19:53:37.478Z"
   },
   {
    "duration": 114,
    "start_time": "2022-08-16T19:53:43.484Z"
   },
   {
    "duration": 147,
    "start_time": "2022-08-16T19:53:46.684Z"
   },
   {
    "duration": 139,
    "start_time": "2022-08-16T19:53:58.333Z"
   },
   {
    "duration": 132,
    "start_time": "2022-08-16T19:54:17.596Z"
   },
   {
    "duration": 92,
    "start_time": "2022-08-16T19:54:58.671Z"
   },
   {
    "duration": 99,
    "start_time": "2022-08-16T19:55:03.957Z"
   },
   {
    "duration": 15,
    "start_time": "2022-08-16T19:55:23.280Z"
   },
   {
    "duration": 77,
    "start_time": "2022-08-16T19:55:41.773Z"
   },
   {
    "duration": 103,
    "start_time": "2022-08-16T19:56:06.004Z"
   },
   {
    "duration": 25,
    "start_time": "2022-08-16T20:15:42.142Z"
   },
   {
    "duration": 71,
    "start_time": "2022-08-16T20:16:11.990Z"
   },
   {
    "duration": 157,
    "start_time": "2022-08-16T20:21:05.127Z"
   },
   {
    "duration": 1065,
    "start_time": "2022-08-16T21:23:08.752Z"
   },
   {
    "duration": 1050,
    "start_time": "2022-08-16T21:23:09.821Z"
   },
   {
    "duration": 36,
    "start_time": "2022-08-16T21:23:10.873Z"
   },
   {
    "duration": 41,
    "start_time": "2022-08-16T21:23:10.913Z"
   },
   {
    "duration": 21,
    "start_time": "2022-08-16T21:23:10.955Z"
   },
   {
    "duration": 10,
    "start_time": "2022-08-16T21:23:10.978Z"
   },
   {
    "duration": 18,
    "start_time": "2022-08-16T21:23:10.990Z"
   },
   {
    "duration": 31,
    "start_time": "2022-08-16T21:23:11.017Z"
   },
   {
    "duration": 18,
    "start_time": "2022-08-16T21:23:11.050Z"
   },
   {
    "duration": 7,
    "start_time": "2022-08-16T21:23:11.071Z"
   },
   {
    "duration": 6,
    "start_time": "2022-08-16T21:23:11.080Z"
   },
   {
    "duration": 60,
    "start_time": "2022-08-16T21:23:11.088Z"
   },
   {
    "duration": 15,
    "start_time": "2022-08-16T21:23:11.150Z"
   },
   {
    "duration": 29,
    "start_time": "2022-08-16T21:23:11.167Z"
   },
   {
    "duration": 8,
    "start_time": "2022-08-16T21:23:11.198Z"
   },
   {
    "duration": 724,
    "start_time": "2022-08-16T21:23:11.211Z"
   },
   {
    "duration": 6,
    "start_time": "2022-08-16T21:23:11.937Z"
   },
   {
    "duration": 51,
    "start_time": "2022-08-16T21:23:11.945Z"
   },
   {
    "duration": 3,
    "start_time": "2022-08-16T21:23:11.999Z"
   },
   {
    "duration": 794,
    "start_time": "2022-08-16T21:23:12.004Z"
   },
   {
    "duration": 7,
    "start_time": "2022-08-16T21:23:12.803Z"
   },
   {
    "duration": 41,
    "start_time": "2022-08-16T21:23:12.811Z"
   },
   {
    "duration": 20,
    "start_time": "2022-08-16T21:23:12.854Z"
   },
   {
    "duration": 3,
    "start_time": "2022-08-16T21:23:12.876Z"
   },
   {
    "duration": 685,
    "start_time": "2022-08-16T21:23:12.880Z"
   },
   {
    "duration": 7,
    "start_time": "2022-08-16T21:23:13.567Z"
   },
   {
    "duration": 28,
    "start_time": "2022-08-16T21:23:13.576Z"
   },
   {
    "duration": 6,
    "start_time": "2022-08-16T21:23:13.610Z"
   },
   {
    "duration": 774,
    "start_time": "2022-08-16T21:23:13.618Z"
   },
   {
    "duration": 5,
    "start_time": "2022-08-16T21:23:14.394Z"
   },
   {
    "duration": 60,
    "start_time": "2022-08-16T21:23:14.401Z"
   },
   {
    "duration": 14,
    "start_time": "2022-08-16T21:23:14.464Z"
   },
   {
    "duration": 13,
    "start_time": "2022-08-16T21:23:14.481Z"
   },
   {
    "duration": 69,
    "start_time": "2022-08-16T21:23:14.497Z"
   },
   {
    "duration": 5,
    "start_time": "2022-08-16T21:23:14.568Z"
   },
   {
    "duration": 1489,
    "start_time": "2022-08-16T21:23:14.575Z"
   },
   {
    "duration": 54,
    "start_time": "2022-08-16T21:23:16.066Z"
   },
   {
    "duration": 55,
    "start_time": "2022-08-16T21:23:16.123Z"
   },
   {
    "duration": 21,
    "start_time": "2022-08-16T21:23:16.179Z"
   },
   {
    "duration": 273,
    "start_time": "2022-08-16T21:23:16.202Z"
   },
   {
    "duration": 373,
    "start_time": "2022-08-16T21:23:16.476Z"
   },
   {
    "duration": 246,
    "start_time": "2022-08-16T21:23:16.852Z"
   },
   {
    "duration": 266,
    "start_time": "2022-08-16T21:23:17.100Z"
   },
   {
    "duration": 202,
    "start_time": "2022-08-16T21:23:17.368Z"
   },
   {
    "duration": 169,
    "start_time": "2022-08-16T21:23:17.572Z"
   },
   {
    "duration": 211,
    "start_time": "2022-08-16T21:23:17.743Z"
   },
   {
    "duration": 190,
    "start_time": "2022-08-16T21:23:17.956Z"
   },
   {
    "duration": 263,
    "start_time": "2022-08-16T21:23:18.147Z"
   },
   {
    "duration": 202,
    "start_time": "2022-08-16T21:23:18.412Z"
   },
   {
    "duration": 197,
    "start_time": "2022-08-16T21:23:18.616Z"
   },
   {
    "duration": 166,
    "start_time": "2022-08-16T21:23:18.820Z"
   },
   {
    "duration": 20,
    "start_time": "2022-08-16T21:23:18.996Z"
   },
   {
    "duration": 56,
    "start_time": "2022-08-16T21:23:19.019Z"
   },
   {
    "duration": 22,
    "start_time": "2022-08-16T21:23:19.077Z"
   },
   {
    "duration": 228,
    "start_time": "2022-08-16T21:23:19.101Z"
   },
   {
    "duration": 287,
    "start_time": "2022-08-16T21:23:19.332Z"
   },
   {
    "duration": 422,
    "start_time": "2022-08-16T21:23:19.622Z"
   },
   {
    "duration": 206,
    "start_time": "2022-08-16T21:23:20.047Z"
   },
   {
    "duration": 195,
    "start_time": "2022-08-16T21:23:20.255Z"
   },
   {
    "duration": 9,
    "start_time": "2022-08-16T21:23:20.453Z"
   },
   {
    "duration": 282,
    "start_time": "2022-08-16T21:23:20.464Z"
   },
   {
    "duration": 53,
    "start_time": "2022-08-16T21:23:20.748Z"
   },
   {
    "duration": 22,
    "start_time": "2022-08-16T21:23:20.803Z"
   },
   {
    "duration": 3973,
    "start_time": "2022-08-16T21:23:20.827Z"
   },
   {
    "duration": 150,
    "start_time": "2022-08-16T21:23:24.805Z"
   },
   {
    "duration": 248,
    "start_time": "2022-08-16T21:23:24.956Z"
   },
   {
    "duration": 249,
    "start_time": "2022-08-16T21:23:25.207Z"
   },
   {
    "duration": 240,
    "start_time": "2022-08-16T21:23:25.459Z"
   },
   {
    "duration": 147,
    "start_time": "2022-08-16T21:23:25.703Z"
   },
   {
    "duration": 298,
    "start_time": "2022-08-16T21:25:00.917Z"
   },
   {
    "duration": 190,
    "start_time": "2022-08-16T21:25:10.085Z"
   },
   {
    "duration": 829,
    "start_time": "2022-08-17T14:58:40.399Z"
   },
   {
    "duration": 175,
    "start_time": "2022-08-17T14:58:41.230Z"
   },
   {
    "duration": 30,
    "start_time": "2022-08-17T14:58:41.407Z"
   },
   {
    "duration": 18,
    "start_time": "2022-08-17T14:58:41.439Z"
   },
   {
    "duration": 16,
    "start_time": "2022-08-17T14:58:41.459Z"
   },
   {
    "duration": 7,
    "start_time": "2022-08-17T14:58:41.478Z"
   },
   {
    "duration": 26,
    "start_time": "2022-08-17T14:58:41.486Z"
   },
   {
    "duration": 14,
    "start_time": "2022-08-17T14:58:41.513Z"
   },
   {
    "duration": 10,
    "start_time": "2022-08-17T14:58:41.528Z"
   },
   {
    "duration": 9,
    "start_time": "2022-08-17T14:58:41.540Z"
   },
   {
    "duration": 5,
    "start_time": "2022-08-17T14:58:41.551Z"
   },
   {
    "duration": 4,
    "start_time": "2022-08-17T14:58:41.557Z"
   },
   {
    "duration": 7,
    "start_time": "2022-08-17T14:58:41.563Z"
   },
   {
    "duration": 47,
    "start_time": "2022-08-17T14:58:41.574Z"
   },
   {
    "duration": 4,
    "start_time": "2022-08-17T14:58:41.623Z"
   },
   {
    "duration": 539,
    "start_time": "2022-08-17T14:58:41.628Z"
   },
   {
    "duration": 4,
    "start_time": "2022-08-17T14:58:42.168Z"
   },
   {
    "duration": 23,
    "start_time": "2022-08-17T14:58:42.173Z"
   },
   {
    "duration": 13,
    "start_time": "2022-08-17T14:58:42.198Z"
   },
   {
    "duration": 558,
    "start_time": "2022-08-17T14:58:42.212Z"
   },
   {
    "duration": 6,
    "start_time": "2022-08-17T14:58:42.772Z"
   },
   {
    "duration": 13,
    "start_time": "2022-08-17T14:58:42.779Z"
   },
   {
    "duration": 35,
    "start_time": "2022-08-17T14:58:42.793Z"
   },
   {
    "duration": 3,
    "start_time": "2022-08-17T14:58:42.830Z"
   },
   {
    "duration": 446,
    "start_time": "2022-08-17T14:58:42.835Z"
   },
   {
    "duration": 5,
    "start_time": "2022-08-17T14:58:43.283Z"
   },
   {
    "duration": 24,
    "start_time": "2022-08-17T14:58:43.290Z"
   },
   {
    "duration": 2,
    "start_time": "2022-08-17T14:58:43.316Z"
   },
   {
    "duration": 525,
    "start_time": "2022-08-17T14:58:43.320Z"
   },
   {
    "duration": 4,
    "start_time": "2022-08-17T14:58:43.847Z"
   },
   {
    "duration": 15,
    "start_time": "2022-08-17T14:58:43.852Z"
   },
   {
    "duration": 4,
    "start_time": "2022-08-17T14:58:43.868Z"
   },
   {
    "duration": 9,
    "start_time": "2022-08-17T14:58:43.873Z"
   },
   {
    "duration": 27,
    "start_time": "2022-08-17T14:58:43.884Z"
   },
   {
    "duration": 3,
    "start_time": "2022-08-17T14:58:43.912Z"
   },
   {
    "duration": 1008,
    "start_time": "2022-08-17T14:58:43.916Z"
   },
   {
    "duration": 21,
    "start_time": "2022-08-17T14:58:44.926Z"
   },
   {
    "duration": 18,
    "start_time": "2022-08-17T14:58:44.948Z"
   },
   {
    "duration": 12,
    "start_time": "2022-08-17T14:58:44.968Z"
   },
   {
    "duration": 174,
    "start_time": "2022-08-17T14:58:44.981Z"
   },
   {
    "duration": 208,
    "start_time": "2022-08-17T14:58:45.158Z"
   },
   {
    "duration": 96,
    "start_time": "2022-08-17T14:58:45.368Z"
   },
   {
    "duration": 0,
    "start_time": "2022-08-17T14:58:45.465Z"
   },
   {
    "duration": 0,
    "start_time": "2022-08-17T14:58:45.467Z"
   },
   {
    "duration": 0,
    "start_time": "2022-08-17T14:58:45.468Z"
   },
   {
    "duration": 0,
    "start_time": "2022-08-17T14:58:45.469Z"
   },
   {
    "duration": 0,
    "start_time": "2022-08-17T14:58:45.470Z"
   },
   {
    "duration": 144,
    "start_time": "2022-08-17T14:58:47.691Z"
   },
   {
    "duration": 123,
    "start_time": "2022-08-17T15:23:24.813Z"
   },
   {
    "duration": 139,
    "start_time": "2022-08-17T15:24:22.324Z"
   },
   {
    "duration": 127,
    "start_time": "2022-08-17T15:24:35.524Z"
   },
   {
    "duration": 120,
    "start_time": "2022-08-17T15:25:41.655Z"
   },
   {
    "duration": 13,
    "start_time": "2022-08-17T15:26:09.521Z"
   },
   {
    "duration": 119,
    "start_time": "2022-08-17T15:26:31.919Z"
   },
   {
    "duration": 10,
    "start_time": "2022-08-17T15:26:36.855Z"
   },
   {
    "duration": 4,
    "start_time": "2022-08-17T15:26:50.333Z"
   },
   {
    "duration": 168,
    "start_time": "2022-08-17T15:26:54.300Z"
   },
   {
    "duration": 111,
    "start_time": "2022-08-17T15:26:56.567Z"
   },
   {
    "duration": 10,
    "start_time": "2022-08-17T15:26:58.433Z"
   },
   {
    "duration": 138,
    "start_time": "2022-08-17T15:28:10.011Z"
   },
   {
    "duration": 128,
    "start_time": "2022-08-17T15:28:17.841Z"
   },
   {
    "duration": 11,
    "start_time": "2022-08-17T15:28:24.290Z"
   },
   {
    "duration": 80,
    "start_time": "2022-08-17T15:28:31.844Z"
   },
   {
    "duration": 14,
    "start_time": "2022-08-17T15:28:37.779Z"
   },
   {
    "duration": 24,
    "start_time": "2022-08-17T15:34:01.196Z"
   },
   {
    "duration": 124,
    "start_time": "2022-08-17T15:34:03.003Z"
   },
   {
    "duration": 9,
    "start_time": "2022-08-17T15:34:21.355Z"
   },
   {
    "duration": 10,
    "start_time": "2022-08-17T15:34:26.796Z"
   },
   {
    "duration": 25,
    "start_time": "2022-08-17T15:34:48.233Z"
   },
   {
    "duration": 4,
    "start_time": "2022-08-17T15:36:02.029Z"
   },
   {
    "duration": 699,
    "start_time": "2022-08-17T15:36:32.389Z"
   },
   {
    "duration": 104,
    "start_time": "2022-08-17T15:36:33.089Z"
   },
   {
    "duration": 21,
    "start_time": "2022-08-17T15:36:33.194Z"
   },
   {
    "duration": 15,
    "start_time": "2022-08-17T15:36:33.217Z"
   },
   {
    "duration": 16,
    "start_time": "2022-08-17T15:36:33.234Z"
   },
   {
    "duration": 6,
    "start_time": "2022-08-17T15:36:33.251Z"
   },
   {
    "duration": 8,
    "start_time": "2022-08-17T15:36:33.258Z"
   },
   {
    "duration": 7,
    "start_time": "2022-08-17T15:36:33.268Z"
   },
   {
    "duration": 36,
    "start_time": "2022-08-17T15:36:33.276Z"
   },
   {
    "duration": 7,
    "start_time": "2022-08-17T15:36:33.313Z"
   },
   {
    "duration": 4,
    "start_time": "2022-08-17T15:36:33.322Z"
   },
   {
    "duration": 7,
    "start_time": "2022-08-17T15:36:33.327Z"
   },
   {
    "duration": 8,
    "start_time": "2022-08-17T15:36:33.335Z"
   },
   {
    "duration": 19,
    "start_time": "2022-08-17T15:36:33.346Z"
   },
   {
    "duration": 3,
    "start_time": "2022-08-17T15:36:33.366Z"
   },
   {
    "duration": 522,
    "start_time": "2022-08-17T15:36:33.370Z"
   },
   {
    "duration": 4,
    "start_time": "2022-08-17T15:36:33.894Z"
   },
   {
    "duration": 27,
    "start_time": "2022-08-17T15:36:33.899Z"
   },
   {
    "duration": 3,
    "start_time": "2022-08-17T15:36:33.927Z"
   },
   {
    "duration": 485,
    "start_time": "2022-08-17T15:36:33.931Z"
   },
   {
    "duration": 4,
    "start_time": "2022-08-17T15:36:34.418Z"
   },
   {
    "duration": 7,
    "start_time": "2022-08-17T15:36:34.424Z"
   },
   {
    "duration": 14,
    "start_time": "2022-08-17T15:36:34.432Z"
   },
   {
    "duration": 11,
    "start_time": "2022-08-17T15:36:34.447Z"
   },
   {
    "duration": 457,
    "start_time": "2022-08-17T15:36:34.459Z"
   },
   {
    "duration": 6,
    "start_time": "2022-08-17T15:36:34.917Z"
   },
   {
    "duration": 21,
    "start_time": "2022-08-17T15:36:34.924Z"
   },
   {
    "duration": 3,
    "start_time": "2022-08-17T15:36:34.946Z"
   },
   {
    "duration": 511,
    "start_time": "2022-08-17T15:36:34.951Z"
   },
   {
    "duration": 4,
    "start_time": "2022-08-17T15:36:35.464Z"
   },
   {
    "duration": 30,
    "start_time": "2022-08-17T15:36:35.470Z"
   },
   {
    "duration": 4,
    "start_time": "2022-08-17T15:36:35.502Z"
   },
   {
    "duration": 8,
    "start_time": "2022-08-17T15:36:35.507Z"
   },
   {
    "duration": 24,
    "start_time": "2022-08-17T15:36:35.516Z"
   },
   {
    "duration": 3,
    "start_time": "2022-08-17T15:36:35.542Z"
   },
   {
    "duration": 976,
    "start_time": "2022-08-17T15:36:35.548Z"
   },
   {
    "duration": 21,
    "start_time": "2022-08-17T15:36:36.525Z"
   },
   {
    "duration": 18,
    "start_time": "2022-08-17T15:36:36.548Z"
   },
   {
    "duration": 16,
    "start_time": "2022-08-17T15:36:36.568Z"
   },
   {
    "duration": 168,
    "start_time": "2022-08-17T15:36:36.585Z"
   },
   {
    "duration": 230,
    "start_time": "2022-08-17T15:36:36.758Z"
   },
   {
    "duration": 85,
    "start_time": "2022-08-17T15:36:36.989Z"
   },
   {
    "duration": 0,
    "start_time": "2022-08-17T15:36:37.075Z"
   },
   {
    "duration": 0,
    "start_time": "2022-08-17T15:36:37.076Z"
   },
   {
    "duration": 0,
    "start_time": "2022-08-17T15:36:37.077Z"
   },
   {
    "duration": 0,
    "start_time": "2022-08-17T15:36:37.078Z"
   },
   {
    "duration": 0,
    "start_time": "2022-08-17T15:36:37.079Z"
   },
   {
    "duration": 0,
    "start_time": "2022-08-17T15:36:37.080Z"
   },
   {
    "duration": 0,
    "start_time": "2022-08-17T15:36:37.081Z"
   },
   {
    "duration": 0,
    "start_time": "2022-08-17T15:36:37.082Z"
   },
   {
    "duration": 0,
    "start_time": "2022-08-17T15:36:37.083Z"
   },
   {
    "duration": 0,
    "start_time": "2022-08-17T15:36:37.084Z"
   },
   {
    "duration": 0,
    "start_time": "2022-08-17T15:36:37.085Z"
   },
   {
    "duration": 9,
    "start_time": "2022-08-17T15:36:41.499Z"
   },
   {
    "duration": 146,
    "start_time": "2022-08-17T15:37:09.153Z"
   },
   {
    "duration": 116,
    "start_time": "2022-08-17T15:37:15.051Z"
   },
   {
    "duration": 123,
    "start_time": "2022-08-17T15:37:16.083Z"
   },
   {
    "duration": 111,
    "start_time": "2022-08-17T15:37:17.594Z"
   },
   {
    "duration": 9,
    "start_time": "2022-08-17T15:37:19.157Z"
   },
   {
    "duration": 132,
    "start_time": "2022-08-17T15:37:28.779Z"
   },
   {
    "duration": 121,
    "start_time": "2022-08-17T15:37:29.229Z"
   },
   {
    "duration": 188,
    "start_time": "2022-08-17T15:37:29.409Z"
   },
   {
    "duration": 155,
    "start_time": "2022-08-17T15:37:29.812Z"
   },
   {
    "duration": 132,
    "start_time": "2022-08-17T15:37:30.171Z"
   },
   {
    "duration": 139,
    "start_time": "2022-08-17T15:37:30.498Z"
   },
   {
    "duration": 122,
    "start_time": "2022-08-17T15:37:30.833Z"
   },
   {
    "duration": 35,
    "start_time": "2022-08-17T15:37:32.759Z"
   },
   {
    "duration": 3,
    "start_time": "2022-08-17T15:37:35.027Z"
   },
   {
    "duration": 34,
    "start_time": "2022-08-17T15:37:38.707Z"
   },
   {
    "duration": 21,
    "start_time": "2022-08-17T15:37:49.806Z"
   },
   {
    "duration": 3,
    "start_time": "2022-08-17T15:37:50.970Z"
   },
   {
    "duration": 34,
    "start_time": "2022-08-17T15:37:52.763Z"
   },
   {
    "duration": 4,
    "start_time": "2022-08-17T15:38:39.800Z"
   },
   {
    "duration": 25,
    "start_time": "2022-08-17T15:38:42.518Z"
   },
   {
    "duration": 64,
    "start_time": "2022-08-17T15:45:51.289Z"
   },
   {
    "duration": 50,
    "start_time": "2022-08-17T15:45:56.453Z"
   },
   {
    "duration": 26,
    "start_time": "2022-08-17T15:46:02.815Z"
   },
   {
    "duration": 3,
    "start_time": "2022-08-17T15:46:04.231Z"
   },
   {
    "duration": 20,
    "start_time": "2022-08-17T15:46:05.769Z"
   },
   {
    "duration": 29,
    "start_time": "2022-08-17T17:06:13.785Z"
   },
   {
    "duration": 3,
    "start_time": "2022-08-17T17:06:14.641Z"
   },
   {
    "duration": 20,
    "start_time": "2022-08-17T17:06:16.591Z"
   },
   {
    "duration": 3,
    "start_time": "2022-08-17T17:06:31.659Z"
   },
   {
    "duration": 20,
    "start_time": "2022-08-17T17:06:34.059Z"
   },
   {
    "duration": 22,
    "start_time": "2022-08-17T17:06:44.709Z"
   },
   {
    "duration": 3,
    "start_time": "2022-08-17T17:06:45.425Z"
   },
   {
    "duration": 21,
    "start_time": "2022-08-17T17:06:47.338Z"
   },
   {
    "duration": 3,
    "start_time": "2022-08-17T17:07:33.640Z"
   },
   {
    "duration": 20,
    "start_time": "2022-08-17T17:07:36.835Z"
   },
   {
    "duration": 7,
    "start_time": "2022-08-17T17:07:51.669Z"
   },
   {
    "duration": 19,
    "start_time": "2022-08-17T17:07:53.175Z"
   },
   {
    "duration": 7,
    "start_time": "2022-08-17T17:08:06.109Z"
   },
   {
    "duration": 8,
    "start_time": "2022-08-17T17:08:13.753Z"
   },
   {
    "duration": 7,
    "start_time": "2022-08-17T17:08:16.969Z"
   },
   {
    "duration": 21,
    "start_time": "2022-08-17T17:08:18.252Z"
   },
   {
    "duration": 8,
    "start_time": "2022-08-17T17:08:25.865Z"
   },
   {
    "duration": 21,
    "start_time": "2022-08-17T17:08:28.297Z"
   },
   {
    "duration": 9,
    "start_time": "2022-08-17T17:08:30.803Z"
   },
   {
    "duration": 9,
    "start_time": "2022-08-17T17:08:31.117Z"
   },
   {
    "duration": 8,
    "start_time": "2022-08-17T17:08:31.440Z"
   },
   {
    "duration": 9,
    "start_time": "2022-08-17T17:08:31.779Z"
   },
   {
    "duration": 20,
    "start_time": "2022-08-17T17:08:33.095Z"
   },
   {
    "duration": 8,
    "start_time": "2022-08-17T17:09:03.034Z"
   },
   {
    "duration": 10,
    "start_time": "2022-08-17T17:09:03.630Z"
   },
   {
    "duration": 9,
    "start_time": "2022-08-17T17:09:04.101Z"
   },
   {
    "duration": 8,
    "start_time": "2022-08-17T17:09:04.697Z"
   },
   {
    "duration": 19,
    "start_time": "2022-08-17T17:09:06.375Z"
   },
   {
    "duration": 14,
    "start_time": "2022-08-17T17:12:21.679Z"
   },
   {
    "duration": 14,
    "start_time": "2022-08-17T17:12:30.321Z"
   },
   {
    "duration": 582,
    "start_time": "2022-08-17T17:14:04.569Z"
   },
   {
    "duration": 98,
    "start_time": "2022-08-17T17:14:05.153Z"
   },
   {
    "duration": 22,
    "start_time": "2022-08-17T17:14:05.252Z"
   },
   {
    "duration": 16,
    "start_time": "2022-08-17T17:14:05.276Z"
   },
   {
    "duration": 24,
    "start_time": "2022-08-17T17:14:05.293Z"
   },
   {
    "duration": 4,
    "start_time": "2022-08-17T17:14:05.319Z"
   },
   {
    "duration": 5,
    "start_time": "2022-08-17T17:14:05.324Z"
   },
   {
    "duration": 6,
    "start_time": "2022-08-17T17:14:05.331Z"
   },
   {
    "duration": 7,
    "start_time": "2022-08-17T17:14:05.338Z"
   },
   {
    "duration": 6,
    "start_time": "2022-08-17T17:14:05.348Z"
   },
   {
    "duration": 5,
    "start_time": "2022-08-17T17:14:05.356Z"
   },
   {
    "duration": 4,
    "start_time": "2022-08-17T17:14:05.362Z"
   },
   {
    "duration": 5,
    "start_time": "2022-08-17T17:14:05.412Z"
   },
   {
    "duration": 21,
    "start_time": "2022-08-17T17:14:05.419Z"
   },
   {
    "duration": 3,
    "start_time": "2022-08-17T17:14:05.442Z"
   },
   {
    "duration": 517,
    "start_time": "2022-08-17T17:14:05.446Z"
   },
   {
    "duration": 4,
    "start_time": "2022-08-17T17:14:05.965Z"
   },
   {
    "duration": 24,
    "start_time": "2022-08-17T17:14:05.971Z"
   },
   {
    "duration": 15,
    "start_time": "2022-08-17T17:14:05.997Z"
   },
   {
    "duration": 490,
    "start_time": "2022-08-17T17:14:06.014Z"
   },
   {
    "duration": 5,
    "start_time": "2022-08-17T17:14:06.506Z"
   },
   {
    "duration": 5,
    "start_time": "2022-08-17T17:14:06.513Z"
   },
   {
    "duration": 13,
    "start_time": "2022-08-17T17:14:06.520Z"
   },
   {
    "duration": 3,
    "start_time": "2022-08-17T17:14:06.534Z"
   },
   {
    "duration": 459,
    "start_time": "2022-08-17T17:14:06.538Z"
   },
   {
    "duration": 5,
    "start_time": "2022-08-17T17:14:06.999Z"
   },
   {
    "duration": 16,
    "start_time": "2022-08-17T17:14:07.010Z"
   },
   {
    "duration": 3,
    "start_time": "2022-08-17T17:14:07.029Z"
   },
   {
    "duration": 530,
    "start_time": "2022-08-17T17:14:07.033Z"
   },
   {
    "duration": 5,
    "start_time": "2022-08-17T17:14:07.564Z"
   },
   {
    "duration": 27,
    "start_time": "2022-08-17T17:14:07.570Z"
   },
   {
    "duration": 6,
    "start_time": "2022-08-17T17:14:07.598Z"
   },
   {
    "duration": 17,
    "start_time": "2022-08-17T17:14:07.605Z"
   },
   {
    "duration": 20,
    "start_time": "2022-08-17T17:14:07.623Z"
   },
   {
    "duration": 3,
    "start_time": "2022-08-17T17:14:07.645Z"
   },
   {
    "duration": 983,
    "start_time": "2022-08-17T17:14:07.649Z"
   },
   {
    "duration": 20,
    "start_time": "2022-08-17T17:14:08.633Z"
   },
   {
    "duration": 18,
    "start_time": "2022-08-17T17:14:08.655Z"
   },
   {
    "duration": 29,
    "start_time": "2022-08-17T17:14:08.674Z"
   },
   {
    "duration": 152,
    "start_time": "2022-08-17T17:14:08.704Z"
   },
   {
    "duration": 218,
    "start_time": "2022-08-17T17:14:08.858Z"
   },
   {
    "duration": 83,
    "start_time": "2022-08-17T17:14:09.077Z"
   },
   {
    "duration": 0,
    "start_time": "2022-08-17T17:14:09.161Z"
   },
   {
    "duration": 0,
    "start_time": "2022-08-17T17:14:09.162Z"
   },
   {
    "duration": 0,
    "start_time": "2022-08-17T17:14:09.163Z"
   },
   {
    "duration": 0,
    "start_time": "2022-08-17T17:14:09.164Z"
   },
   {
    "duration": 0,
    "start_time": "2022-08-17T17:14:09.165Z"
   },
   {
    "duration": 0,
    "start_time": "2022-08-17T17:14:09.165Z"
   },
   {
    "duration": 0,
    "start_time": "2022-08-17T17:14:09.166Z"
   },
   {
    "duration": 0,
    "start_time": "2022-08-17T17:14:09.167Z"
   },
   {
    "duration": 0,
    "start_time": "2022-08-17T17:14:09.168Z"
   },
   {
    "duration": 0,
    "start_time": "2022-08-17T17:14:09.169Z"
   },
   {
    "duration": 7,
    "start_time": "2022-08-17T17:14:11.997Z"
   },
   {
    "duration": 154,
    "start_time": "2022-08-17T17:14:28.705Z"
   },
   {
    "duration": 2,
    "start_time": "2022-08-17T17:14:37.322Z"
   },
   {
    "duration": 114,
    "start_time": "2022-08-17T17:14:37.326Z"
   },
   {
    "duration": 24,
    "start_time": "2022-08-17T17:14:37.442Z"
   },
   {
    "duration": 12,
    "start_time": "2022-08-17T17:14:37.468Z"
   },
   {
    "duration": 39,
    "start_time": "2022-08-17T17:14:37.482Z"
   },
   {
    "duration": 5,
    "start_time": "2022-08-17T17:14:37.522Z"
   },
   {
    "duration": 6,
    "start_time": "2022-08-17T17:14:37.528Z"
   },
   {
    "duration": 4,
    "start_time": "2022-08-17T17:14:37.535Z"
   },
   {
    "duration": 7,
    "start_time": "2022-08-17T17:14:37.541Z"
   },
   {
    "duration": 8,
    "start_time": "2022-08-17T17:14:37.549Z"
   },
   {
    "duration": 6,
    "start_time": "2022-08-17T17:14:37.559Z"
   },
   {
    "duration": 4,
    "start_time": "2022-08-17T17:14:37.566Z"
   },
   {
    "duration": 40,
    "start_time": "2022-08-17T17:14:37.572Z"
   },
   {
    "duration": 18,
    "start_time": "2022-08-17T17:14:37.614Z"
   },
   {
    "duration": 2,
    "start_time": "2022-08-17T17:14:37.634Z"
   },
   {
    "duration": 489,
    "start_time": "2022-08-17T17:14:37.637Z"
   },
   {
    "duration": 4,
    "start_time": "2022-08-17T17:14:38.127Z"
   },
   {
    "duration": 21,
    "start_time": "2022-08-17T17:14:38.133Z"
   },
   {
    "duration": 3,
    "start_time": "2022-08-17T17:14:38.156Z"
   },
   {
    "duration": 501,
    "start_time": "2022-08-17T17:14:38.160Z"
   },
   {
    "duration": 4,
    "start_time": "2022-08-17T17:14:38.663Z"
   },
   {
    "duration": 21,
    "start_time": "2022-08-17T17:14:38.668Z"
   },
   {
    "duration": 15,
    "start_time": "2022-08-17T17:14:38.691Z"
   },
   {
    "duration": 3,
    "start_time": "2022-08-17T17:14:38.708Z"
   },
   {
    "duration": 432,
    "start_time": "2022-08-17T17:14:38.712Z"
   },
   {
    "duration": 5,
    "start_time": "2022-08-17T17:14:39.146Z"
   },
   {
    "duration": 23,
    "start_time": "2022-08-17T17:14:39.153Z"
   },
   {
    "duration": 3,
    "start_time": "2022-08-17T17:14:39.178Z"
   },
   {
    "duration": 529,
    "start_time": "2022-08-17T17:14:39.182Z"
   },
   {
    "duration": 4,
    "start_time": "2022-08-17T17:14:39.712Z"
   },
   {
    "duration": 12,
    "start_time": "2022-08-17T17:14:39.718Z"
   },
   {
    "duration": 5,
    "start_time": "2022-08-17T17:14:39.731Z"
   },
   {
    "duration": 3,
    "start_time": "2022-08-17T17:14:39.738Z"
   },
   {
    "duration": 15,
    "start_time": "2022-08-17T17:14:39.742Z"
   },
   {
    "duration": 4,
    "start_time": "2022-08-17T17:14:39.758Z"
   },
   {
    "duration": 1017,
    "start_time": "2022-08-17T17:14:39.763Z"
   },
   {
    "duration": 20,
    "start_time": "2022-08-17T17:14:40.781Z"
   },
   {
    "duration": 23,
    "start_time": "2022-08-17T17:14:40.803Z"
   },
   {
    "duration": 12,
    "start_time": "2022-08-17T17:14:40.827Z"
   },
   {
    "duration": 142,
    "start_time": "2022-08-17T17:14:40.840Z"
   },
   {
    "duration": 216,
    "start_time": "2022-08-17T17:14:40.983Z"
   },
   {
    "duration": 16,
    "start_time": "2022-08-17T17:14:41.201Z"
   },
   {
    "duration": 0,
    "start_time": "2022-08-17T17:14:41.218Z"
   },
   {
    "duration": 0,
    "start_time": "2022-08-17T17:14:41.219Z"
   },
   {
    "duration": 0,
    "start_time": "2022-08-17T17:14:41.220Z"
   },
   {
    "duration": 125,
    "start_time": "2022-08-17T17:14:43.609Z"
   },
   {
    "duration": 119,
    "start_time": "2022-08-17T17:14:44.721Z"
   },
   {
    "duration": 127,
    "start_time": "2022-08-17T17:14:44.869Z"
   },
   {
    "duration": 131,
    "start_time": "2022-08-17T17:14:45.175Z"
   },
   {
    "duration": 122,
    "start_time": "2022-08-17T17:14:45.497Z"
   },
   {
    "duration": 124,
    "start_time": "2022-08-17T17:14:46.049Z"
   },
   {
    "duration": 114,
    "start_time": "2022-08-17T17:14:46.811Z"
   },
   {
    "duration": 8,
    "start_time": "2022-08-17T17:14:49.193Z"
   },
   {
    "duration": 214,
    "start_time": "2022-08-17T17:14:50.313Z"
   },
   {
    "duration": 20,
    "start_time": "2022-08-17T17:17:12.585Z"
   },
   {
    "duration": 573,
    "start_time": "2022-08-17T17:18:59.470Z"
   },
   {
    "duration": 102,
    "start_time": "2022-08-17T17:19:00.045Z"
   },
   {
    "duration": 30,
    "start_time": "2022-08-17T17:19:00.150Z"
   },
   {
    "duration": 29,
    "start_time": "2022-08-17T17:19:00.183Z"
   },
   {
    "duration": 19,
    "start_time": "2022-08-17T17:19:00.214Z"
   },
   {
    "duration": 10,
    "start_time": "2022-08-17T17:19:00.234Z"
   },
   {
    "duration": 23,
    "start_time": "2022-08-17T17:19:00.245Z"
   },
   {
    "duration": 30,
    "start_time": "2022-08-17T17:19:00.270Z"
   },
   {
    "duration": 24,
    "start_time": "2022-08-17T17:19:00.301Z"
   },
   {
    "duration": 17,
    "start_time": "2022-08-17T17:19:00.328Z"
   },
   {
    "duration": 6,
    "start_time": "2022-08-17T17:19:00.347Z"
   },
   {
    "duration": 8,
    "start_time": "2022-08-17T17:19:00.354Z"
   },
   {
    "duration": 13,
    "start_time": "2022-08-17T17:19:00.363Z"
   },
   {
    "duration": 20,
    "start_time": "2022-08-17T17:19:00.378Z"
   },
   {
    "duration": 3,
    "start_time": "2022-08-17T17:19:00.399Z"
   },
   {
    "duration": 551,
    "start_time": "2022-08-17T17:19:00.404Z"
   },
   {
    "duration": 5,
    "start_time": "2022-08-17T17:19:00.956Z"
   },
   {
    "duration": 27,
    "start_time": "2022-08-17T17:19:00.962Z"
   },
   {
    "duration": 2,
    "start_time": "2022-08-17T17:19:00.991Z"
   },
   {
    "duration": 526,
    "start_time": "2022-08-17T17:19:00.995Z"
   },
   {
    "duration": 4,
    "start_time": "2022-08-17T17:19:01.522Z"
   },
   {
    "duration": 9,
    "start_time": "2022-08-17T17:19:01.528Z"
   },
   {
    "duration": 28,
    "start_time": "2022-08-17T17:19:01.539Z"
   },
   {
    "duration": 4,
    "start_time": "2022-08-17T17:19:01.568Z"
   },
   {
    "duration": 439,
    "start_time": "2022-08-17T17:19:01.574Z"
   },
   {
    "duration": 5,
    "start_time": "2022-08-17T17:19:02.015Z"
   },
   {
    "duration": 20,
    "start_time": "2022-08-17T17:19:02.021Z"
   },
   {
    "duration": 3,
    "start_time": "2022-08-17T17:19:02.045Z"
   },
   {
    "duration": 535,
    "start_time": "2022-08-17T17:19:02.049Z"
   },
   {
    "duration": 9,
    "start_time": "2022-08-17T17:19:02.585Z"
   },
   {
    "duration": 25,
    "start_time": "2022-08-17T17:19:02.595Z"
   },
   {
    "duration": 6,
    "start_time": "2022-08-17T17:19:02.622Z"
   },
   {
    "duration": 9,
    "start_time": "2022-08-17T17:19:02.630Z"
   },
   {
    "duration": 19,
    "start_time": "2022-08-17T17:19:02.641Z"
   },
   {
    "duration": 4,
    "start_time": "2022-08-17T17:19:02.661Z"
   },
   {
    "duration": 1067,
    "start_time": "2022-08-17T17:19:02.667Z"
   },
   {
    "duration": 21,
    "start_time": "2022-08-17T17:19:03.736Z"
   },
   {
    "duration": 64,
    "start_time": "2022-08-17T17:19:03.758Z"
   },
   {
    "duration": 19,
    "start_time": "2022-08-17T17:19:03.823Z"
   },
   {
    "duration": 160,
    "start_time": "2022-08-17T17:19:03.844Z"
   },
   {
    "duration": 221,
    "start_time": "2022-08-17T17:19:04.010Z"
   },
   {
    "duration": 90,
    "start_time": "2022-08-17T17:19:04.233Z"
   },
   {
    "duration": 0,
    "start_time": "2022-08-17T17:19:04.324Z"
   },
   {
    "duration": 0,
    "start_time": "2022-08-17T17:19:04.326Z"
   },
   {
    "duration": 0,
    "start_time": "2022-08-17T17:19:04.327Z"
   },
   {
    "duration": 0,
    "start_time": "2022-08-17T17:19:04.328Z"
   },
   {
    "duration": 0,
    "start_time": "2022-08-17T17:19:04.329Z"
   },
   {
    "duration": 0,
    "start_time": "2022-08-17T17:19:04.330Z"
   },
   {
    "duration": 0,
    "start_time": "2022-08-17T17:19:04.331Z"
   },
   {
    "duration": 0,
    "start_time": "2022-08-17T17:19:04.332Z"
   },
   {
    "duration": 0,
    "start_time": "2022-08-17T17:19:04.333Z"
   },
   {
    "duration": 0,
    "start_time": "2022-08-17T17:19:04.334Z"
   },
   {
    "duration": 136,
    "start_time": "2022-08-17T17:19:09.928Z"
   },
   {
    "duration": 118,
    "start_time": "2022-08-17T17:19:10.338Z"
   },
   {
    "duration": 128,
    "start_time": "2022-08-17T17:19:10.512Z"
   },
   {
    "duration": 134,
    "start_time": "2022-08-17T17:19:10.928Z"
   },
   {
    "duration": 115,
    "start_time": "2022-08-17T17:19:11.273Z"
   },
   {
    "duration": 125,
    "start_time": "2022-08-17T17:19:11.622Z"
   },
   {
    "duration": 164,
    "start_time": "2022-08-17T17:19:11.966Z"
   },
   {
    "duration": 12,
    "start_time": "2022-08-17T17:19:14.844Z"
   },
   {
    "duration": 19,
    "start_time": "2022-08-17T17:19:18.624Z"
   },
   {
    "duration": 116,
    "start_time": "2022-08-17T17:19:50.038Z"
   },
   {
    "duration": 148,
    "start_time": "2022-08-17T17:19:51.104Z"
   },
   {
    "duration": 158,
    "start_time": "2022-08-17T17:19:51.935Z"
   },
   {
    "duration": 164,
    "start_time": "2022-08-17T17:19:52.647Z"
   },
   {
    "duration": 102,
    "start_time": "2022-08-17T17:19:53.194Z"
   },
   {
    "duration": 7,
    "start_time": "2022-08-17T17:19:54.022Z"
   },
   {
    "duration": 160,
    "start_time": "2022-08-17T17:19:54.330Z"
   },
   {
    "duration": 183,
    "start_time": "2022-08-17T17:20:13.360Z"
   },
   {
    "duration": 124,
    "start_time": "2022-08-17T17:20:19.238Z"
   },
   {
    "duration": 179,
    "start_time": "2022-08-17T17:20:25.620Z"
   },
   {
    "duration": 147,
    "start_time": "2022-08-17T17:20:33.564Z"
   },
   {
    "duration": 133,
    "start_time": "2022-08-17T17:20:44.669Z"
   },
   {
    "duration": 120,
    "start_time": "2022-08-17T17:20:48.956Z"
   },
   {
    "duration": 119,
    "start_time": "2022-08-17T17:20:54.084Z"
   },
   {
    "duration": 137,
    "start_time": "2022-08-17T17:20:58.614Z"
   },
   {
    "duration": 115,
    "start_time": "2022-08-17T17:21:03.466Z"
   },
   {
    "duration": 201,
    "start_time": "2022-08-17T17:21:25.826Z"
   },
   {
    "duration": 116,
    "start_time": "2022-08-17T17:21:45.471Z"
   },
   {
    "duration": 276,
    "start_time": "2022-08-17T17:21:53.644Z"
   },
   {
    "duration": 126,
    "start_time": "2022-08-17T17:22:00.007Z"
   },
   {
    "duration": 108,
    "start_time": "2022-08-17T17:50:45.304Z"
   },
   {
    "duration": 115,
    "start_time": "2022-08-17T17:50:51.531Z"
   },
   {
    "duration": 121,
    "start_time": "2022-08-17T17:51:01.412Z"
   },
   {
    "duration": 14,
    "start_time": "2022-08-17T17:51:50.779Z"
   },
   {
    "duration": 146,
    "start_time": "2022-08-17T17:51:57.233Z"
   },
   {
    "duration": 168,
    "start_time": "2022-08-17T17:51:59.624Z"
   },
   {
    "duration": 117,
    "start_time": "2022-08-17T17:51:59.975Z"
   },
   {
    "duration": 115,
    "start_time": "2022-08-17T17:52:00.308Z"
   },
   {
    "duration": 127,
    "start_time": "2022-08-17T17:52:11.103Z"
   },
   {
    "duration": 208,
    "start_time": "2022-08-17T17:54:44.662Z"
   },
   {
    "duration": 814,
    "start_time": "2022-08-17T20:26:49.350Z"
   },
   {
    "duration": 174,
    "start_time": "2022-08-17T20:26:50.167Z"
   },
   {
    "duration": 24,
    "start_time": "2022-08-17T20:26:50.343Z"
   },
   {
    "duration": 31,
    "start_time": "2022-08-17T20:26:50.369Z"
   },
   {
    "duration": 26,
    "start_time": "2022-08-17T20:26:50.402Z"
   },
   {
    "duration": 24,
    "start_time": "2022-08-17T20:26:50.431Z"
   },
   {
    "duration": 23,
    "start_time": "2022-08-17T20:26:50.457Z"
   },
   {
    "duration": 17,
    "start_time": "2022-08-17T20:26:50.482Z"
   },
   {
    "duration": 38,
    "start_time": "2022-08-17T20:26:50.501Z"
   },
   {
    "duration": 38,
    "start_time": "2022-08-17T20:26:50.543Z"
   },
   {
    "duration": 35,
    "start_time": "2022-08-17T20:26:50.583Z"
   },
   {
    "duration": 18,
    "start_time": "2022-08-17T20:26:50.619Z"
   },
   {
    "duration": 22,
    "start_time": "2022-08-17T20:26:50.639Z"
   },
   {
    "duration": 54,
    "start_time": "2022-08-17T20:26:50.663Z"
   },
   {
    "duration": 9,
    "start_time": "2022-08-17T20:26:50.719Z"
   },
   {
    "duration": 571,
    "start_time": "2022-08-17T20:26:50.730Z"
   },
   {
    "duration": 15,
    "start_time": "2022-08-17T20:26:51.302Z"
   },
   {
    "duration": 27,
    "start_time": "2022-08-17T20:26:51.318Z"
   },
   {
    "duration": 3,
    "start_time": "2022-08-17T20:26:51.347Z"
   },
   {
    "duration": 532,
    "start_time": "2022-08-17T20:26:51.352Z"
   },
   {
    "duration": 6,
    "start_time": "2022-08-17T20:26:51.887Z"
   },
   {
    "duration": 9,
    "start_time": "2022-08-17T20:26:51.904Z"
   },
   {
    "duration": 23,
    "start_time": "2022-08-17T20:26:51.917Z"
   },
   {
    "duration": 3,
    "start_time": "2022-08-17T20:26:51.942Z"
   },
   {
    "duration": 486,
    "start_time": "2022-08-17T20:26:51.946Z"
   },
   {
    "duration": 6,
    "start_time": "2022-08-17T20:26:52.434Z"
   },
   {
    "duration": 25,
    "start_time": "2022-08-17T20:26:52.442Z"
   },
   {
    "duration": 3,
    "start_time": "2022-08-17T20:26:52.471Z"
   },
   {
    "duration": 556,
    "start_time": "2022-08-17T20:26:52.476Z"
   },
   {
    "duration": 5,
    "start_time": "2022-08-17T20:26:53.034Z"
   },
   {
    "duration": 14,
    "start_time": "2022-08-17T20:26:53.041Z"
   },
   {
    "duration": 8,
    "start_time": "2022-08-17T20:26:53.057Z"
   },
   {
    "duration": 4,
    "start_time": "2022-08-17T20:26:53.066Z"
   },
   {
    "duration": 45,
    "start_time": "2022-08-17T20:26:53.071Z"
   },
   {
    "duration": 4,
    "start_time": "2022-08-17T20:26:53.118Z"
   },
   {
    "duration": 1131,
    "start_time": "2022-08-17T20:26:53.124Z"
   },
   {
    "duration": 23,
    "start_time": "2022-08-17T20:26:54.257Z"
   },
   {
    "duration": 41,
    "start_time": "2022-08-17T20:26:54.282Z"
   },
   {
    "duration": 15,
    "start_time": "2022-08-17T20:26:54.325Z"
   },
   {
    "duration": 210,
    "start_time": "2022-08-17T20:26:54.341Z"
   },
   {
    "duration": 296,
    "start_time": "2022-08-17T20:26:54.554Z"
   },
   {
    "duration": 204,
    "start_time": "2022-08-17T20:26:54.852Z"
   },
   {
    "duration": 241,
    "start_time": "2022-08-17T20:26:55.058Z"
   },
   {
    "duration": 236,
    "start_time": "2022-08-17T20:26:55.301Z"
   },
   {
    "duration": 155,
    "start_time": "2022-08-17T20:26:55.539Z"
   },
   {
    "duration": 155,
    "start_time": "2022-08-17T20:26:55.703Z"
   },
   {
    "duration": 153,
    "start_time": "2022-08-17T20:26:55.859Z"
   },
   {
    "duration": 214,
    "start_time": "2022-08-17T20:26:56.019Z"
   },
   {
    "duration": 183,
    "start_time": "2022-08-17T20:26:56.235Z"
   },
   {
    "duration": 178,
    "start_time": "2022-08-17T20:26:56.420Z"
   },
   {
    "duration": 160,
    "start_time": "2022-08-17T20:26:56.600Z"
   },
   {
    "duration": 164,
    "start_time": "2022-08-17T20:26:56.762Z"
   },
   {
    "duration": 13,
    "start_time": "2022-08-17T20:26:56.928Z"
   },
   {
    "duration": 174,
    "start_time": "2022-08-17T20:26:56.943Z"
   },
   {
    "duration": 190,
    "start_time": "2022-08-17T20:26:57.124Z"
   },
   {
    "duration": 202,
    "start_time": "2022-08-17T20:26:57.317Z"
   },
   {
    "duration": 168,
    "start_time": "2022-08-17T20:26:57.521Z"
   },
   {
    "duration": 144,
    "start_time": "2022-08-17T20:26:57.690Z"
   },
   {
    "duration": 8,
    "start_time": "2022-08-17T20:26:57.836Z"
   },
   {
    "duration": 226,
    "start_time": "2022-08-17T20:26:57.846Z"
   },
   {
    "duration": 38,
    "start_time": "2022-08-17T20:26:58.073Z"
   },
   {
    "duration": 17,
    "start_time": "2022-08-17T20:26:58.114Z"
   },
   {
    "duration": 1897,
    "start_time": "2022-08-17T20:26:58.133Z"
   },
   {
    "duration": 104,
    "start_time": "2022-08-17T20:27:00.032Z"
   },
   {
    "duration": 244,
    "start_time": "2022-08-17T20:27:00.138Z"
   },
   {
    "duration": 264,
    "start_time": "2022-08-17T20:27:00.384Z"
   },
   {
    "duration": 267,
    "start_time": "2022-08-17T20:27:00.649Z"
   },
   {
    "duration": 139,
    "start_time": "2022-08-17T20:27:00.919Z"
   },
   {
    "duration": 22,
    "start_time": "2022-08-17T20:27:26.873Z"
   },
   {
    "duration": 52,
    "start_time": "2022-08-17T20:30:55.917Z"
   },
   {
    "duration": 549,
    "start_time": "2022-08-17T20:31:01.867Z"
   },
   {
    "duration": 404,
    "start_time": "2022-08-17T20:31:15.228Z"
   },
   {
    "duration": 324,
    "start_time": "2022-08-17T20:36:11.431Z"
   },
   {
    "duration": 208,
    "start_time": "2022-08-17T20:36:18.183Z"
   },
   {
    "duration": 241,
    "start_time": "2022-08-17T20:40:00.751Z"
   },
   {
    "duration": 195,
    "start_time": "2022-08-17T20:50:57.367Z"
   },
   {
    "duration": 7328,
    "start_time": "2022-08-17T20:53:39.353Z"
   },
   {
    "duration": 186,
    "start_time": "2022-08-17T20:53:56.416Z"
   },
   {
    "duration": 326,
    "start_time": "2022-08-17T20:54:00.519Z"
   },
   {
    "duration": 176,
    "start_time": "2022-08-17T20:58:55.740Z"
   },
   {
    "duration": 226,
    "start_time": "2022-08-17T20:59:14.277Z"
   },
   {
    "duration": 269,
    "start_time": "2022-08-17T20:59:39.479Z"
   },
   {
    "duration": 308,
    "start_time": "2022-08-17T20:59:51.187Z"
   },
   {
    "duration": 191,
    "start_time": "2022-08-17T21:02:27.703Z"
   },
   {
    "duration": 151,
    "start_time": "2022-08-17T21:03:07.359Z"
   },
   {
    "duration": 178,
    "start_time": "2022-08-17T21:03:08.206Z"
   },
   {
    "duration": 183,
    "start_time": "2022-08-17T21:03:08.525Z"
   },
   {
    "duration": 164,
    "start_time": "2022-08-17T21:03:08.785Z"
   },
   {
    "duration": 133,
    "start_time": "2022-08-17T21:03:09.390Z"
   },
   {
    "duration": 8,
    "start_time": "2022-08-17T21:03:09.807Z"
   },
   {
    "duration": 208,
    "start_time": "2022-08-17T21:03:09.989Z"
   },
   {
    "duration": 18,
    "start_time": "2022-08-17T21:03:11.109Z"
   },
   {
    "duration": 21,
    "start_time": "2022-08-17T21:03:11.276Z"
   },
   {
    "duration": 1834,
    "start_time": "2022-08-17T21:03:11.845Z"
   },
   {
    "duration": 66,
    "start_time": "2022-08-17T21:03:13.681Z"
   },
   {
    "duration": 233,
    "start_time": "2022-08-17T21:03:13.749Z"
   },
   {
    "duration": 238,
    "start_time": "2022-08-17T21:03:13.984Z"
   },
   {
    "duration": 243,
    "start_time": "2022-08-17T21:03:14.224Z"
   },
   {
    "duration": 136,
    "start_time": "2022-08-17T21:03:14.469Z"
   },
   {
    "duration": 311,
    "start_time": "2022-08-17T21:03:34.045Z"
   },
   {
    "duration": 265,
    "start_time": "2022-08-17T21:03:44.865Z"
   },
   {
    "duration": 1697,
    "start_time": "2022-08-17T21:10:46.123Z"
   },
   {
    "duration": 1723,
    "start_time": "2022-08-17T21:10:56.610Z"
   },
   {
    "duration": 257,
    "start_time": "2022-08-17T21:14:05.266Z"
   },
   {
    "duration": 236,
    "start_time": "2022-08-17T21:14:12.829Z"
   },
   {
    "duration": 286,
    "start_time": "2022-08-17T21:14:21.277Z"
   },
   {
    "duration": 922,
    "start_time": "2022-08-18T10:13:21.264Z"
   },
   {
    "duration": 208,
    "start_time": "2022-08-18T10:13:22.188Z"
   },
   {
    "duration": 46,
    "start_time": "2022-08-18T10:13:22.397Z"
   },
   {
    "duration": 18,
    "start_time": "2022-08-18T10:13:22.445Z"
   },
   {
    "duration": 16,
    "start_time": "2022-08-18T10:13:22.465Z"
   },
   {
    "duration": 9,
    "start_time": "2022-08-18T10:13:22.482Z"
   },
   {
    "duration": 10,
    "start_time": "2022-08-18T10:13:22.515Z"
   },
   {
    "duration": 14,
    "start_time": "2022-08-18T10:13:22.527Z"
   },
   {
    "duration": 10,
    "start_time": "2022-08-18T10:13:22.542Z"
   },
   {
    "duration": 6,
    "start_time": "2022-08-18T10:13:22.555Z"
   },
   {
    "duration": 5,
    "start_time": "2022-08-18T10:13:22.562Z"
   },
   {
    "duration": 7,
    "start_time": "2022-08-18T10:13:22.569Z"
   },
   {
    "duration": 26,
    "start_time": "2022-08-18T10:13:22.578Z"
   },
   {
    "duration": 27,
    "start_time": "2022-08-18T10:13:22.612Z"
   },
   {
    "duration": 3,
    "start_time": "2022-08-18T10:13:22.641Z"
   },
   {
    "duration": 549,
    "start_time": "2022-08-18T10:13:22.645Z"
   },
   {
    "duration": 10,
    "start_time": "2022-08-18T10:13:23.195Z"
   },
   {
    "duration": 39,
    "start_time": "2022-08-18T10:13:23.212Z"
   },
   {
    "duration": 3,
    "start_time": "2022-08-18T10:13:23.252Z"
   },
   {
    "duration": 526,
    "start_time": "2022-08-18T10:13:23.256Z"
   },
   {
    "duration": 6,
    "start_time": "2022-08-18T10:13:23.784Z"
   },
   {
    "duration": 43,
    "start_time": "2022-08-18T10:13:23.791Z"
   },
   {
    "duration": 19,
    "start_time": "2022-08-18T10:13:23.836Z"
   },
   {
    "duration": 3,
    "start_time": "2022-08-18T10:13:23.857Z"
   },
   {
    "duration": 485,
    "start_time": "2022-08-18T10:13:23.862Z"
   },
   {
    "duration": 7,
    "start_time": "2022-08-18T10:13:24.349Z"
   },
   {
    "duration": 19,
    "start_time": "2022-08-18T10:13:24.357Z"
   },
   {
    "duration": 3,
    "start_time": "2022-08-18T10:13:24.381Z"
   },
   {
    "duration": 555,
    "start_time": "2022-08-18T10:13:24.400Z"
   },
   {
    "duration": 6,
    "start_time": "2022-08-18T10:13:24.957Z"
   },
   {
    "duration": 14,
    "start_time": "2022-08-18T10:13:24.964Z"
   },
   {
    "duration": 26,
    "start_time": "2022-08-18T10:13:24.979Z"
   },
   {
    "duration": 15,
    "start_time": "2022-08-18T10:13:25.017Z"
   },
   {
    "duration": 26,
    "start_time": "2022-08-18T10:13:25.034Z"
   },
   {
    "duration": 3,
    "start_time": "2022-08-18T10:13:25.062Z"
   },
   {
    "duration": 1084,
    "start_time": "2022-08-18T10:13:25.067Z"
   },
   {
    "duration": 19,
    "start_time": "2022-08-18T10:13:26.152Z"
   },
   {
    "duration": 39,
    "start_time": "2022-08-18T10:13:26.173Z"
   },
   {
    "duration": 19,
    "start_time": "2022-08-18T10:13:26.215Z"
   },
   {
    "duration": 176,
    "start_time": "2022-08-18T10:13:26.235Z"
   },
   {
    "duration": 252,
    "start_time": "2022-08-18T10:13:26.425Z"
   },
   {
    "duration": 284,
    "start_time": "2022-08-18T10:13:26.679Z"
   },
   {
    "duration": 227,
    "start_time": "2022-08-18T10:13:26.965Z"
   },
   {
    "duration": 246,
    "start_time": "2022-08-18T10:13:27.194Z"
   },
   {
    "duration": 216,
    "start_time": "2022-08-18T10:13:27.442Z"
   },
   {
    "duration": 214,
    "start_time": "2022-08-18T10:13:27.659Z"
   },
   {
    "duration": 157,
    "start_time": "2022-08-18T10:13:27.875Z"
   },
   {
    "duration": 149,
    "start_time": "2022-08-18T10:13:28.034Z"
   },
   {
    "duration": 166,
    "start_time": "2022-08-18T10:13:28.185Z"
   },
   {
    "duration": 130,
    "start_time": "2022-08-18T10:13:28.353Z"
   },
   {
    "duration": 174,
    "start_time": "2022-08-18T10:13:28.485Z"
   },
   {
    "duration": 132,
    "start_time": "2022-08-18T10:13:28.661Z"
   },
   {
    "duration": 27,
    "start_time": "2022-08-18T10:13:28.794Z"
   },
   {
    "duration": 26,
    "start_time": "2022-08-18T10:13:28.822Z"
   },
   {
    "duration": 141,
    "start_time": "2022-08-18T10:13:28.850Z"
   },
   {
    "duration": 184,
    "start_time": "2022-08-18T10:13:28.992Z"
   },
   {
    "duration": 190,
    "start_time": "2022-08-18T10:13:29.178Z"
   },
   {
    "duration": 165,
    "start_time": "2022-08-18T10:13:29.370Z"
   },
   {
    "duration": 139,
    "start_time": "2022-08-18T10:13:29.537Z"
   },
   {
    "duration": 7,
    "start_time": "2022-08-18T10:13:29.678Z"
   },
   {
    "duration": 345,
    "start_time": "2022-08-18T10:13:29.687Z"
   },
   {
    "duration": 22,
    "start_time": "2022-08-18T10:13:30.034Z"
   },
   {
    "duration": 16,
    "start_time": "2022-08-18T10:13:30.058Z"
   },
   {
    "duration": 1774,
    "start_time": "2022-08-18T10:13:30.075Z"
   },
   {
    "duration": 108,
    "start_time": "2022-08-18T10:13:31.851Z"
   },
   {
    "duration": 233,
    "start_time": "2022-08-18T10:13:31.960Z"
   },
   {
    "duration": 304,
    "start_time": "2022-08-18T10:13:32.194Z"
   },
   {
    "duration": 251,
    "start_time": "2022-08-18T10:13:32.505Z"
   },
   {
    "duration": 128,
    "start_time": "2022-08-18T10:13:32.757Z"
   },
   {
    "duration": 138,
    "start_time": "2022-08-18T10:14:26.533Z"
   },
   {
    "duration": 105,
    "start_time": "2022-08-18T10:17:41.532Z"
   }
  ],
  "kernelspec": {
   "display_name": "Python 3 (ipykernel)",
   "language": "python",
   "name": "python3"
  },
  "language_info": {
   "codemirror_mode": {
    "name": "ipython",
    "version": 3
   },
   "file_extension": ".py",
   "mimetype": "text/x-python",
   "name": "python",
   "nbconvert_exporter": "python",
   "pygments_lexer": "ipython3",
   "version": "3.9.5"
  },
  "toc": {
   "base_numbering": 1,
   "nav_menu": {},
   "number_sections": true,
   "sideBar": true,
   "skip_h1_title": false,
   "title_cell": "Table of Contents",
   "title_sidebar": "Contents",
   "toc_cell": false,
   "toc_position": {
    "height": "calc(100% - 180px)",
    "left": "10px",
    "top": "150px",
    "width": "229px"
   },
   "toc_section_display": true,
   "toc_window_display": true
  }
 },
 "nbformat": 4,
 "nbformat_minor": 2
}
